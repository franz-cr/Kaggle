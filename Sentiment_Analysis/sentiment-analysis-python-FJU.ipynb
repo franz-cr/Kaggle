{
 "cells": [
  {
   "cell_type": "markdown",
   "id": "23de7c39-6142-4714-8c42-9e7cfb7c3c14",
   "metadata": {},
   "source": [
    "# Sentiment Analysis\n",
    "\n",
    "YouTube Tutorial: [Python Sentiment Analysis](https://www.youtube.com/watch?v=QpzMWQvxXWk)"
   ]
  },
  {
   "cell_type": "code",
   "execution_count": 1,
   "id": "78135f72-959a-4032-995a-e0d6567df5ec",
   "metadata": {},
   "outputs": [],
   "source": [
    "import numpy as np\n",
    "import pandas as pd \n",
    "import matplotlib.pyplot as plt\n",
    "import seaborn as sns \n",
    "import nltk\n",
    "\n",
    "plt.style.use('ggplot')"
   ]
  },
  {
   "cell_type": "code",
   "execution_count": 2,
   "id": "d18ce3fd-a349-48e5-add6-60e57aac20b2",
   "metadata": {},
   "outputs": [],
   "source": [
    "# Read data from csv file \n",
    "dfReviewsV0 = pd.read_csv('../Sentiment_Analysis/Reviews.csv')"
   ]
  },
  {
   "cell_type": "code",
   "execution_count": 3,
   "id": "cdda35dc-d770-47c2-a249-92d059a05a8c",
   "metadata": {},
   "outputs": [
    {
     "data": {
      "text/html": [
       "<div>\n",
       "<style scoped>\n",
       "    .dataframe tbody tr th:only-of-type {\n",
       "        vertical-align: middle;\n",
       "    }\n",
       "\n",
       "    .dataframe tbody tr th {\n",
       "        vertical-align: top;\n",
       "    }\n",
       "\n",
       "    .dataframe thead th {\n",
       "        text-align: right;\n",
       "    }\n",
       "</style>\n",
       "<table border=\"1\" class=\"dataframe\">\n",
       "  <thead>\n",
       "    <tr style=\"text-align: right;\">\n",
       "      <th></th>\n",
       "      <th>Id</th>\n",
       "      <th>ProductId</th>\n",
       "      <th>UserId</th>\n",
       "      <th>ProfileName</th>\n",
       "      <th>HelpfulnessNumerator</th>\n",
       "      <th>HelpfulnessDenominator</th>\n",
       "      <th>Score</th>\n",
       "      <th>Time</th>\n",
       "      <th>Summary</th>\n",
       "      <th>Text</th>\n",
       "    </tr>\n",
       "  </thead>\n",
       "  <tbody>\n",
       "    <tr>\n",
       "      <th>411666</th>\n",
       "      <td>411667</td>\n",
       "      <td>B001D6KH8K</td>\n",
       "      <td>A2NJRS0VGMV9NI</td>\n",
       "      <td>R. Baker</td>\n",
       "      <td>2</td>\n",
       "      <td>4</td>\n",
       "      <td>5</td>\n",
       "      <td>1255564800</td>\n",
       "      <td>Gourmet Egg Nog is Great!</td>\n",
       "      <td>This concentrated Egg Nog Extract is difficult...</td>\n",
       "    </tr>\n",
       "    <tr>\n",
       "      <th>96135</th>\n",
       "      <td>96136</td>\n",
       "      <td>B004HOLD4W</td>\n",
       "      <td>A2L4CXG23Z4U3U</td>\n",
       "      <td>BoWiiVille</td>\n",
       "      <td>0</td>\n",
       "      <td>0</td>\n",
       "      <td>5</td>\n",
       "      <td>1333497600</td>\n",
       "      <td>Best flavor and best price of any Blue Diamond...</td>\n",
       "      <td>The flavor of these is just amazing. They are ...</td>\n",
       "    </tr>\n",
       "    <tr>\n",
       "      <th>108501</th>\n",
       "      <td>108502</td>\n",
       "      <td>B0030VBQGS</td>\n",
       "      <td>A2XWFSMXJ1RR0R</td>\n",
       "      <td>Mel M.</td>\n",
       "      <td>1</td>\n",
       "      <td>1</td>\n",
       "      <td>5</td>\n",
       "      <td>1304467200</td>\n",
       "      <td>Best price for organic pouched pears</td>\n",
       "      <td>If you need the convenience of this kind of po...</td>\n",
       "    </tr>\n",
       "    <tr>\n",
       "      <th>359042</th>\n",
       "      <td>359043</td>\n",
       "      <td>B003CIBPN8</td>\n",
       "      <td>A3B9QZNGAOZSXH</td>\n",
       "      <td>S. B. Simkins</td>\n",
       "      <td>1</td>\n",
       "      <td>1</td>\n",
       "      <td>1</td>\n",
       "      <td>1315267200</td>\n",
       "      <td>DISGUSTING!</td>\n",
       "      <td>This is so gross.  Zico should be ashamed!&lt;br ...</td>\n",
       "    </tr>\n",
       "    <tr>\n",
       "      <th>38517</th>\n",
       "      <td>38518</td>\n",
       "      <td>B004S036D6</td>\n",
       "      <td>A1N655X9X7C6QY</td>\n",
       "      <td>C. Cook \"LIVE..........LOVE........AND..........</td>\n",
       "      <td>6</td>\n",
       "      <td>7</td>\n",
       "      <td>4</td>\n",
       "      <td>1322524800</td>\n",
       "      <td>I LOVE the stuff</td>\n",
       "      <td>What can I really say about this 25-ounce Horm...</td>\n",
       "    </tr>\n",
       "    <tr>\n",
       "      <th>300132</th>\n",
       "      <td>300133</td>\n",
       "      <td>B0029JIBQK</td>\n",
       "      <td>A1HA8XN2ES69C</td>\n",
       "      <td>A. Crain \"texas shopper\"</td>\n",
       "      <td>2</td>\n",
       "      <td>2</td>\n",
       "      <td>5</td>\n",
       "      <td>1318464000</td>\n",
       "      <td>Not as advertised</td>\n",
       "      <td>The product description said 6 packages of Dar...</td>\n",
       "    </tr>\n",
       "    <tr>\n",
       "      <th>424678</th>\n",
       "      <td>424679</td>\n",
       "      <td>B00494HZ42</td>\n",
       "      <td>A15G7OC6BI9Y64</td>\n",
       "      <td>Winfield S. Danielson \"Win\"</td>\n",
       "      <td>0</td>\n",
       "      <td>0</td>\n",
       "      <td>4</td>\n",
       "      <td>1305936000</td>\n",
       "      <td>Our Choice</td>\n",
       "      <td>Of the reasonably priced dry cat foods, Nutro ...</td>\n",
       "    </tr>\n",
       "    <tr>\n",
       "      <th>423815</th>\n",
       "      <td>423816</td>\n",
       "      <td>B0036ZLUI2</td>\n",
       "      <td>A3A079RFXJCCCJ</td>\n",
       "      <td>Adriene N. Henderson \"adriene\"</td>\n",
       "      <td>0</td>\n",
       "      <td>0</td>\n",
       "      <td>4</td>\n",
       "      <td>1338854400</td>\n",
       "      <td>No Complaints</td>\n",
       "      <td>I'm making perfect Vietnamese style coffee wit...</td>\n",
       "    </tr>\n",
       "  </tbody>\n",
       "</table>\n",
       "</div>"
      ],
      "text/plain": [
       "            Id   ProductId          UserId  \\\n",
       "411666  411667  B001D6KH8K  A2NJRS0VGMV9NI   \n",
       "96135    96136  B004HOLD4W  A2L4CXG23Z4U3U   \n",
       "108501  108502  B0030VBQGS  A2XWFSMXJ1RR0R   \n",
       "359042  359043  B003CIBPN8  A3B9QZNGAOZSXH   \n",
       "38517    38518  B004S036D6  A1N655X9X7C6QY   \n",
       "300132  300133  B0029JIBQK   A1HA8XN2ES69C   \n",
       "424678  424679  B00494HZ42  A15G7OC6BI9Y64   \n",
       "423815  423816  B0036ZLUI2  A3A079RFXJCCCJ   \n",
       "\n",
       "                                             ProfileName  \\\n",
       "411666                                          R. Baker   \n",
       "96135                                         BoWiiVille   \n",
       "108501                                            Mel M.   \n",
       "359042                                     S. B. Simkins   \n",
       "38517   C. Cook \"LIVE..........LOVE........AND..........   \n",
       "300132                          A. Crain \"texas shopper\"   \n",
       "424678                       Winfield S. Danielson \"Win\"   \n",
       "423815                    Adriene N. Henderson \"adriene\"   \n",
       "\n",
       "        HelpfulnessNumerator  HelpfulnessDenominator  Score        Time  \\\n",
       "411666                     2                       4      5  1255564800   \n",
       "96135                      0                       0      5  1333497600   \n",
       "108501                     1                       1      5  1304467200   \n",
       "359042                     1                       1      1  1315267200   \n",
       "38517                      6                       7      4  1322524800   \n",
       "300132                     2                       2      5  1318464000   \n",
       "424678                     0                       0      4  1305936000   \n",
       "423815                     0                       0      4  1338854400   \n",
       "\n",
       "                                                  Summary  \\\n",
       "411666                          Gourmet Egg Nog is Great!   \n",
       "96135   Best flavor and best price of any Blue Diamond...   \n",
       "108501               Best price for organic pouched pears   \n",
       "359042                                        DISGUSTING!   \n",
       "38517                                    I LOVE the stuff   \n",
       "300132                                  Not as advertised   \n",
       "424678                                         Our Choice   \n",
       "423815                                      No Complaints   \n",
       "\n",
       "                                                     Text  \n",
       "411666  This concentrated Egg Nog Extract is difficult...  \n",
       "96135   The flavor of these is just amazing. They are ...  \n",
       "108501  If you need the convenience of this kind of po...  \n",
       "359042  This is so gross.  Zico should be ashamed!<br ...  \n",
       "38517   What can I really say about this 25-ounce Horm...  \n",
       "300132  The product description said 6 packages of Dar...  \n",
       "424678  Of the reasonably priced dry cat foods, Nutro ...  \n",
       "423815  I'm making perfect Vietnamese style coffee wit...  "
      ]
     },
     "execution_count": 3,
     "metadata": {},
     "output_type": "execute_result"
    }
   ],
   "source": [
    "dfReviewsV0.sample(8)"
   ]
  },
  {
   "cell_type": "code",
   "execution_count": 4,
   "id": "40e61518-9cab-4331-b670-88f943b73b8c",
   "metadata": {},
   "outputs": [
    {
     "name": "stdout",
     "output_type": "stream",
     "text": [
      "(568454, 10)\n"
     ]
    }
   ],
   "source": [
    "print(dfReviewsV0.shape)"
   ]
  },
  {
   "cell_type": "markdown",
   "id": "117dea8e-c091-4066-80fa-0d3e1888c721",
   "metadata": {},
   "source": [
    "## Downsize the Dataset\n",
    "\n",
    "This allows to use a smaller datatset that requires less resources to process, since this is a tutorial. "
   ]
  },
  {
   "cell_type": "code",
   "execution_count": 10,
   "id": "e027150d-f67e-4896-926f-ff00b050c0a3",
   "metadata": {},
   "outputs": [],
   "source": [
    "dfReviewsV1 = dfReviewsV0.sample(10000,random_state=1)"
   ]
  },
  {
   "cell_type": "code",
   "execution_count": 11,
   "id": "adf2bc4c-e5df-4585-af1c-d475c6dba1cb",
   "metadata": {},
   "outputs": [
    {
     "data": {
      "text/plain": [
       "(10000, 10)"
      ]
     },
     "execution_count": 11,
     "metadata": {},
     "output_type": "execute_result"
    }
   ],
   "source": [
    "dfReviewsV1.shape"
   ]
  },
  {
   "cell_type": "code",
   "execution_count": 12,
   "id": "29516bb8-5663-40b4-bb1c-f77745dbef1c",
   "metadata": {},
   "outputs": [
    {
     "data": {
      "text/html": [
       "<div>\n",
       "<style scoped>\n",
       "    .dataframe tbody tr th:only-of-type {\n",
       "        vertical-align: middle;\n",
       "    }\n",
       "\n",
       "    .dataframe tbody tr th {\n",
       "        vertical-align: top;\n",
       "    }\n",
       "\n",
       "    .dataframe thead th {\n",
       "        text-align: right;\n",
       "    }\n",
       "</style>\n",
       "<table border=\"1\" class=\"dataframe\">\n",
       "  <thead>\n",
       "    <tr style=\"text-align: right;\">\n",
       "      <th></th>\n",
       "      <th>Id</th>\n",
       "      <th>ProductId</th>\n",
       "      <th>UserId</th>\n",
       "      <th>ProfileName</th>\n",
       "      <th>HelpfulnessNumerator</th>\n",
       "      <th>HelpfulnessDenominator</th>\n",
       "      <th>Score</th>\n",
       "      <th>Time</th>\n",
       "      <th>Summary</th>\n",
       "      <th>Text</th>\n",
       "    </tr>\n",
       "  </thead>\n",
       "  <tbody>\n",
       "    <tr>\n",
       "      <th>278019</th>\n",
       "      <td>278020</td>\n",
       "      <td>B000WFKI82</td>\n",
       "      <td>A3F2P8DZBM72HY</td>\n",
       "      <td>slna111</td>\n",
       "      <td>2</td>\n",
       "      <td>2</td>\n",
       "      <td>5</td>\n",
       "      <td>1346198400</td>\n",
       "      <td>She loves it</td>\n",
       "      <td>Since starting Wellness wet food, not only doe...</td>\n",
       "    </tr>\n",
       "    <tr>\n",
       "      <th>168175</th>\n",
       "      <td>168176</td>\n",
       "      <td>B005VOOKS8</td>\n",
       "      <td>A2UQGGK8VJPUH5</td>\n",
       "      <td>I. Zawilski</td>\n",
       "      <td>0</td>\n",
       "      <td>1</td>\n",
       "      <td>5</td>\n",
       "      <td>1332892800</td>\n",
       "      <td>Pricey, But Delicious</td>\n",
       "      <td>These are pods, designed to be used in a singl...</td>\n",
       "    </tr>\n",
       "    <tr>\n",
       "      <th>164268</th>\n",
       "      <td>164269</td>\n",
       "      <td>B000G7VYRA</td>\n",
       "      <td>A2IUXZ60NRW8ZO</td>\n",
       "      <td>Debi71294</td>\n",
       "      <td>0</td>\n",
       "      <td>0</td>\n",
       "      <td>5</td>\n",
       "      <td>1346198400</td>\n",
       "      <td>Hanover HMO Pcs</td>\n",
       "      <td>I am huge pretzel lover.&lt;br /&gt;These in my opin...</td>\n",
       "    </tr>\n",
       "    <tr>\n",
       "      <th>37633</th>\n",
       "      <td>37634</td>\n",
       "      <td>B002R81L92</td>\n",
       "      <td>A5NNM0PDNW67S</td>\n",
       "      <td>E. Grannis</td>\n",
       "      <td>3</td>\n",
       "      <td>3</td>\n",
       "      <td>5</td>\n",
       "      <td>1309824000</td>\n",
       "      <td>these are awesome chocolates, however</td>\n",
       "      <td>my 2 bags of dark chocolate covered pomegranat...</td>\n",
       "    </tr>\n",
       "    <tr>\n",
       "      <th>14630</th>\n",
       "      <td>14631</td>\n",
       "      <td>B0032BXUJM</td>\n",
       "      <td>A3J34RA5HFB348</td>\n",
       "      <td>jrm staten island, ny</td>\n",
       "      <td>0</td>\n",
       "      <td>0</td>\n",
       "      <td>5</td>\n",
       "      <td>1341964800</td>\n",
       "      <td>superb coffee</td>\n",
       "      <td>I made purchased this coffee a number of times...</td>\n",
       "    </tr>\n",
       "    <tr>\n",
       "      <th>515674</th>\n",
       "      <td>515675</td>\n",
       "      <td>B000EG6G9E</td>\n",
       "      <td>A107L4C20IDLLD</td>\n",
       "      <td>N. Moura</td>\n",
       "      <td>0</td>\n",
       "      <td>0</td>\n",
       "      <td>4</td>\n",
       "      <td>1313280000</td>\n",
       "      <td>Good stuff</td>\n",
       "      <td>Highly addictive, takes me back to my childhoo...</td>\n",
       "    </tr>\n",
       "    <tr>\n",
       "      <th>410138</th>\n",
       "      <td>410139</td>\n",
       "      <td>B002NWIQQI</td>\n",
       "      <td>A2MMW09EF2DD8T</td>\n",
       "      <td>LindaLouise6517</td>\n",
       "      <td>0</td>\n",
       "      <td>0</td>\n",
       "      <td>5</td>\n",
       "      <td>1319846400</td>\n",
       "      <td>Excellent Product</td>\n",
       "      <td>These are very good dates - quite moist and me...</td>\n",
       "    </tr>\n",
       "    <tr>\n",
       "      <th>87065</th>\n",
       "      <td>87066</td>\n",
       "      <td>B001PMDYZA</td>\n",
       "      <td>AZ65W8C4CPKST</td>\n",
       "      <td>Sally</td>\n",
       "      <td>1</td>\n",
       "      <td>1</td>\n",
       "      <td>5</td>\n",
       "      <td>1240444800</td>\n",
       "      <td>great healthy dog food</td>\n",
       "      <td>Great organic dog food from a company I trust....</td>\n",
       "    </tr>\n",
       "  </tbody>\n",
       "</table>\n",
       "</div>"
      ],
      "text/plain": [
       "            Id   ProductId          UserId            ProfileName  \\\n",
       "278019  278020  B000WFKI82  A3F2P8DZBM72HY                slna111   \n",
       "168175  168176  B005VOOKS8  A2UQGGK8VJPUH5            I. Zawilski   \n",
       "164268  164269  B000G7VYRA  A2IUXZ60NRW8ZO              Debi71294   \n",
       "37633    37634  B002R81L92   A5NNM0PDNW67S             E. Grannis   \n",
       "14630    14631  B0032BXUJM  A3J34RA5HFB348  jrm staten island, ny   \n",
       "515674  515675  B000EG6G9E  A107L4C20IDLLD               N. Moura   \n",
       "410138  410139  B002NWIQQI  A2MMW09EF2DD8T        LindaLouise6517   \n",
       "87065    87066  B001PMDYZA   AZ65W8C4CPKST                  Sally   \n",
       "\n",
       "        HelpfulnessNumerator  HelpfulnessDenominator  Score        Time  \\\n",
       "278019                     2                       2      5  1346198400   \n",
       "168175                     0                       1      5  1332892800   \n",
       "164268                     0                       0      5  1346198400   \n",
       "37633                      3                       3      5  1309824000   \n",
       "14630                      0                       0      5  1341964800   \n",
       "515674                     0                       0      4  1313280000   \n",
       "410138                     0                       0      5  1319846400   \n",
       "87065                      1                       1      5  1240444800   \n",
       "\n",
       "                                      Summary  \\\n",
       "278019                           She loves it   \n",
       "168175                  Pricey, But Delicious   \n",
       "164268                        Hanover HMO Pcs   \n",
       "37633   these are awesome chocolates, however   \n",
       "14630                           superb coffee   \n",
       "515674                             Good stuff   \n",
       "410138                      Excellent Product   \n",
       "87065                  great healthy dog food   \n",
       "\n",
       "                                                     Text  \n",
       "278019  Since starting Wellness wet food, not only doe...  \n",
       "168175  These are pods, designed to be used in a singl...  \n",
       "164268  I am huge pretzel lover.<br />These in my opin...  \n",
       "37633   my 2 bags of dark chocolate covered pomegranat...  \n",
       "14630   I made purchased this coffee a number of times...  \n",
       "515674  Highly addictive, takes me back to my childhoo...  \n",
       "410138  These are very good dates - quite moist and me...  \n",
       "87065   Great organic dog food from a company I trust....  "
      ]
     },
     "execution_count": 12,
     "metadata": {},
     "output_type": "execute_result"
    }
   ],
   "source": [
    "dfReviewsV1.sample(8)"
   ]
  },
  {
   "cell_type": "code",
   "execution_count": 32,
   "id": "63a1cd92-5296-42cd-b8fd-58886357f146",
   "metadata": {},
   "outputs": [],
   "source": [
    "# Export sample datatset to a local csv\n",
    "dfReviewsV1.to_csv('../Sentiment_Analysis/Reviews_10K_Sample.csv',index=False)"
   ]
  },
  {
   "cell_type": "markdown",
   "id": "7ba8d62f-4fd7-4e47-b3ec-581fa34d614a",
   "metadata": {},
   "source": [
    "## EDA "
   ]
  },
  {
   "cell_type": "code",
   "execution_count": 13,
   "id": "f03bb931-61f4-4c8f-b5e6-43aebdc4c3f4",
   "metadata": {},
   "outputs": [
    {
     "data": {
      "image/png": "[encoded data removed]",
      "text/plain": [
       "<Figure size 640x480 with 1 Axes>"
      ]
     },
     "metadata": {},
     "output_type": "display_data"
    }
   ],
   "source": [
    "# Plot the frequencies of star ratings\n",
    "# Line continuation is '\\', no space allowed after the backslash\n",
    "ax = dfReviewsV1['Score'].value_counts().sort_index() \\\n",
    "                    .plot(kind='barh',\n",
    "                          title='Reviews by rated star')\n",
    "ax.set_ylabel('Review Stars')\n",
    "ax.set_xlabel('Count')\n",
    "\n",
    "plt.show()"
   ]
  },
  {
   "cell_type": "markdown",
   "id": "b70afc89-dc41-436f-b7a4-35ca8e090c3e",
   "metadata": {
    "jp-MarkdownHeadingCollapsed": true
   },
   "source": [
    "### Considerations \n",
    "\n",
    "The most reviews is '5' and then shrinks heavily from '4' to '2', but increases a bit on the '1 star'. This is a heavy bias to the right."
   ]
  },
  {
   "cell_type": "markdown",
   "id": "76736492-599c-4ad1-b6e6-e166771e8494",
   "metadata": {},
   "source": [
    "## Basic NLTK Analysis\n",
    "\n",
    "Pick out a quick example and test some NLTK basic functions.\n",
    "\n",
    "[NLTK: What is NLTK (EDUCBA)](https://www.educba.com/nltk/)\n",
    "Scroll down to bottom of page for tutorials."
   ]
  },
  {
   "cell_type": "code",
   "execution_count": 15,
   "id": "2a730e55-08c8-435e-824b-45795acbd62f",
   "metadata": {},
   "outputs": [
    {
     "name": "stdout",
     "output_type": "stream",
     "text": [
      "Highly addictive, takes me back to my childhood when candy stores use to sell chocolate covered honeycomb.  Be sure you get the expedited shipping, and the regular route arrived with the cold packs melted and warm.\n"
     ]
    }
   ],
   "source": [
    "strExample = dfReviewsV1['Text'][515674]\n",
    "\n",
    "print(strExample)"
   ]
  },
  {
   "cell_type": "code",
   "execution_count": 16,
   "id": "519fdfcb-91fd-4150-b9ce-36e4132279be",
   "metadata": {},
   "outputs": [
    {
     "data": {
      "text/plain": [
       "['Highly',\n",
       " 'addictive',\n",
       " ',',\n",
       " 'takes',\n",
       " 'me',\n",
       " 'back',\n",
       " 'to',\n",
       " 'my',\n",
       " 'childhood',\n",
       " 'when',\n",
       " 'candy',\n",
       " 'stores',\n",
       " 'use',\n",
       " 'to',\n",
       " 'sell',\n",
       " 'chocolate',\n",
       " 'covered',\n",
       " 'honeycomb',\n",
       " '.',\n",
       " 'Be',\n",
       " 'sure',\n",
       " 'you',\n",
       " 'get',\n",
       " 'the',\n",
       " 'expedited',\n",
       " 'shipping',\n",
       " ',',\n",
       " 'and',\n",
       " 'the',\n",
       " 'regular',\n",
       " 'route',\n",
       " 'arrived',\n",
       " 'with',\n",
       " 'the',\n",
       " 'cold',\n",
       " 'packs',\n",
       " 'melted',\n",
       " 'and',\n",
       " 'warm',\n",
       " '.']"
      ]
     },
     "execution_count": 16,
     "metadata": {},
     "output_type": "execute_result"
    }
   ],
   "source": [
    "# Splits the sentece in words\n",
    "lstTokens = nltk.word_tokenize(strExample)\n",
    "\n",
    "lstTokens"
   ]
  },
  {
   "cell_type": "markdown",
   "id": "f5211133-d5d5-44ea-bc84-2bdbb25056dc",
   "metadata": {},
   "source": [
    "### NLTK POS Tag Function\n",
    "\n",
    "This function delivers a type of classification in a form of as 'descriptor'. The *descriptor* is a ‘tag,’ representing one of the components of speech and semantic information. When it comes to Part-of-Speech (POS) tagging, on the other hand, it can be defined as the process of turning a sentence written as a list of words into a list of tuples. The tuples, in this case, have the word tag form. POS tagging can alternatively be defined as the process of associating a given the word with a part of speech."
   ]
  },
  {
   "cell_type": "code",
   "execution_count": 18,
   "id": "97fb63f2-25b2-4bf7-9fa8-c4842478d1bb",
   "metadata": {},
   "outputs": [
    {
     "name": "stderr",
     "output_type": "stream",
     "text": [
      "[nltk_data] Downloading package averaged_perceptron_tagger to\n",
      "[nltk_data]     C:\\Users\\ulrichca\\AppData\\Roaming\\nltk_data...\n",
      "[nltk_data]   Package averaged_perceptron_tagger is already up-to-\n",
      "[nltk_data]       date!\n"
     ]
    },
    {
     "data": {
      "text/plain": [
       "[('Highly', 'NNP'),\n",
       " ('addictive', 'JJ'),\n",
       " (',', ','),\n",
       " ('takes', 'VBZ'),\n",
       " ('me', 'PRP'),\n",
       " ('back', 'RB'),\n",
       " ('to', 'TO'),\n",
       " ('my', 'PRP$'),\n",
       " ('childhood', 'NN'),\n",
       " ('when', 'WRB'),\n",
       " ('candy', 'NN'),\n",
       " ('stores', 'NNS'),\n",
       " ('use', 'VBP'),\n",
       " ('to', 'TO'),\n",
       " ('sell', 'VB'),\n",
       " ('chocolate', 'NN'),\n",
       " ('covered', 'VBN'),\n",
       " ('honeycomb', 'NN'),\n",
       " ('.', '.'),\n",
       " ('Be', 'VB'),\n",
       " ('sure', 'JJ'),\n",
       " ('you', 'PRP'),\n",
       " ('get', 'VBP'),\n",
       " ('the', 'DT'),\n",
       " ('expedited', 'JJ'),\n",
       " ('shipping', 'NN'),\n",
       " (',', ','),\n",
       " ('and', 'CC'),\n",
       " ('the', 'DT'),\n",
       " ('regular', 'JJ'),\n",
       " ('route', 'NN'),\n",
       " ('arrived', 'VBD'),\n",
       " ('with', 'IN'),\n",
       " ('the', 'DT'),\n",
       " ('cold', 'JJ'),\n",
       " ('packs', 'NNS'),\n",
       " ('melted', 'VBN'),\n",
       " ('and', 'CC'),\n",
       " ('warm', 'JJ'),\n",
       " ('.', '.')]"
      ]
     },
     "execution_count": 18,
     "metadata": {},
     "output_type": "execute_result"
    }
   ],
   "source": [
    "# Parts of speech analysis\n",
    "# Requires to import the tagger dictionary\n",
    "nltk.download('averaged_perceptron_tagger')\n",
    "\n",
    "lstPOStagged = nltk.pos_tag(lstTokens)\n",
    "\n",
    "lstPOStagged"
   ]
  },
  {
   "cell_type": "markdown",
   "id": "7a37139b-7b4c-42b7-9832-918ecdf7c0d4",
   "metadata": {},
   "source": [
    "The meaning of the tags can be found here: [NLTK POS Tag List](https://www.educba.com/nltk-pos-tag/)\n",
    "\n",
    "### NLTK Chunk Entity Tokens\n",
    "\n",
    "This function chunks the given list of tagged tokens."
   ]
  },
  {
   "cell_type": "code",
   "execution_count": 24,
   "id": "bf33d1fc-d2c2-446e-b53a-ef9f93603a0b",
   "metadata": {},
   "outputs": [
    {
     "name": "stdout",
     "output_type": "stream",
     "text": [
      "(S\n",
      "  (GPE Highly/NNP)\n",
      "  addictive/JJ\n",
      "  ,/,\n",
      "  takes/VBZ\n",
      "  me/PRP\n",
      "  back/RB\n",
      "  to/TO\n",
      "  my/PRP$\n",
      "  childhood/NN\n",
      "  when/WRB\n",
      "  candy/NN\n",
      "  stores/NNS\n",
      "  use/VBP\n",
      "  to/TO\n",
      "  sell/VB\n",
      "  chocolate/NN\n",
      "  covered/VBN\n",
      "  honeycomb/NN\n",
      "  ./.\n",
      "  Be/VB\n",
      "  sure/JJ\n",
      "  you/PRP\n",
      "  get/VBP\n",
      "  the/DT\n",
      "  expedited/JJ\n",
      "  shipping/NN\n",
      "  ,/,\n",
      "  and/CC\n",
      "  the/DT\n",
      "  regular/JJ\n",
      "  route/NN\n",
      "  arrived/VBD\n",
      "  with/IN\n",
      "  the/DT\n",
      "  cold/JJ\n",
      "  packs/NNS\n",
      "  melted/VBN\n",
      "  and/CC\n",
      "  warm/JJ\n",
      "  ./.)\n"
     ]
    },
    {
     "name": "stderr",
     "output_type": "stream",
     "text": [
      "[nltk_data] Downloading package maxent_ne_chunker to\n",
      "[nltk_data]     C:\\Users\\ulrichca\\AppData\\Roaming\\nltk_data...\n",
      "[nltk_data]   Package maxent_ne_chunker is already up-to-date!\n",
      "[nltk_data] Downloading package words to\n",
      "[nltk_data]     C:\\Users\\ulrichca\\AppData\\Roaming\\nltk_data...\n",
      "[nltk_data]   Package words is already up-to-date!\n"
     ]
    }
   ],
   "source": [
    "# Download the chunk entity and words dictionary\n",
    "nltk.download('maxent_ne_chunker')\n",
    "nltk.download('words')\n",
    "\n",
    "lstChunkEntity = nltk.chunk.ne_chunk(lstPOStagged)\n",
    "\n",
    "# Print the list in a nice form.\n",
    "lstChunkEntity.pprint()"
   ]
  },
  {
   "cell_type": "markdown",
   "id": "16af6986-0bc1-4eb8-aa09-8402a2df37eb",
   "metadata": {},
   "source": [
    "## Sentiment Analysis\n",
    "\n",
    "### VADER Sentiment Analysis\n",
    "\n",
    "Will use NLTK's `SentimentIntensityAnalyzer` to get the negative, neutral, positive scores of a given text from VADER package. VADER stands for *Valence Aware Dictionary and sEntiment Reasoner*. This package uses the *bag of words* approach, \n",
    "1. Stop words are removed\n",
    "2. Each word is scored and combined to a total score\n",
    "\n",
    "This approach doesn't account for words relationship which in some contexts can affect the sentiment analysis, since the relaship between words is an important indicator of a sentiment in human speech. "
   ]
  },
  {
   "cell_type": "code",
   "execution_count": 27,
   "id": "398de829-bc63-4677-a994-1b515daba0a7",
   "metadata": {},
   "outputs": [
    {
     "name": "stderr",
     "output_type": "stream",
     "text": [
      "[nltk_data] Downloading package vader_lexicon to\n",
      "[nltk_data]     C:\\Users\\ulrichca\\AppData\\Roaming\\nltk_data...\n"
     ]
    }
   ],
   "source": [
    "from nltk.sentiment import SentimentIntensityAnalyzer\n",
    "from tqdm.notebook import tqdm\n",
    "\n",
    "# VADER lexicon dictionary is required\n",
    "nltk.download('vader_lexicon')\n",
    "\n",
    "siaMySentimentAnalyzer = SentimentIntensityAnalyzer()"
   ]
  },
  {
   "cell_type": "code",
   "execution_count": 28,
   "id": "81a3e649-429c-4b24-9749-5949cd2ea98b",
   "metadata": {},
   "outputs": [
    {
     "data": {
      "text/plain": [
       "{'neg': 0.0, 'neu': 0.501, 'pos': 0.499, 'compound': 0.4574}"
      ]
     },
     "execution_count": 28,
     "metadata": {},
     "output_type": "execute_result"
    }
   ],
   "source": [
    "# Sentiment analysis text on a given positve sentence\n",
    "siaMySentimentAnalyzer.polarity_scores('This library looks promising!')"
   ]
  },
  {
   "cell_type": "code",
   "execution_count": 29,
   "id": "8e37243a-d81a-446a-b9c4-03de4b9b9eec",
   "metadata": {},
   "outputs": [
    {
     "data": {
      "text/plain": [
       "{'neg': 0.451, 'neu': 0.549, 'pos': 0.0, 'compound': -0.5093}"
      ]
     },
     "execution_count": 29,
     "metadata": {},
     "output_type": "execute_result"
    }
   ],
   "source": [
    "# Sentiment analysis text on a given negative sentence\n",
    "siaMySentimentAnalyzer.polarity_scores('This sentiment dictinary is awful!')"
   ]
  },
  {
   "cell_type": "code",
   "execution_count": 30,
   "id": "b34a44ee-15d3-4368-8820-3670dc8740cb",
   "metadata": {},
   "outputs": [
    {
     "data": {
      "text/plain": [
       "{'neg': 0.0, 'neu': 0.501, 'pos': 0.499, 'compound': 0.4574}"
      ]
     },
     "execution_count": 30,
     "metadata": {},
     "output_type": "execute_result"
    }
   ],
   "source": [
    "# Sentiment analysis text on a feedback comment\n",
    "siaMySentimentAnalyzer.polarity_scores('This library looks promising!')"
   ]
  },
  {
   "cell_type": "markdown",
   "id": "7bba74e5-a62b-4427-90ee-873dfb9f8783",
   "metadata": {},
   "source": [
    "### Roberta Sentiment Analysis\n",
    "\n",
    "The implementation code is continued as a Kaggle notebook here: \n",
    "\n",
    "[sentiment-analysis-python-FJU](https://www.kaggle.com/franzjulrich/sentiment-analysis-python-fju/edit)"
   ]
  },
  {
   "cell_type": "code",
   "execution_count": null,
   "id": "9f687254-4d9a-4ce9-9d3e-fb29d50e9f57",
   "metadata": {},
   "outputs": [],
   "source": []
  }
 ],
 "metadata": {
  "kernelspec": {
   "display_name": "Python 3 (ipykernel)",
   "language": "python",
   "name": "python3"
  },
  "language_info": {
   "codemirror_mode": {
    "name": "ipython",
    "version": 3
   },
   "file_extension": ".py",
   "mimetype": "text/x-python",
   "name": "python",
   "nbconvert_exporter": "python",
   "pygments_lexer": "ipython3",
   "version": "3.11.1"
  }
 },
 "nbformat": 4,
 "nbformat_minor": 5
}
