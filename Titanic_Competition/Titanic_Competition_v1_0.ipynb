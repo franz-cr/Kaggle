{
 "cells": [
  {
   "cell_type": "markdown",
   "id": "f5236719",
   "metadata": {},
   "source": [
    "<a id=\"top\"> </a>\n",
    "<font size =\"8\" color = \"blue\"> <div align=\"center\">**Titanic Survival Model**</div></font></br>\n",
    "\n",
    "<font size =\"5\" color = \"gray\"> <div align=\"center\">**- Classification / Regression -**</div></font>\n",
    "\n",
    "-----------------------------------------\n",
    "# Index\n",
    "1. [Problem Statement](#marcoTeorico)\n",
    "2. [Import Required Libraries](#importarLibs)\n",
    "3. [Loading Datasets](#importarDatos)\n",
    "4. [Overview of the Datasets](#analisisDatos1)\n",
    "5. [Exploratory Data Analysis](#analisisDatos2)\n",
    "6. [Data Preparation for Building Models](#preparacionDatos)\n",
    "7. [Model Evaluation Criterion](#evaluacionModelo)\n",
    "8. [Building the models (Regression)](#construirModelos1)\n",
    "9. [Creating the predictions for submission](#enviarPrediccion)\n",
    "10. [Export Datasets for ANN Modelling](#exportarModelos)\n",
    "11.[Model Deployment](#implementarModelos)\n",
    "\n",
    "-----------------------------------------\n",
    "<a name=\"marcoTeorico\"> </a>\n",
    "\n",
    "# Use Case Title\n",
    "\n",
    "## Synopsis\n",
    "\n",
    "Titanic was a British passenger liner that sank in 1912 after colliding with an iceberg. Only 31% of passengers survived in this disaster. The goal of this project is to complete the analysis of what sorts of people were likely to survive.\n",
    "For more information see [Titanic survival prediction challenge](#http://www.kaggle.com/c/titanic-gettingStarted) presented by Kaggle.\n",
    "\n",
    "## Problem Statement\n",
    "\n",
    "This is the legendary Titanic ML competition – the best, first challenge for you to dive into ML competitions and familiarize yourself with how the Kaggle platform works.\n",
    "\n",
    "## The Challenge\n",
    "\n",
    "The sinking of the Titanic is one of the most infamous shipwrecks in history.\n",
    "\n",
    "On April 15, 1912, during her maiden voyage, the widely considered “unsinkable” RMS Titanic sank after colliding with an iceberg. Unfortunately, there weren’t enough lifeboats for everyone onboard, resulting in the death of 1502 out of 2224 passengers and crew.\n",
    "\n",
    "While there was some element of luck involved in surviving, it seems some groups of people were more likely to survive than others.\n",
    "\n",
    "In this challenge, we ask you to build a predictive model that answers the question: “what sorts of people were more likely to survive?” using passenger data (ie name, age, gender, socio-economic class, etc).\n",
    "\n",
    "## Objective\n",
    "\n",
    "The competition is simple: use machine learning to create a model that predicts which passengers survived the Titanic shipwreck.\n",
    "\n",
    "## Data Description\n",
    "\n",
    "### Overview\n",
    "\n",
    "The data has been split into two groups:\n",
    "- training set (train.csv)\n",
    "- test set (test.csv)\n",
    "The **training set** should be used to build your machine learning models. For the training set, we provide the outcome (also known as the “ground truth”) for each passenger. Your model will be based on “features” like passengers’ gender and class. You can also use feature engineering to create new features.\n",
    "\n",
    "The **test set** should be used to see how well your model performs on unseen data. For the test set, we do not provide the ground truth for each passenger. It is your job to predict these outcomes. For each passenger in the test set, use the model you trained to predict whether or not they survived the sinking of the Titanic.\n",
    "\n",
    "We also include **gender_submission.csv**, a set of predictions that assume all and only female passengers survive, as an example of what a submission file should look like.\n",
    "\n",
    "### Data Dictionary\n",
    "\n",
    "| **Variable** | **Definition**                                                                                                                                                                                                                                        | **Key**                                                |\n",
    "|--------------|-------------------------------------------------------------------------------------------------------------------------------------------------------------------------------------------------------------------------------------------------------|--------------------------------------------------------|\n",
    "| survival     | Did passenger survive?                                                                                                                                                                                                                                | 0 > No<br>1 > Yes                                      |\n",
    "| pclass       | Ticket class: A proxy for socio-economic status (SES)<br>- 1st = Upper<br>- 2nd = Middle<br>- 3rd = Lower                                                                                                                                             | 1 = 1st, <br>2 = 2nd, <br>3 = 3rd                      |\n",
    "| sex          | Sex                                                                                                                                                                                                                                                   |                                                        |\n",
    "| Age          | Age in years. Age is fractional if less than 1. <br>If the age is estimated, is it in the form of xx.5                                                                                                                                                |                                                        |\n",
    "| sibsp        | # of siblings / spouses aboard the Titanic. <br>The dataset defines family relations in this way:<br>- Sibling = brother, sister, stepbrother, stepsister<br>- Spouse = husband, wife (mistresses and fiancés were ignored)                           |                                                        |\n",
    "| parch        | # of parents / children aboard the Titanic.<br>The dataset defines family relations in this way:<br>Parent = mother, father<br>Child = daughter, son, stepdaughter, stepson<br>Some children travelled only with a nanny, therefore parch=0 for them. |                                                        |\n",
    "| ticket       | Ticket number                                                                                                                                                                                                                                         |                                                        |\n",
    "| fare         | Passenger fare                                                                                                                                                                                                                                        |                                                        |\n",
    "| cabin        | Cabin number                                                                                                                                                                                                                                          |                                                        |\n",
    "| embarked     | Port of embarkation                                                                                                                                                                                                                                   | C = Cherbourg, <br>Q = Queenstown, <br>S = Southampton |\n",
    "\n",
    "#### Variable Notes\n",
    "\n",
    "- **Survival:** Target variable.\n",
    "- **All rest:** Features."
   ]
  },
  {
   "cell_type": "markdown",
   "id": "75948a6d",
   "metadata": {},
   "source": [
    "<a href = #top>Back to top</a>\n",
    "<a name=\"importarLibs\"> </a>\n",
    "\n",
    "-----------------------------------------\n",
    "# Setup Notebook Configurations\n",
    "\n",
    "## Import the libraries required"
   ]
  },
  {
   "cell_type": "code",
   "execution_count": 1,
   "id": "cec608ca",
   "metadata": {},
   "outputs": [],
   "source": [
    "# Import all the necessary packages\n",
    "\n",
    "# Data structures\n",
    "import pandas as pd\n",
    "import numpy as np\n",
    "\n",
    "# Visualization\n",
    "import matplotlib.pylab as plt\n",
    "import seaborn as sns\n",
    "#import plotly.express as pltxp\n",
    "\n",
    "#Silhouette score\n",
    "#from sklearn.metrics import silhouette_score\n",
    "\n",
    "# PCA and TSNE\n",
    "from sklearn.decomposition import PCA\n",
    "#from sklearn.manifold import TSNE\n",
    "\n",
    "# Clustering algorithms\n",
    "#from sklearn.cluster import KMeans\n",
    "#from sklearn.mixture import GaussianMixture\n",
    "#from sklearn_extra.cluster import KMedoids\n",
    "\n",
    "import warnings\n",
    "warnings.filterwarnings(\"ignore\")"
   ]
  },
  {
   "cell_type": "markdown",
   "id": "5c310763",
   "metadata": {},
   "source": [
    "### ML modelling libraries"
   ]
  },
  {
   "cell_type": "code",
   "execution_count": 2,
   "id": "f5f57826",
   "metadata": {},
   "outputs": [],
   "source": [
    "# Importing the Machine Learning models we require from Scikit-Learn\n",
    "from sklearn.linear_model import LogisticRegression\n",
    "from sklearn.svm import SVC\n",
    "from sklearn.neighbors import KNeighborsClassifier\n",
    "from sklearn.tree import DecisionTreeClassifier\n",
    "from sklearn import tree\n",
    "from sklearn.ensemble import RandomForestClassifier\n",
    "\n",
    "# Importing the other functions we may require from Scikit-Learn\n",
    "from sklearn.model_selection import train_test_split, GridSearchCV, StratifiedKFold, cross_val_score\n",
    "from sklearn.preprocessing import StandardScaler, LabelEncoder # MinMaxScaler, LabelEncoder, OneHotEncoder\n",
    "\n",
    "# To get different metric scores\n",
    "# https://scikit-learn.org/stable/modules/generated/sklearn.metrics.ConfusionMatrixDisplay.html\n",
    "from sklearn.metrics import confusion_matrix, ConfusionMatrixDisplay, classification_report, roc_auc_score, precision_recall_curve, roc_curve, make_scorer"
   ]
  },
  {
   "cell_type": "markdown",
   "id": "0f0740de",
   "metadata": {},
   "source": [
    "## Setup environment configurations and global variables"
   ]
  },
  {
   "cell_type": "code",
   "execution_count": 3,
   "id": "8fd382c2",
   "metadata": {},
   "outputs": [],
   "source": [
    "# Set matplotlib plots styles\n",
    "%matplotlib inline\n",
    "\n",
    "#style.use('ggplot') or \n",
    "plt.style.use('ggplot')\n",
    "\n",
    "# sns.set() will load seaborn's default theme and color \n",
    "# palette to the session\n",
    "sns.set()\n",
    "\n",
    "# Removes the limit for the number of displayed columns\n",
    "pd.set_option(\"display.max_columns\", None)\n",
    "\n",
    "# Sets the limit for the number of displayed rows\n",
    "pd.set_option(\"display.max_rows\", 200)\n",
    "\n",
    "# Plots proportion given by figsize=(24,16) tuple\n",
    "# Where 12 is the horizontal value, 16 the vertical value and the \n",
    "# proportion is 1 to 1.5\n",
    "myFigSize_12_12 = (12,12)\n",
    "myFigSize_12_10 = (12,10)\n",
    "myFigSize_12_8 = (12,8)\n",
    "myFigSize_12_6 = (12,6)\n",
    "myFigSize_12_4 = (12,4)\n",
    "myFigSize_12_2 = (12,2)\n",
    "\n",
    "# Intanciate the scaler.\n",
    "scaler = StandardScaler()\n",
    "\n",
    "# Instantiate the encoder\n",
    "encoder = LabelEncoder()"
   ]
  },
  {
   "cell_type": "code",
   "execution_count": 4,
   "id": "3fd0b1e2",
   "metadata": {},
   "outputs": [],
   "source": [
    "# Creating plots font properties\n",
    "# Family: serif, cursive, sans-serif, fantasy, monospace.\n",
    "# Color: blue, green, cyan, white, yellow, etc.\n",
    "# Size: Any positive integer value.\n",
    "# Horizontal Alignment: 'center', 'right', 'left'\n",
    "# Vertical Alignment: 'top', 'bottom', 'center', 'baseline', 'center_baseline'\n",
    "fontTitleBold = {'family':'fantasy','color':'blue','size':20}\n",
    "fontAxes = {'family':'serif','color':'darkred','size':15}\n",
    "fontLegend = {'family':'cursive','color':'green','size':10}\n",
    "fontTitles = {'family':'sans-serif',\n",
    "              'color':'darkblue',\n",
    "              'size':25,\n",
    "              'verticalalignment': 'baseline',\n",
    "              'horizontalalignment': 'center'}"
   ]
  },
  {
   "cell_type": "markdown",
   "id": "9de84abe",
   "metadata": {},
   "source": [
    "<a href = #top>Back to top</a>\n",
    "<a name=\"importarDatos\"> </a>\n",
    "\n",
    "-----------------------------------------\n",
    "# Loading the dataset(s)"
   ]
  },
  {
   "cell_type": "code",
   "execution_count": 5,
   "id": "effc51e0",
   "metadata": {},
   "outputs": [],
   "source": [
    "dataset = pd.read_csv('train.csv', index_col=0)\n",
    "#dataset = pd.read_excel('TAL29 - Talent Dashboard Raw Data - As 202302 - 2023-05-03.xlsx',\n",
    "#                        index_col=0, \n",
    "#                        skiprows=5,\n",
    "#                       )\n",
    "#dataset = pd.read_txt('nombreArchivo.csv')"
   ]
  },
  {
   "cell_type": "markdown",
   "id": "1aff3bc8",
   "metadata": {},
   "source": [
    "### Validate data load"
   ]
  },
  {
   "cell_type": "code",
   "execution_count": 6,
   "id": "987e4e90",
   "metadata": {},
   "outputs": [
    {
     "data": {
      "text/html": [
       "<div>\n",
       "<style scoped>\n",
       "    .dataframe tbody tr th:only-of-type {\n",
       "        vertical-align: middle;\n",
       "    }\n",
       "\n",
       "    .dataframe tbody tr th {\n",
       "        vertical-align: top;\n",
       "    }\n",
       "\n",
       "    .dataframe thead th {\n",
       "        text-align: right;\n",
       "    }\n",
       "</style>\n",
       "<table border=\"1\" class=\"dataframe\">\n",
       "  <thead>\n",
       "    <tr style=\"text-align: right;\">\n",
       "      <th></th>\n",
       "      <th>Survived</th>\n",
       "      <th>Pclass</th>\n",
       "      <th>Name</th>\n",
       "      <th>Sex</th>\n",
       "      <th>Age</th>\n",
       "      <th>SibSp</th>\n",
       "      <th>Parch</th>\n",
       "      <th>Ticket</th>\n",
       "      <th>Fare</th>\n",
       "      <th>Cabin</th>\n",
       "      <th>Embarked</th>\n",
       "    </tr>\n",
       "    <tr>\n",
       "      <th>PassengerId</th>\n",
       "      <th></th>\n",
       "      <th></th>\n",
       "      <th></th>\n",
       "      <th></th>\n",
       "      <th></th>\n",
       "      <th></th>\n",
       "      <th></th>\n",
       "      <th></th>\n",
       "      <th></th>\n",
       "      <th></th>\n",
       "      <th></th>\n",
       "    </tr>\n",
       "  </thead>\n",
       "  <tbody>\n",
       "    <tr>\n",
       "      <th>1</th>\n",
       "      <td>0</td>\n",
       "      <td>3</td>\n",
       "      <td>Braund, Mr. Owen Harris</td>\n",
       "      <td>male</td>\n",
       "      <td>22.0</td>\n",
       "      <td>1</td>\n",
       "      <td>0</td>\n",
       "      <td>A/5 21171</td>\n",
       "      <td>7.2500</td>\n",
       "      <td>NaN</td>\n",
       "      <td>S</td>\n",
       "    </tr>\n",
       "    <tr>\n",
       "      <th>2</th>\n",
       "      <td>1</td>\n",
       "      <td>1</td>\n",
       "      <td>Cumings, Mrs. John Bradley (Florence Briggs Th...</td>\n",
       "      <td>female</td>\n",
       "      <td>38.0</td>\n",
       "      <td>1</td>\n",
       "      <td>0</td>\n",
       "      <td>PC 17599</td>\n",
       "      <td>71.2833</td>\n",
       "      <td>C85</td>\n",
       "      <td>C</td>\n",
       "    </tr>\n",
       "    <tr>\n",
       "      <th>3</th>\n",
       "      <td>1</td>\n",
       "      <td>3</td>\n",
       "      <td>Heikkinen, Miss. Laina</td>\n",
       "      <td>female</td>\n",
       "      <td>26.0</td>\n",
       "      <td>0</td>\n",
       "      <td>0</td>\n",
       "      <td>STON/O2. 3101282</td>\n",
       "      <td>7.9250</td>\n",
       "      <td>NaN</td>\n",
       "      <td>S</td>\n",
       "    </tr>\n",
       "    <tr>\n",
       "      <th>4</th>\n",
       "      <td>1</td>\n",
       "      <td>1</td>\n",
       "      <td>Futrelle, Mrs. Jacques Heath (Lily May Peel)</td>\n",
       "      <td>female</td>\n",
       "      <td>35.0</td>\n",
       "      <td>1</td>\n",
       "      <td>0</td>\n",
       "      <td>113803</td>\n",
       "      <td>53.1000</td>\n",
       "      <td>C123</td>\n",
       "      <td>S</td>\n",
       "    </tr>\n",
       "    <tr>\n",
       "      <th>5</th>\n",
       "      <td>0</td>\n",
       "      <td>3</td>\n",
       "      <td>Allen, Mr. William Henry</td>\n",
       "      <td>male</td>\n",
       "      <td>35.0</td>\n",
       "      <td>0</td>\n",
       "      <td>0</td>\n",
       "      <td>373450</td>\n",
       "      <td>8.0500</td>\n",
       "      <td>NaN</td>\n",
       "      <td>S</td>\n",
       "    </tr>\n",
       "  </tbody>\n",
       "</table>\n",
       "</div>"
      ],
      "text/plain": [
       "             Survived  Pclass  \\\n",
       "PassengerId                     \n",
       "1                   0       3   \n",
       "2                   1       1   \n",
       "3                   1       3   \n",
       "4                   1       1   \n",
       "5                   0       3   \n",
       "\n",
       "                                                          Name     Sex   Age  \\\n",
       "PassengerId                                                                    \n",
       "1                                      Braund, Mr. Owen Harris    male  22.0   \n",
       "2            Cumings, Mrs. John Bradley (Florence Briggs Th...  female  38.0   \n",
       "3                                       Heikkinen, Miss. Laina  female  26.0   \n",
       "4                 Futrelle, Mrs. Jacques Heath (Lily May Peel)  female  35.0   \n",
       "5                                     Allen, Mr. William Henry    male  35.0   \n",
       "\n",
       "             SibSp  Parch            Ticket     Fare Cabin Embarked  \n",
       "PassengerId                                                          \n",
       "1                1      0         A/5 21171   7.2500   NaN        S  \n",
       "2                1      0          PC 17599  71.2833   C85        C  \n",
       "3                0      0  STON/O2. 3101282   7.9250   NaN        S  \n",
       "4                1      0            113803  53.1000  C123        S  \n",
       "5                0      0            373450   8.0500   NaN        S  "
      ]
     },
     "execution_count": 6,
     "metadata": {},
     "output_type": "execute_result"
    }
   ],
   "source": [
    "dataset.head()"
   ]
  },
  {
   "cell_type": "code",
   "execution_count": 7,
   "id": "7ee18165",
   "metadata": {
    "scrolled": false
   },
   "outputs": [
    {
     "data": {
      "text/html": [
       "<div>\n",
       "<style scoped>\n",
       "    .dataframe tbody tr th:only-of-type {\n",
       "        vertical-align: middle;\n",
       "    }\n",
       "\n",
       "    .dataframe tbody tr th {\n",
       "        vertical-align: top;\n",
       "    }\n",
       "\n",
       "    .dataframe thead th {\n",
       "        text-align: right;\n",
       "    }\n",
       "</style>\n",
       "<table border=\"1\" class=\"dataframe\">\n",
       "  <thead>\n",
       "    <tr style=\"text-align: right;\">\n",
       "      <th></th>\n",
       "      <th>Survived</th>\n",
       "      <th>Pclass</th>\n",
       "      <th>Name</th>\n",
       "      <th>Sex</th>\n",
       "      <th>Age</th>\n",
       "      <th>SibSp</th>\n",
       "      <th>Parch</th>\n",
       "      <th>Ticket</th>\n",
       "      <th>Fare</th>\n",
       "      <th>Cabin</th>\n",
       "      <th>Embarked</th>\n",
       "    </tr>\n",
       "    <tr>\n",
       "      <th>PassengerId</th>\n",
       "      <th></th>\n",
       "      <th></th>\n",
       "      <th></th>\n",
       "      <th></th>\n",
       "      <th></th>\n",
       "      <th></th>\n",
       "      <th></th>\n",
       "      <th></th>\n",
       "      <th></th>\n",
       "      <th></th>\n",
       "      <th></th>\n",
       "    </tr>\n",
       "  </thead>\n",
       "  <tbody>\n",
       "    <tr>\n",
       "      <th>863</th>\n",
       "      <td>1</td>\n",
       "      <td>1</td>\n",
       "      <td>Swift, Mrs. Frederick Joel (Margaret Welles Ba...</td>\n",
       "      <td>female</td>\n",
       "      <td>48.0</td>\n",
       "      <td>0</td>\n",
       "      <td>0</td>\n",
       "      <td>17466</td>\n",
       "      <td>25.9292</td>\n",
       "      <td>D17</td>\n",
       "      <td>S</td>\n",
       "    </tr>\n",
       "    <tr>\n",
       "      <th>224</th>\n",
       "      <td>0</td>\n",
       "      <td>3</td>\n",
       "      <td>Nenkoff, Mr. Christo</td>\n",
       "      <td>male</td>\n",
       "      <td>NaN</td>\n",
       "      <td>0</td>\n",
       "      <td>0</td>\n",
       "      <td>349234</td>\n",
       "      <td>7.8958</td>\n",
       "      <td>NaN</td>\n",
       "      <td>S</td>\n",
       "    </tr>\n",
       "    <tr>\n",
       "      <th>85</th>\n",
       "      <td>1</td>\n",
       "      <td>2</td>\n",
       "      <td>Ilett, Miss. Bertha</td>\n",
       "      <td>female</td>\n",
       "      <td>17.0</td>\n",
       "      <td>0</td>\n",
       "      <td>0</td>\n",
       "      <td>SO/C 14885</td>\n",
       "      <td>10.5000</td>\n",
       "      <td>NaN</td>\n",
       "      <td>S</td>\n",
       "    </tr>\n",
       "    <tr>\n",
       "      <th>681</th>\n",
       "      <td>0</td>\n",
       "      <td>3</td>\n",
       "      <td>Peters, Miss. Katie</td>\n",
       "      <td>female</td>\n",
       "      <td>NaN</td>\n",
       "      <td>0</td>\n",
       "      <td>0</td>\n",
       "      <td>330935</td>\n",
       "      <td>8.1375</td>\n",
       "      <td>NaN</td>\n",
       "      <td>Q</td>\n",
       "    </tr>\n",
       "    <tr>\n",
       "      <th>536</th>\n",
       "      <td>1</td>\n",
       "      <td>2</td>\n",
       "      <td>Hart, Miss. Eva Miriam</td>\n",
       "      <td>female</td>\n",
       "      <td>7.0</td>\n",
       "      <td>0</td>\n",
       "      <td>2</td>\n",
       "      <td>F.C.C. 13529</td>\n",
       "      <td>26.2500</td>\n",
       "      <td>NaN</td>\n",
       "      <td>S</td>\n",
       "    </tr>\n",
       "  </tbody>\n",
       "</table>\n",
       "</div>"
      ],
      "text/plain": [
       "             Survived  Pclass  \\\n",
       "PassengerId                     \n",
       "863                 1       1   \n",
       "224                 0       3   \n",
       "85                  1       2   \n",
       "681                 0       3   \n",
       "536                 1       2   \n",
       "\n",
       "                                                          Name     Sex   Age  \\\n",
       "PassengerId                                                                    \n",
       "863          Swift, Mrs. Frederick Joel (Margaret Welles Ba...  female  48.0   \n",
       "224                                       Nenkoff, Mr. Christo    male   NaN   \n",
       "85                                         Ilett, Miss. Bertha  female  17.0   \n",
       "681                                        Peters, Miss. Katie  female   NaN   \n",
       "536                                     Hart, Miss. Eva Miriam  female   7.0   \n",
       "\n",
       "             SibSp  Parch        Ticket     Fare Cabin Embarked  \n",
       "PassengerId                                                      \n",
       "863              0      0         17466  25.9292   D17        S  \n",
       "224              0      0        349234   7.8958   NaN        S  \n",
       "85               0      0    SO/C 14885  10.5000   NaN        S  \n",
       "681              0      0        330935   8.1375   NaN        Q  \n",
       "536              0      2  F.C.C. 13529  26.2500   NaN        S  "
      ]
     },
     "execution_count": 7,
     "metadata": {},
     "output_type": "execute_result"
    }
   ],
   "source": [
    "dataset.sample(n=5,random_state=1)"
   ]
  },
  {
   "cell_type": "code",
   "execution_count": 8,
   "id": "27803255",
   "metadata": {},
   "outputs": [
    {
     "data": {
      "text/html": [
       "<div>\n",
       "<style scoped>\n",
       "    .dataframe tbody tr th:only-of-type {\n",
       "        vertical-align: middle;\n",
       "    }\n",
       "\n",
       "    .dataframe tbody tr th {\n",
       "        vertical-align: top;\n",
       "    }\n",
       "\n",
       "    .dataframe thead th {\n",
       "        text-align: right;\n",
       "    }\n",
       "</style>\n",
       "<table border=\"1\" class=\"dataframe\">\n",
       "  <thead>\n",
       "    <tr style=\"text-align: right;\">\n",
       "      <th></th>\n",
       "      <th>Survived</th>\n",
       "      <th>Pclass</th>\n",
       "      <th>Name</th>\n",
       "      <th>Sex</th>\n",
       "      <th>Age</th>\n",
       "      <th>SibSp</th>\n",
       "      <th>Parch</th>\n",
       "      <th>Ticket</th>\n",
       "      <th>Fare</th>\n",
       "      <th>Cabin</th>\n",
       "      <th>Embarked</th>\n",
       "    </tr>\n",
       "    <tr>\n",
       "      <th>PassengerId</th>\n",
       "      <th></th>\n",
       "      <th></th>\n",
       "      <th></th>\n",
       "      <th></th>\n",
       "      <th></th>\n",
       "      <th></th>\n",
       "      <th></th>\n",
       "      <th></th>\n",
       "      <th></th>\n",
       "      <th></th>\n",
       "      <th></th>\n",
       "    </tr>\n",
       "  </thead>\n",
       "  <tbody>\n",
       "    <tr>\n",
       "      <th>306</th>\n",
       "      <td>1</td>\n",
       "      <td>1</td>\n",
       "      <td>Allison, Master. Hudson Trevor</td>\n",
       "      <td>male</td>\n",
       "      <td>0.92</td>\n",
       "      <td>1</td>\n",
       "      <td>2</td>\n",
       "      <td>113781</td>\n",
       "      <td>151.5500</td>\n",
       "      <td>C22 C26</td>\n",
       "      <td>S</td>\n",
       "    </tr>\n",
       "    <tr>\n",
       "      <th>810</th>\n",
       "      <td>1</td>\n",
       "      <td>1</td>\n",
       "      <td>Chambers, Mrs. Norman Campbell (Bertha Griggs)</td>\n",
       "      <td>female</td>\n",
       "      <td>33.00</td>\n",
       "      <td>1</td>\n",
       "      <td>0</td>\n",
       "      <td>113806</td>\n",
       "      <td>53.1000</td>\n",
       "      <td>E8</td>\n",
       "      <td>S</td>\n",
       "    </tr>\n",
       "    <tr>\n",
       "      <th>173</th>\n",
       "      <td>1</td>\n",
       "      <td>3</td>\n",
       "      <td>Johnson, Miss. Eleanor Ileen</td>\n",
       "      <td>female</td>\n",
       "      <td>1.00</td>\n",
       "      <td>1</td>\n",
       "      <td>1</td>\n",
       "      <td>347742</td>\n",
       "      <td>11.1333</td>\n",
       "      <td>NaN</td>\n",
       "      <td>S</td>\n",
       "    </tr>\n",
       "    <tr>\n",
       "      <th>312</th>\n",
       "      <td>1</td>\n",
       "      <td>1</td>\n",
       "      <td>Ryerson, Miss. Emily Borie</td>\n",
       "      <td>female</td>\n",
       "      <td>18.00</td>\n",
       "      <td>2</td>\n",
       "      <td>2</td>\n",
       "      <td>PC 17608</td>\n",
       "      <td>262.3750</td>\n",
       "      <td>B57 B59 B63 B66</td>\n",
       "      <td>C</td>\n",
       "    </tr>\n",
       "    <tr>\n",
       "      <th>803</th>\n",
       "      <td>1</td>\n",
       "      <td>1</td>\n",
       "      <td>Carter, Master. William Thornton II</td>\n",
       "      <td>male</td>\n",
       "      <td>11.00</td>\n",
       "      <td>1</td>\n",
       "      <td>2</td>\n",
       "      <td>113760</td>\n",
       "      <td>120.0000</td>\n",
       "      <td>B96 B98</td>\n",
       "      <td>S</td>\n",
       "    </tr>\n",
       "  </tbody>\n",
       "</table>\n",
       "</div>"
      ],
      "text/plain": [
       "             Survived  Pclass                                            Name  \\\n",
       "PassengerId                                                                     \n",
       "306                 1       1                  Allison, Master. Hudson Trevor   \n",
       "810                 1       1  Chambers, Mrs. Norman Campbell (Bertha Griggs)   \n",
       "173                 1       3                    Johnson, Miss. Eleanor Ileen   \n",
       "312                 1       1                      Ryerson, Miss. Emily Borie   \n",
       "803                 1       1             Carter, Master. William Thornton II   \n",
       "\n",
       "                Sex    Age  SibSp  Parch    Ticket      Fare            Cabin  \\\n",
       "PassengerId                                                                     \n",
       "306            male   0.92      1      2    113781  151.5500          C22 C26   \n",
       "810          female  33.00      1      0    113806   53.1000               E8   \n",
       "173          female   1.00      1      1    347742   11.1333              NaN   \n",
       "312          female  18.00      2      2  PC 17608  262.3750  B57 B59 B63 B66   \n",
       "803            male  11.00      1      2    113760  120.0000          B96 B98   \n",
       "\n",
       "            Embarked  \n",
       "PassengerId           \n",
       "306                S  \n",
       "810                S  \n",
       "173                S  \n",
       "312                C  \n",
       "803                S  "
      ]
     },
     "execution_count": 8,
     "metadata": {},
     "output_type": "execute_result"
    }
   ],
   "source": [
    "dataset[dataset['SibSp'] > 0].sample(n=5,random_state=1)"
   ]
  },
  {
   "cell_type": "markdown",
   "id": "9f6c452f",
   "metadata": {},
   "source": [
    "<a href = #top>Back to top</a>\n",
    "<a name=\"analisisDatos1\"> </a>\n",
    "\n",
    "-----------------------------------------\n",
    "# Overview of the dataset(s)\n",
    "\n",
    "## Shape and Size"
   ]
  },
  {
   "cell_type": "code",
   "execution_count": null,
   "id": "0395588a",
   "metadata": {},
   "outputs": [],
   "source": [
    "print(f\"There are {dataset.shape[0]} rows and {dataset.shape[1]} columns.\\n\")\n",
    "print(\"Dataset size (rows x columns):\",\n",
    "      dataset.size)"
   ]
  },
  {
   "cell_type": "markdown",
   "id": "422fbed6",
   "metadata": {},
   "source": [
    "## Information"
   ]
  },
  {
   "cell_type": "code",
   "execution_count": null,
   "id": "3b98a983",
   "metadata": {
    "scrolled": true
   },
   "outputs": [],
   "source": [
    "dataset.info()"
   ]
  },
  {
   "cell_type": "markdown",
   "id": "0e79c6f2",
   "metadata": {},
   "source": [
    "## Data Types Count"
   ]
  },
  {
   "cell_type": "code",
   "execution_count": null,
   "id": "0ea292ae",
   "metadata": {},
   "outputs": [],
   "source": [
    "dataset.dtypes.value_counts()"
   ]
  },
  {
   "cell_type": "markdown",
   "id": "fc086411",
   "metadata": {},
   "source": [
    "## Duplicated Rows\n",
    "\n",
    "If there are duplicated values then the rows need to be dropped:\n",
    "\n",
    "> `dataset.drop_duplicates()`"
   ]
  },
  {
   "cell_type": "code",
   "execution_count": null,
   "id": "ca8eec8b",
   "metadata": {},
   "outputs": [],
   "source": [
    "dataset.duplicated().sum()"
   ]
  },
  {
   "cell_type": "markdown",
   "id": "acbef72e",
   "metadata": {},
   "source": [
    "## Column Labels"
   ]
  },
  {
   "cell_type": "code",
   "execution_count": null,
   "id": "8b43fcc4",
   "metadata": {
    "scrolled": true
   },
   "outputs": [],
   "source": [
    "dataset.columns.sort_values()"
   ]
  },
  {
   "cell_type": "markdown",
   "id": "79016f3e",
   "metadata": {},
   "source": [
    "## Columns Value Counts"
   ]
  },
  {
   "cell_type": "code",
   "execution_count": null,
   "id": "ebde26d7",
   "metadata": {
    "scrolled": true
   },
   "outputs": [],
   "source": [
    "dataset.count().sort_values(ascending=False)"
   ]
  },
  {
   "cell_type": "markdown",
   "id": "68d40607",
   "metadata": {},
   "source": [
    "## Features Missing Values"
   ]
  },
  {
   "cell_type": "code",
   "execution_count": null,
   "id": "06e73485",
   "metadata": {},
   "outputs": [],
   "source": [
    "# Let's check for missing values in the data\n",
    "round(dataset.isnull().sum().sort_values(ascending=False) / len(dataset) * 100, 2)"
   ]
  },
  {
   "cell_type": "markdown",
   "id": "a632677b",
   "metadata": {},
   "source": [
    "## Unique Values"
   ]
  },
  {
   "cell_type": "code",
   "execution_count": null,
   "id": "a75d7f04",
   "metadata": {
    "scrolled": true
   },
   "outputs": [],
   "source": [
    "dataset.nunique().sort_index()"
   ]
  },
  {
   "cell_type": "markdown",
   "id": "9eb58698",
   "metadata": {},
   "source": [
    "## Unique Value Counts for Non-numeric Features"
   ]
  },
  {
   "cell_type": "code",
   "execution_count": null,
   "id": "a199a4ea",
   "metadata": {},
   "outputs": [],
   "source": [
    "# Defining the maximum list size of unique values \n",
    "maxValuesDisplay = 10  \n",
    "\n",
    "for column in dataset.dtypes[dataset.dtypes == \"object\"].index:\n",
    "    # Counting the unique values for the column\n",
    "    valuesCount = dataset[column].value_counts(dropna = False)  \n",
    "    print('Feature:', column)\n",
    "    if len(valuesCount) > maxValuesDisplay:\n",
    "        print(f\"Only displaying first {maxValuesDisplay} of {len(valuesCount)} values.\\n\")\n",
    "    print(valuesCount[:maxValuesDisplay],'\\n')        \n",
    "    print('-' * 80,\"\\n\") "
   ]
  },
  {
   "cell_type": "markdown",
   "id": "19c3d346",
   "metadata": {},
   "source": [
    "## Data Statistical Description"
   ]
  },
  {
   "cell_type": "code",
   "execution_count": null,
   "id": "87cca438",
   "metadata": {},
   "outputs": [],
   "source": [
    "dataset.describe().T"
   ]
  },
  {
   "cell_type": "markdown",
   "id": "60c90214",
   "metadata": {},
   "source": [
    "## Observations:\n",
    "\n",
    "- **Cabin:** This feature has 77% of values missing, the values are the cabin number for the passenger, column candidate to be dropped.\n",
    "- **Age:** This feature has 20% of missing values, this value is only for the ticket owner, age of siblings, spouses, etc. were not captured.\n",
    "- **Pclass:** Ticket class, ordinal categorial feature.\n",
    "- **Ticket:** Ticket refers to the ticket number. The same family, including the parents and its sons and daughters, have same ticket number. If the family that boarded had 5 members (2 parents and 3 children) all 5 rows share same ticket number. \n",
    "- **SibSp:** "
   ]
  },
  {
   "cell_type": "markdown",
   "id": "574edd76",
   "metadata": {},
   "source": [
    "<a href = #top>Back to top</a>\n",
    "<a name=\"analisisDatos2\"> </a>\n",
    "\n",
    "-----------------------------------------\n",
    "# **Exploratory Data Analysis (EDA)**\n",
    "\n",
    "## *Univariate Data Analysis*"
   ]
  },
  {
   "cell_type": "markdown",
   "id": "8972ed6b",
   "metadata": {},
   "source": [
    "### Numeric Features Distribution and Variations\n",
    "\n",
    "Define function to display the boxplot and histogram vertically aligned."
   ]
  },
  {
   "cell_type": "code",
   "execution_count": null,
   "id": "c0153829",
   "metadata": {},
   "outputs": [],
   "source": [
    "# Defining the hist_box() function\n",
    "def hist_box(col):\n",
    "    print(col)\n",
    "    print('Skew :',round(dataset[col].skew(),2))\n",
    "    f, (ax_box, ax_hist) = plt.subplots(2,\n",
    "                                        sharex=True, \n",
    "                                        gridspec_kw={'height_ratios': (0.20, 0.80)}, \n",
    "                                        figsize=myFigSize_12_4)\n",
    "    \n",
    "    # Adding a graph in each part\n",
    "    sns.boxplot(dataset,\n",
    "                x = col,\n",
    "                ax=ax_box,\n",
    "                showmeans=True)\n",
    "    #plt.title(col,fontdict=fontTitles)\n",
    "    sns.distplot(dataset[col], \n",
    "                 ax=ax_hist)\n",
    "    #plt.title(col,fontdict=fontTitles)\n",
    "    plt.show()"
   ]
  },
  {
   "cell_type": "code",
   "execution_count": null,
   "id": "481c2273",
   "metadata": {
    "scrolled": true
   },
   "outputs": [],
   "source": [
    "for column in dataset.dtypes[(dataset.dtypes == 'int64') | (dataset.dtypes == 'float64')].index:\n",
    "    hist_box(column)"
   ]
  },
  {
   "cell_type": "markdown",
   "id": "122a55a8",
   "metadata": {},
   "source": [
    "### Checking relationships between survival and numerical variables"
   ]
  },
  {
   "cell_type": "code",
   "execution_count": null,
   "id": "165ad8c9",
   "metadata": {},
   "outputs": [],
   "source": [
    "# The mean of numerical features \n",
    "dataset.groupby(['Survived'])['Age','SibSp','Parch'].agg(['mean','std']).round(2)"
   ]
  },
  {
   "cell_type": "markdown",
   "id": "7ecc8fdc",
   "metadata": {},
   "source": [
    "### Categorical Features Distribution"
   ]
  },
  {
   "cell_type": "code",
   "execution_count": null,
   "id": "be67a4a4",
   "metadata": {},
   "outputs": [],
   "source": [
    "# The max unique values to display is determined from the unique values\n",
    "# section above\n",
    "maxUniqueValues = 25 + 1\n",
    "\n",
    "def bar_plots(col):\n",
    "    uniqueValues = dataset[col].nunique()\n",
    "    if uniqueValues < maxUniqueValues:\n",
    "        #print('Column Name: ', column)\n",
    "        if uniqueValues < 4:\n",
    "            thisFigSize = myFigSize_12_4\n",
    "        elif uniqueValues > 9:\n",
    "            thisFigSize = myFigSize_12_10\n",
    "        else:\n",
    "            thisFigSize = myFigSize_12_6\n",
    "        dataset[col].value_counts().plot(kind='barh',\n",
    "                                         title=column,\n",
    "                                         figsize=thisFigSize)\n",
    "        plt.show()"
   ]
  },
  {
   "cell_type": "code",
   "execution_count": null,
   "id": "c120bf53",
   "metadata": {
    "scrolled": true
   },
   "outputs": [],
   "source": [
    "for column in dataset.dtypes[(dataset.dtypes == 'object')].index:\n",
    "    bar_plots(column)"
   ]
  },
  {
   "cell_type": "code",
   "execution_count": null,
   "id": "d40735aa",
   "metadata": {},
   "outputs": [],
   "source": [
    "# Setting the dimensions of the plot\n",
    "fig, ax = plt.subplots(figsize=myFigSize_12_4)\n",
    "\n",
    "# Plot data\n",
    "survival = [0,1]\n",
    "\n",
    "# Create a data subset by iterating through the time value\n",
    "for i in survival:\n",
    "    subset = dataset[dataset['Survived'] == i]\n",
    "    # Draw the density plot`\n",
    "    # 'hist = False' will not plot a histogram\n",
    "    # 'kde = True' plots density curve\n",
    "    sns.distplot(subset['Age'], \n",
    "                 hist = True, \n",
    "                 ax=ax,\n",
    "                 #kde = True,\n",
    "                 #legend = True,\n",
    "                 kde_kws = {'shade':True},\n",
    "                 label = i)\n",
    "plt.title('Age per survival state distribution',fontdict=fontTitles)\n",
    "plt.ylabel('Density',fontdict=fontAxes)\n",
    "plt.xlabel('Age',fontdict=fontAxes)\n",
    "plt.show()"
   ]
  },
  {
   "cell_type": "code",
   "execution_count": null,
   "id": "8861eb9a",
   "metadata": {
    "scrolled": true
   },
   "outputs": [],
   "source": [
    "for column in ['Parch', 'Pclass', 'SibSp', 'Survived']:\n",
    "    bar_plots(column)\n",
    "    plt.show()"
   ]
  },
  {
   "cell_type": "markdown",
   "id": "0ff31b61",
   "metadata": {},
   "source": [
    "## *Bivariate Data Analysis*"
   ]
  },
  {
   "cell_type": "markdown",
   "id": "72df5ec4",
   "metadata": {},
   "source": [
    "### Correlation Matrix"
   ]
  },
  {
   "cell_type": "code",
   "execution_count": null,
   "id": "b3e96888",
   "metadata": {},
   "outputs": [],
   "source": [
    "# setting the dimensions of the plot\n",
    "fig, ax = plt.subplots(figsize=myFigSize_12_6)\n",
    "\n",
    "# Configure plot settings\n",
    "sns.heatmap(dataset.corr(), ax=ax, annot = True, fmt = '.2f', cmap=\"YlGnBu\")\n",
    "\n",
    "plt.title('Correlation Matrix for Numerical Features',fontdict=fontTitles)\n",
    "plt.ylabel('Features',fontdict=fontAxes)\n",
    "plt.xlabel('Features',fontdict=fontAxes)\n",
    "\n",
    "plt.show()"
   ]
  },
  {
   "cell_type": "markdown",
   "id": "f40d50b6",
   "metadata": {},
   "source": [
    "### Pair Plot"
   ]
  },
  {
   "cell_type": "code",
   "execution_count": null,
   "id": "866b2f4d",
   "metadata": {
    "scrolled": false
   },
   "outputs": [],
   "source": [
    "# Configure Pair Plot\n",
    "sns.pairplot(dataset, \n",
    "             #figsize=myFigSize_12_4,\n",
    "             hue = \"Sex\")\n",
    "\n",
    "# Add the axes labels to the plot\n",
    "#plt.title('Features Plotting',fontdict=fontTitles)\n",
    "#plt.ylabel('Features',fontdict=fontAxes)\n",
    "#plt.xlabel('Features',fontdict=fontAxes)\n",
    "\n",
    "# Displaying the plot\n",
    "plt.show()"
   ]
  },
  {
   "cell_type": "markdown",
   "id": "4081afb9",
   "metadata": {},
   "source": [
    "### Survival rate against passenger class"
   ]
  },
  {
   "cell_type": "code",
   "execution_count": null,
   "id": "78381004",
   "metadata": {},
   "outputs": [],
   "source": [
    "# setting the dimensions of the plot\n",
    "fig, ax = plt.subplots(figsize=myFigSize_12_4)\n",
    "\n",
    "# Count plot\n",
    "sns.countplot(x='Pclass',\n",
    "              data=dataset,\n",
    "              ax=ax,\n",
    "              #legend=False,\n",
    "              hue='Survived')\n",
    "\n",
    "# Display the plot\n",
    "plt.title('Absolute Survival Rate per Passenger Class',fontdict=fontTitles)\n",
    "plt.ylabel('Count',fontdict=fontAxes)\n",
    "plt.xlabel('Passenger Class',fontdict=fontAxes)\n",
    "plt.show()"
   ]
  },
  {
   "cell_type": "code",
   "execution_count": null,
   "id": "e285e3c8",
   "metadata": {},
   "outputs": [],
   "source": [
    "# setting the dimensions of the plot\n",
    "#plt.figure(figsize=myFigSize_12_4)\n",
    "\n",
    "# Distribution Plot\n",
    "sns.displot(data=dataset,\n",
    "            #ax=ax,\n",
    "            x='Pclass',\n",
    "            hue='Survived',\n",
    "            kind='hist',\n",
    "            #kde=True,\n",
    "            # multiple{“layer”, “dodge”, “stack”, “fill”}\n",
    "            multiple='fill')\n",
    "\n",
    "# Display the plot\n",
    "plt.title('Relative Survival Rate per Passenger Class',fontdict=fontTitles)\n",
    "plt.ylabel('Count',fontdict=fontAxes)\n",
    "plt.xlabel('Passenger Class',fontdict=fontAxes)\n",
    "plt.show()"
   ]
  },
  {
   "cell_type": "code",
   "execution_count": null,
   "id": "e76c840f",
   "metadata": {},
   "outputs": [],
   "source": [
    "# Dataframe pivot table\n",
    "pd.pivot_table(dataset,\n",
    "               index='Pclass',\n",
    "               values='Survived',\n",
    "               aggfunc=['median','mean','std','min','max','count','sum'],\n",
    "               margins=True,\n",
    "               margins_name='Total:'\n",
    "              ).round(2)"
   ]
  },
  {
   "cell_type": "code",
   "execution_count": null,
   "id": "3cf15c2d",
   "metadata": {},
   "outputs": [],
   "source": [
    "# Dataframe pivot table\n",
    "pd.pivot_table(dataset,\n",
    "               index='Pclass', \n",
    "               values='Survived',\n",
    "               aggfunc=['count','sum']               \n",
    "              ).plot(kind='bar', \n",
    "                     figsize=myFigSize_12_4, \n",
    "                     title='Absolute passengers count vs total survived')"
   ]
  },
  {
   "cell_type": "markdown",
   "id": "a8f83fac",
   "metadata": {},
   "source": [
    "### Survival rate vs embarcation port"
   ]
  },
  {
   "cell_type": "code",
   "execution_count": null,
   "id": "11276d62",
   "metadata": {},
   "outputs": [],
   "source": [
    "# setting the dimensions of the plot\n",
    "#fig, ax = plt.subplots(figsize=myFigSize_12_4)\n",
    "\n",
    "# Distribution Plot\n",
    "sns.displot(data=dataset,\n",
    "            x='Embarked',\n",
    "            hue='Survived',\n",
    "            #ax=ax,\n",
    "            kind='hist',\n",
    "            kde=True,\n",
    "            # multiple{“layer”, “dodge”, “stack”, “fill”}\n",
    "            multiple='dodge')\n",
    "\n",
    "# Display the plot\n",
    "plt.title('Absolute Survival Rate per Embarked Port',fontdict=fontTitles)\n",
    "plt.ylabel('Embarked',fontdict=fontAxes)\n",
    "plt.xlabel('Count',fontdict=fontAxes)\n",
    "plt.show()"
   ]
  },
  {
   "cell_type": "code",
   "execution_count": null,
   "id": "0763904a",
   "metadata": {},
   "outputs": [],
   "source": [
    "# setting the dimensions of the plot\n",
    "#fig, ax = plt.subplots(figsize=myFigSize_12_4)\n",
    "\n",
    "# Distribution Plot\n",
    "sns.displot(data=dataset,\n",
    "            #ax=ax,\n",
    "            x='Embarked',\n",
    "            hue='Survived',\n",
    "            kind='hist',\n",
    "            #kde=True,\n",
    "            # multiple{“layer”, “dodge”, “stack”, “fill”}\n",
    "            multiple='fill')\n",
    "\n",
    "# Display the plot\n",
    "plt.title('Relative Survival Rate per Embarkation Port',fontdict=fontTitles)\n",
    "plt.ylabel('Count',fontdict=fontAxes)\n",
    "plt.xlabel('Embarked',fontdict=fontAxes)\n",
    "plt.show()"
   ]
  },
  {
   "cell_type": "code",
   "execution_count": null,
   "id": "f45e70b2",
   "metadata": {},
   "outputs": [],
   "source": [
    "# Dataframe pivot table\n",
    "pd.pivot_table(dataset,\n",
    "               index='Embarked', #['Embarked','Survived'],\n",
    "               values='Survived',\n",
    "               aggfunc=['median','mean','std','min','max','count','sum'],\n",
    "               margins=True,\n",
    "               margins_name='Total:'\n",
    "              ).round(2)"
   ]
  },
  {
   "cell_type": "markdown",
   "id": "684a0221",
   "metadata": {},
   "source": [
    "### Survival rate vs sex"
   ]
  },
  {
   "cell_type": "code",
   "execution_count": null,
   "id": "563f50c9",
   "metadata": {},
   "outputs": [],
   "source": [
    "# setting the dimensions of the plot\n",
    "#fig, ax = plt.subplots(figsize=myFigSize_12_4)\n",
    "\n",
    "# Distribution Plot\n",
    "sns.displot(data=dataset,\n",
    "            #ax=ax,\n",
    "            x='Sex',\n",
    "            hue='Survived',\n",
    "            kind='hist',\n",
    "            #kde=True,\n",
    "            # multiple{“layer”, “dodge”, “stack”, “fill”}\n",
    "            multiple='dodge')\n",
    "\n",
    "# Display the plot\n",
    "plt.title('Absolute Survival Rate per Sex'plt.title,fontdict=fontTitles)\n",
    "plt.ylabel('Count',fontdict=fontAxes)\n",
    "plt.xlabel('Sex',fontdict=fontAxes)\n",
    "plt.show()"
   ]
  },
  {
   "cell_type": "code",
   "execution_count": null,
   "id": "f9ad362f",
   "metadata": {},
   "outputs": [],
   "source": [
    "# setting the dimensions of the plot\n",
    "#fig, ax = plt.subplots(figsize=myFigSize_12_4)\n",
    "\n",
    "# Distribution Plot\n",
    "sns.displot(data=dataset,\n",
    "            #ax=ax,\n",
    "            x='Sex',\n",
    "            hue='Survived',\n",
    "            kind='hist',\n",
    "            #kde=True,\n",
    "            # multiple{“layer”, “dodge”, “stack”, “fill”}\n",
    "            multiple='fill')\n",
    "\n",
    "# Display the plot\n",
    "plt.title('Relative Survival Rate per Sex',fontdict=fontTitles)\n",
    "plt.ylabel('Count',fontdict=fontAxes)\n",
    "plt.xlabel('Sex',fontdict=fontAxes)\n",
    "plt.show()"
   ]
  },
  {
   "cell_type": "code",
   "execution_count": null,
   "id": "2bbb6985",
   "metadata": {},
   "outputs": [],
   "source": [
    "# Dataframe pivot table\n",
    "pd.pivot_table(dataset,\n",
    "               index='Sex', \n",
    "               values='Survived',\n",
    "               aggfunc=['median','mean','std','min','max','count','sum'],\n",
    "               margins=True,\n",
    "               margins_name='Total:'\n",
    "              ).round(2)"
   ]
  },
  {
   "cell_type": "markdown",
   "id": "01404ac5",
   "metadata": {},
   "source": [
    "### Survival rate vs age"
   ]
  },
  {
   "cell_type": "code",
   "execution_count": null,
   "id": "2b7253b9",
   "metadata": {},
   "outputs": [],
   "source": [
    "# Setting the dimensions of the plot\n",
    "#fig, ax = plt.subplots(figsize=myFigSize_12_4)\n",
    "\n",
    "# Distribution Plot\n",
    "sns.displot(data=dataset,\n",
    "            #ax=ax,\n",
    "            x='Age',\n",
    "            hue='Survived',\n",
    "            kind='hist',\n",
    "            kde=True,\n",
    "            # multiple{“layer”, “dodge”, “stack”, “fill”}\n",
    "            multiple='dodge')\n",
    "\n",
    "# Display the plot\n",
    "plt.title('Absolute Survival Rate per Age',fontdict=fontTitles)\n",
    "plt.ylabel('Age',fontdict=fontAxes)\n",
    "plt.xlabel('Count',fontdict=fontAxes)\n",
    "\n",
    "plt.show()"
   ]
  },
  {
   "cell_type": "markdown",
   "id": "3d550755",
   "metadata": {},
   "source": [
    "#### Adding an age binning feature for analysis"
   ]
  },
  {
   "cell_type": "code",
   "execution_count": 9,
   "id": "14b26fe6",
   "metadata": {},
   "outputs": [],
   "source": [
    "def addAgeBins(data):\n",
    "    #Age binning\n",
    "    data['Age_bin'] = pd.cut(data['Age'], \n",
    "                             bins=[0,10,20,30,40,50,60,100], \n",
    "                             labels=['0-10','11-20','21-30','31-40','41-50','51-60','60+'])\n",
    "    return data"
   ]
  },
  {
   "cell_type": "code",
   "execution_count": 10,
   "id": "2e388f61",
   "metadata": {},
   "outputs": [
    {
     "data": {
      "text/html": [
       "<div>\n",
       "<style scoped>\n",
       "    .dataframe tbody tr th:only-of-type {\n",
       "        vertical-align: middle;\n",
       "    }\n",
       "\n",
       "    .dataframe tbody tr th {\n",
       "        vertical-align: top;\n",
       "    }\n",
       "\n",
       "    .dataframe thead th {\n",
       "        text-align: right;\n",
       "    }\n",
       "</style>\n",
       "<table border=\"1\" class=\"dataframe\">\n",
       "  <thead>\n",
       "    <tr style=\"text-align: right;\">\n",
       "      <th></th>\n",
       "      <th>Survived</th>\n",
       "      <th>Pclass</th>\n",
       "      <th>Name</th>\n",
       "      <th>Sex</th>\n",
       "      <th>Age</th>\n",
       "      <th>SibSp</th>\n",
       "      <th>Parch</th>\n",
       "      <th>Ticket</th>\n",
       "      <th>Fare</th>\n",
       "      <th>Cabin</th>\n",
       "      <th>Embarked</th>\n",
       "      <th>Age_bin</th>\n",
       "    </tr>\n",
       "    <tr>\n",
       "      <th>PassengerId</th>\n",
       "      <th></th>\n",
       "      <th></th>\n",
       "      <th></th>\n",
       "      <th></th>\n",
       "      <th></th>\n",
       "      <th></th>\n",
       "      <th></th>\n",
       "      <th></th>\n",
       "      <th></th>\n",
       "      <th></th>\n",
       "      <th></th>\n",
       "      <th></th>\n",
       "    </tr>\n",
       "  </thead>\n",
       "  <tbody>\n",
       "    <tr>\n",
       "      <th>863</th>\n",
       "      <td>1</td>\n",
       "      <td>1</td>\n",
       "      <td>Swift, Mrs. Frederick Joel (Margaret Welles Ba...</td>\n",
       "      <td>female</td>\n",
       "      <td>48.0</td>\n",
       "      <td>0</td>\n",
       "      <td>0</td>\n",
       "      <td>17466</td>\n",
       "      <td>25.9292</td>\n",
       "      <td>D17</td>\n",
       "      <td>S</td>\n",
       "      <td>41-50</td>\n",
       "    </tr>\n",
       "    <tr>\n",
       "      <th>224</th>\n",
       "      <td>0</td>\n",
       "      <td>3</td>\n",
       "      <td>Nenkoff, Mr. Christo</td>\n",
       "      <td>male</td>\n",
       "      <td>NaN</td>\n",
       "      <td>0</td>\n",
       "      <td>0</td>\n",
       "      <td>349234</td>\n",
       "      <td>7.8958</td>\n",
       "      <td>NaN</td>\n",
       "      <td>S</td>\n",
       "      <td>NaN</td>\n",
       "    </tr>\n",
       "    <tr>\n",
       "      <th>85</th>\n",
       "      <td>1</td>\n",
       "      <td>2</td>\n",
       "      <td>Ilett, Miss. Bertha</td>\n",
       "      <td>female</td>\n",
       "      <td>17.0</td>\n",
       "      <td>0</td>\n",
       "      <td>0</td>\n",
       "      <td>SO/C 14885</td>\n",
       "      <td>10.5000</td>\n",
       "      <td>NaN</td>\n",
       "      <td>S</td>\n",
       "      <td>11-20</td>\n",
       "    </tr>\n",
       "    <tr>\n",
       "      <th>681</th>\n",
       "      <td>0</td>\n",
       "      <td>3</td>\n",
       "      <td>Peters, Miss. Katie</td>\n",
       "      <td>female</td>\n",
       "      <td>NaN</td>\n",
       "      <td>0</td>\n",
       "      <td>0</td>\n",
       "      <td>330935</td>\n",
       "      <td>8.1375</td>\n",
       "      <td>NaN</td>\n",
       "      <td>Q</td>\n",
       "      <td>NaN</td>\n",
       "    </tr>\n",
       "    <tr>\n",
       "      <th>536</th>\n",
       "      <td>1</td>\n",
       "      <td>2</td>\n",
       "      <td>Hart, Miss. Eva Miriam</td>\n",
       "      <td>female</td>\n",
       "      <td>7.0</td>\n",
       "      <td>0</td>\n",
       "      <td>2</td>\n",
       "      <td>F.C.C. 13529</td>\n",
       "      <td>26.2500</td>\n",
       "      <td>NaN</td>\n",
       "      <td>S</td>\n",
       "      <td>0-10</td>\n",
       "    </tr>\n",
       "  </tbody>\n",
       "</table>\n",
       "</div>"
      ],
      "text/plain": [
       "             Survived  Pclass  \\\n",
       "PassengerId                     \n",
       "863                 1       1   \n",
       "224                 0       3   \n",
       "85                  1       2   \n",
       "681                 0       3   \n",
       "536                 1       2   \n",
       "\n",
       "                                                          Name     Sex   Age  \\\n",
       "PassengerId                                                                    \n",
       "863          Swift, Mrs. Frederick Joel (Margaret Welles Ba...  female  48.0   \n",
       "224                                       Nenkoff, Mr. Christo    male   NaN   \n",
       "85                                         Ilett, Miss. Bertha  female  17.0   \n",
       "681                                        Peters, Miss. Katie  female   NaN   \n",
       "536                                     Hart, Miss. Eva Miriam  female   7.0   \n",
       "\n",
       "             SibSp  Parch        Ticket     Fare Cabin Embarked Age_bin  \n",
       "PassengerId                                                              \n",
       "863              0      0         17466  25.9292   D17        S   41-50  \n",
       "224              0      0        349234   7.8958   NaN        S     NaN  \n",
       "85               0      0    SO/C 14885  10.5000   NaN        S   11-20  \n",
       "681              0      0        330935   8.1375   NaN        Q     NaN  \n",
       "536              0      2  F.C.C. 13529  26.2500   NaN        S    0-10  "
      ]
     },
     "execution_count": 10,
     "metadata": {},
     "output_type": "execute_result"
    }
   ],
   "source": [
    "dataset = addAgeBins(dataset)\n",
    "dataset.sample(n=5,random_state=1)"
   ]
  },
  {
   "cell_type": "code",
   "execution_count": null,
   "id": "4c29ca8f",
   "metadata": {},
   "outputs": [],
   "source": [
    "# setting the dimensions of the plot\n",
    "#fig, ax = plt.subplots(figsize=myFigSize_12_4)\n",
    "\n",
    "# Distribution Plot\n",
    "sns.displot(data=dataset,\n",
    "            #ax=ax,\n",
    "            x='Age_bin',\n",
    "            hue='Survived',\n",
    "            kind='hist',\n",
    "            kde=True,\n",
    "            # multiple{“layer”, “dodge”, “stack”, “fill”}\n",
    "            multiple='dodge')\n",
    "\n",
    "# Display the plot\n",
    "plt.title('Absolute Survival Rate per Age',fontdict=fontTitles)\n",
    "plt.ylabel('Count',fontdict=fontAxes)\n",
    "plt.xlabel('Age Bins',fontdict=fontAxes)\n",
    "\n",
    "plt.show()"
   ]
  },
  {
   "cell_type": "code",
   "execution_count": null,
   "id": "35c89ace",
   "metadata": {
    "scrolled": false
   },
   "outputs": [],
   "source": [
    "# setting the dimensions of the plot\n",
    "fig, ax = plt.subplots(figsize=myFigSize_12_4)\n",
    "\n",
    "# Strip Plot (scatter plot for category features)\n",
    "sns.stripplot(y='Age',\n",
    "              x='Survived',\n",
    "              data=dataset,\n",
    "              ax=ax,\n",
    "              #size='SibSp',\n",
    "              #sizes=(5,10),\n",
    "              legend=True,\n",
    "              alpha=0.65,\n",
    "              jitter=True,\n",
    "              hue='Sex')\n",
    "\n",
    "# Display the plot\n",
    "plt.title('Survival per Age Frequency Distribution by Sex',fontdict=fontTitles)\n",
    "plt.ylabel('Age',fontdict=fontAxes)\n",
    "plt.xlabel('Survived',fontdict=fontAxes)\n",
    "\n",
    "plt.show()"
   ]
  },
  {
   "cell_type": "code",
   "execution_count": null,
   "id": "219e85ff",
   "metadata": {},
   "outputs": [],
   "source": [
    "# setting the dimensions of the plot\n",
    "#fig, ax = plt.subplots(figsize=myFigSize_12_4)\n",
    "\n",
    "# Distribution Plot\n",
    "sns.displot(data=dataset,\n",
    "            #ax=ax,\n",
    "            x='Age',\n",
    "            hue='Survived',\n",
    "            kind='hist',\n",
    "            #kde=True,\n",
    "            # multiple{“layer”, “dodge”, “stack”, “fill”}\n",
    "            multiple='fill')\n",
    "\n",
    "# Display the plot\n",
    "plt.title('Relative Survival Rate per Age')\n",
    "plt.ylabel('Count',fontdict=fontAxes)\n",
    "plt.xlabel('Age',fontdict=fontAxes)\n",
    "\n",
    "plt.show()"
   ]
  },
  {
   "cell_type": "code",
   "execution_count": null,
   "id": "953d3ef9",
   "metadata": {},
   "outputs": [],
   "source": [
    "# setting the dimensions of the plot\n",
    "fig, ax = plt.subplots(figsize=myFigSize_12_4)\n",
    "\n",
    "# Setup the violin plot\n",
    "sns.violinplot(y='Age',\n",
    "               x='Survived',\n",
    "               data=dataset,\n",
    "               ax=ax,\n",
    "               hue='Sex',\n",
    "               split=True) #,order[])\n",
    "\n",
    "# add the axes labels to the plot\n",
    "plt.title('Survival vs Age Dispersion',fontdict=fontTitles)\n",
    "plt.ylabel('Age',fontdict=fontAxes)\n",
    "plt.xlabel('Parch',fontdict=fontAxes)\n",
    "\n",
    "# Displaying the plot\n",
    "plt.show()"
   ]
  },
  {
   "cell_type": "markdown",
   "id": "9b9cdfad",
   "metadata": {},
   "source": [
    "### Passenger class, embarking port and sex analysis"
   ]
  },
  {
   "cell_type": "code",
   "execution_count": null,
   "id": "20256d6b",
   "metadata": {},
   "outputs": [],
   "source": [
    "# Dataframe pivot table\n",
    "pd.pivot_table(dataset,\n",
    "               index=['Pclass','Embarked','Sex'],\n",
    "               values='Survived',\n",
    "               aggfunc=['mean','std','count','sum'],\n",
    "               margins=True,\n",
    "               margins_name='Total:'\n",
    "              ).round(2)"
   ]
  },
  {
   "cell_type": "code",
   "execution_count": null,
   "id": "82ef560d",
   "metadata": {},
   "outputs": [],
   "source": [
    "# Dataframe pivot table\n",
    "pd.pivot_table(dataset,\n",
    "               index=['Pclass','Sex'], \n",
    "               values='Survived',\n",
    "               aggfunc=['count','sum']               \n",
    "              ).plot(kind='bar', #'bar','line','histogram','scatter',\n",
    "                     figsize=myFigSize_12_4, \n",
    "                     xlabel='Passenger Class / Sex',\n",
    "                     title='Total passengers count vs total survived by class and sex')"
   ]
  },
  {
   "cell_type": "code",
   "execution_count": null,
   "id": "251bb557",
   "metadata": {},
   "outputs": [],
   "source": [
    "dataset.groupby(['Pclass','Embarked','Sex'])['Survived'].agg(['mean','std','count','sum']).round(2)"
   ]
  },
  {
   "cell_type": "markdown",
   "id": "2b4ea51f",
   "metadata": {},
   "source": [
    "<a name=\"survivalProba\"> </a>\n",
    "#### Observations:\n",
    "\n",
    "- *First Passenger Class (1):* Females no matter where did they embark had a minimum survival probability of 95.8%, a survival average of 97.83%. Men's average survival rate was 25.26%.\n",
    "- *Second Passenger Class (2):* Females average survival rate is 97.03%. Men average falls down to 11.83%.\n",
    "- *Third Passenger Class (3):* Females survival average rate is 58.47%. Men average is just 14.59%.\n",
    "- The chance of survival for a *third* class passenger is lower than for the other classes, for *third* class female passengers the survival rate is 40% lower compared to *first* and *second* class females.\n",
    "- Key relations: \n",
    "    - Just being a female increases the chance of survival by 3.9 times. Female: 74.2%. Male: 18.9%.\n",
    "    - Being a passenger in a higher provides more chance of survival. Class 1: 62.9%. Class 2: 47.3%. Class 3: 24.3%.\n",
    "    - The embarkation port also has a noticeable influence. Cherbourg (C): 55.3%. Queenstown (Q): 38.9%. Southampton (S): 33.7%.\n",
    "- Weight factors:    \n",
    "    - Female in class 1 embarked at Cherbourg: 25.8%.\n",
    "    - Male in class 3 embarked at Southampton: 1.5%"
   ]
  },
  {
   "cell_type": "markdown",
   "id": "2d16cf99",
   "metadata": {},
   "source": [
    "### Age vs fare amount\n",
    "\n",
    "Fare is the total amount paid for the entire family group, therefore cannot be used as prorated amount per person."
   ]
  },
  {
   "cell_type": "code",
   "execution_count": null,
   "id": "617d7cc6",
   "metadata": {},
   "outputs": [],
   "source": [
    "# Setup the scatter plot\n",
    "sns.scatterplot(y='Fare',\n",
    "                x='Age',\n",
    "                data=dataset,\n",
    "                #ax=ax,\n",
    "                size='SibSp',\n",
    "                legend=True,\n",
    "                alpha=0.65,\n",
    "                sizes=(5,100),\n",
    "                hue='Survived')\n",
    "\n",
    "# add the axes labels to the plot\n",
    "plt.title('Distribution of Age vrs Fare Cost',fontdict=fontTitles)\n",
    "plt.ylabel('Fare')\n",
    "plt.xlabel('Age')\n",
    "\n",
    "# display the plot\n",
    "plt.show()"
   ]
  },
  {
   "cell_type": "code",
   "execution_count": null,
   "id": "0dc44ec1",
   "metadata": {},
   "outputs": [],
   "source": [
    "# Creating pivot table\n",
    "#dataset.groupby(['Embarked','Sex'])['Fare'].agg(['median','mean','std','min','max','sum'])\n",
    "pd.pivot_table(dataset,\n",
    "               index=['Embarked','Survived'],\n",
    "               values='Fare',\n",
    "               aggfunc=['mean','median','std','min','max','sum'],\n",
    "               margins=True,\n",
    "               margins_name='Total:'\n",
    "              ).round(2)"
   ]
  },
  {
   "cell_type": "markdown",
   "id": "25474276",
   "metadata": {},
   "source": [
    "### Survival rate vs fare and passenger class"
   ]
  },
  {
   "cell_type": "code",
   "execution_count": null,
   "id": "a18f402b",
   "metadata": {},
   "outputs": [],
   "source": [
    "# setting the dimensions of the plot\n",
    "fig, ax = plt.subplots(figsize=myFigSize_12_4)\n",
    "\n",
    "# Setup the violin plot\n",
    "sns.violinplot(y='Fare',\n",
    "               x='Pclass',\n",
    "               data=dataset,\n",
    "               ax=ax,\n",
    "               hue='Survived',\n",
    "               split=True) #,order[])\n",
    "\n",
    "# add the axes labels to the plot\n",
    "plt.title('Ticket Class vrs Fare Cost',fontdict=fontTitles)\n",
    "plt.ylabel('Fare Cost',fontdict=fontAxes)\n",
    "plt.xlabel('Ticket Class',fontdict=fontAxes)\n",
    "\n",
    "# Displaying the plot\n",
    "plt.show()"
   ]
  },
  {
   "cell_type": "code",
   "execution_count": null,
   "id": "13511dc3",
   "metadata": {},
   "outputs": [],
   "source": [
    "# setting the dimensions of the plot\n",
    "fig, ax = plt.subplots(figsize=myFigSize_12_4)\n",
    "\n",
    "# Setup the violin plot\n",
    "sns.violinplot(y='Age',\n",
    "               x='Pclass',\n",
    "               data=dataset,\n",
    "               ax=ax,\n",
    "               hue='Survived',\n",
    "               split=True) #,order[])\n",
    "\n",
    "# add the axes labels to the plot\n",
    "plt.title('Ticket Class vrs Fare Cost',fontdict=fontTitles)\n",
    "plt.ylabel('Age',fontdict=fontAxes)\n",
    "plt.xlabel('Ticket Class',fontdict=fontAxes)\n",
    "\n",
    "# Displaying the plot\n",
    "plt.show()"
   ]
  },
  {
   "cell_type": "code",
   "execution_count": null,
   "id": "06cf6b1b",
   "metadata": {},
   "outputs": [],
   "source": [
    "# setting the dimensions of the plot\n",
    "fig, ax = plt.subplots(figsize=myFigSize_12_4)\n",
    "\n",
    "# Setup the violin plot\n",
    "sns.violinplot(y='Age',\n",
    "               x='SibSp',\n",
    "               data=dataset,\n",
    "               ax=ax,\n",
    "               hue='Survived',\n",
    "               split=True) #,order[])\n",
    "\n",
    "# add the axes labels to the plot\n",
    "plt.title('Age vs Siblings/Spouse',fontdict=fontTitles)\n",
    "plt.ylabel('Age',fontdict=fontAxes)\n",
    "plt.xlabel('Siblings/Spouse',fontdict=fontAxes)"
   ]
  },
  {
   "cell_type": "code",
   "execution_count": null,
   "id": "c19d41c4",
   "metadata": {},
   "outputs": [],
   "source": [
    "# setting the dimensions of the plot\n",
    "fig, ax = plt.subplots(figsize=myFigSize_12_4)\n",
    "\n",
    "# Setup the violin plot\n",
    "sns.violinplot(y='Age',\n",
    "               x='Parch',\n",
    "               data=dataset,\n",
    "               ax=ax,\n",
    "               hue='Survived',\n",
    "               split=True) #,order[])\n",
    "\n",
    "# add the axes labels to the plot\n",
    "plt.title('Ticket Class vrs Fare Cost',fontdict=fontTitles)\n",
    "plt.ylabel('Age',fontdict=fontAxes)\n",
    "plt.xlabel('Parch',fontdict=fontAxes)\n",
    "\n",
    "# Displaying the plot\n",
    "plt.show()"
   ]
  },
  {
   "attachments": {
    "Feature%20Engineering%20for%20ML.png": {
     "image/png": "[encoded data removed]"
    }
   },
   "cell_type": "markdown",
   "id": "763d7351",
   "metadata": {},
   "source": [
    "<a href = #top>Back to top</a>\n",
    "<a name=\"preparacionDatos\"> </a>\n",
    "\n",
    "-----------------------------------------\n",
    "# Data Preparation for Building Models\n",
    "\n",
    "## Transform Dataset(s)\n",
    "\n",
    "![Feature%20Engineering%20for%20ML.png](attachment:Feature%20Engineering%20for%20ML.png)\n",
    "\n",
    "[Feature Engineering Lego Blocks](https://youtu.be/X4pWmkxEikM?t=308)"
   ]
  },
  {
   "cell_type": "markdown",
   "id": "0c841ab1",
   "metadata": {},
   "source": [
    "## Imputing missing values\n",
    "\n",
    "### Checking dataset's missing values"
   ]
  },
  {
   "cell_type": "code",
   "execution_count": 11,
   "id": "0f01e910",
   "metadata": {
    "scrolled": true
   },
   "outputs": [
    {
     "data": {
      "text/plain": [
       "Survived      0\n",
       "Pclass        0\n",
       "Name          0\n",
       "Sex           0\n",
       "Age         177\n",
       "SibSp         0\n",
       "Parch         0\n",
       "Ticket        0\n",
       "Fare          0\n",
       "Cabin       687\n",
       "Embarked      2\n",
       "Age_bin     177\n",
       "dtype: int64"
      ]
     },
     "execution_count": 11,
     "metadata": {},
     "output_type": "execute_result"
    }
   ],
   "source": [
    "dataset.isnull().sum()"
   ]
  },
  {
   "cell_type": "markdown",
   "id": "2e557249",
   "metadata": {},
   "source": [
    "### Filling missing values\n",
    "\n",
    "Cabin feature will be discarded for modelling son no need to impute missing values there."
   ]
  },
  {
   "cell_type": "code",
   "execution_count": 12,
   "id": "79250a48",
   "metadata": {},
   "outputs": [],
   "source": [
    "def fillingMissingValues(data):\n",
    "    # Missing values imputation\n",
    "    embarkedFillValue = data['Embarked'].mode()\n",
    "    ageBinFillValue = data['Age_bin'].mode()\n",
    "\n",
    "    data['Age'].fillna(data['Age'].median(), inplace=True)\n",
    "    data['Age_bin'].fillna(ageBinFillValue[0], inplace=True)\n",
    "    data['Embarked'].fillna(embarkedFillValue[0], inplace=True)\n",
    "    \n",
    "    # Printing missing values imputation results\n",
    "    print('Missing Values Counts:')\n",
    "    print(data.isnull().sum())\n",
    "    \n",
    "    return data"
   ]
  },
  {
   "cell_type": "code",
   "execution_count": 13,
   "id": "abd21116",
   "metadata": {},
   "outputs": [
    {
     "name": "stdout",
     "output_type": "stream",
     "text": [
      "Missing Values Counts:\n",
      "Survived      0\n",
      "Pclass        0\n",
      "Name          0\n",
      "Sex           0\n",
      "Age           0\n",
      "SibSp         0\n",
      "Parch         0\n",
      "Ticket        0\n",
      "Fare          0\n",
      "Cabin       687\n",
      "Embarked      0\n",
      "Age_bin       0\n",
      "dtype: int64\n"
     ]
    },
    {
     "data": {
      "text/html": [
       "<div>\n",
       "<style scoped>\n",
       "    .dataframe tbody tr th:only-of-type {\n",
       "        vertical-align: middle;\n",
       "    }\n",
       "\n",
       "    .dataframe tbody tr th {\n",
       "        vertical-align: top;\n",
       "    }\n",
       "\n",
       "    .dataframe thead th {\n",
       "        text-align: right;\n",
       "    }\n",
       "</style>\n",
       "<table border=\"1\" class=\"dataframe\">\n",
       "  <thead>\n",
       "    <tr style=\"text-align: right;\">\n",
       "      <th></th>\n",
       "      <th>Survived</th>\n",
       "      <th>Pclass</th>\n",
       "      <th>Name</th>\n",
       "      <th>Sex</th>\n",
       "      <th>Age</th>\n",
       "      <th>SibSp</th>\n",
       "      <th>Parch</th>\n",
       "      <th>Ticket</th>\n",
       "      <th>Fare</th>\n",
       "      <th>Cabin</th>\n",
       "      <th>Embarked</th>\n",
       "      <th>Age_bin</th>\n",
       "    </tr>\n",
       "    <tr>\n",
       "      <th>PassengerId</th>\n",
       "      <th></th>\n",
       "      <th></th>\n",
       "      <th></th>\n",
       "      <th></th>\n",
       "      <th></th>\n",
       "      <th></th>\n",
       "      <th></th>\n",
       "      <th></th>\n",
       "      <th></th>\n",
       "      <th></th>\n",
       "      <th></th>\n",
       "      <th></th>\n",
       "    </tr>\n",
       "  </thead>\n",
       "  <tbody>\n",
       "    <tr>\n",
       "      <th>863</th>\n",
       "      <td>1</td>\n",
       "      <td>1</td>\n",
       "      <td>Swift, Mrs. Frederick Joel (Margaret Welles Ba...</td>\n",
       "      <td>female</td>\n",
       "      <td>48.0</td>\n",
       "      <td>0</td>\n",
       "      <td>0</td>\n",
       "      <td>17466</td>\n",
       "      <td>25.9292</td>\n",
       "      <td>D17</td>\n",
       "      <td>S</td>\n",
       "      <td>41-50</td>\n",
       "    </tr>\n",
       "    <tr>\n",
       "      <th>224</th>\n",
       "      <td>0</td>\n",
       "      <td>3</td>\n",
       "      <td>Nenkoff, Mr. Christo</td>\n",
       "      <td>male</td>\n",
       "      <td>28.0</td>\n",
       "      <td>0</td>\n",
       "      <td>0</td>\n",
       "      <td>349234</td>\n",
       "      <td>7.8958</td>\n",
       "      <td>NaN</td>\n",
       "      <td>S</td>\n",
       "      <td>21-30</td>\n",
       "    </tr>\n",
       "    <tr>\n",
       "      <th>85</th>\n",
       "      <td>1</td>\n",
       "      <td>2</td>\n",
       "      <td>Ilett, Miss. Bertha</td>\n",
       "      <td>female</td>\n",
       "      <td>17.0</td>\n",
       "      <td>0</td>\n",
       "      <td>0</td>\n",
       "      <td>SO/C 14885</td>\n",
       "      <td>10.5000</td>\n",
       "      <td>NaN</td>\n",
       "      <td>S</td>\n",
       "      <td>11-20</td>\n",
       "    </tr>\n",
       "    <tr>\n",
       "      <th>681</th>\n",
       "      <td>0</td>\n",
       "      <td>3</td>\n",
       "      <td>Peters, Miss. Katie</td>\n",
       "      <td>female</td>\n",
       "      <td>28.0</td>\n",
       "      <td>0</td>\n",
       "      <td>0</td>\n",
       "      <td>330935</td>\n",
       "      <td>8.1375</td>\n",
       "      <td>NaN</td>\n",
       "      <td>Q</td>\n",
       "      <td>21-30</td>\n",
       "    </tr>\n",
       "    <tr>\n",
       "      <th>536</th>\n",
       "      <td>1</td>\n",
       "      <td>2</td>\n",
       "      <td>Hart, Miss. Eva Miriam</td>\n",
       "      <td>female</td>\n",
       "      <td>7.0</td>\n",
       "      <td>0</td>\n",
       "      <td>2</td>\n",
       "      <td>F.C.C. 13529</td>\n",
       "      <td>26.2500</td>\n",
       "      <td>NaN</td>\n",
       "      <td>S</td>\n",
       "      <td>0-10</td>\n",
       "    </tr>\n",
       "  </tbody>\n",
       "</table>\n",
       "</div>"
      ],
      "text/plain": [
       "             Survived  Pclass  \\\n",
       "PassengerId                     \n",
       "863                 1       1   \n",
       "224                 0       3   \n",
       "85                  1       2   \n",
       "681                 0       3   \n",
       "536                 1       2   \n",
       "\n",
       "                                                          Name     Sex   Age  \\\n",
       "PassengerId                                                                    \n",
       "863          Swift, Mrs. Frederick Joel (Margaret Welles Ba...  female  48.0   \n",
       "224                                       Nenkoff, Mr. Christo    male  28.0   \n",
       "85                                         Ilett, Miss. Bertha  female  17.0   \n",
       "681                                        Peters, Miss. Katie  female  28.0   \n",
       "536                                     Hart, Miss. Eva Miriam  female   7.0   \n",
       "\n",
       "             SibSp  Parch        Ticket     Fare Cabin Embarked Age_bin  \n",
       "PassengerId                                                              \n",
       "863              0      0         17466  25.9292   D17        S   41-50  \n",
       "224              0      0        349234   7.8958   NaN        S   21-30  \n",
       "85               0      0    SO/C 14885  10.5000   NaN        S   11-20  \n",
       "681              0      0        330935   8.1375   NaN        Q   21-30  \n",
       "536              0      2  F.C.C. 13529  26.2500   NaN        S    0-10  "
      ]
     },
     "execution_count": 13,
     "metadata": {},
     "output_type": "execute_result"
    }
   ],
   "source": [
    "dataset = fillingMissingValues(dataset)\n",
    "\n",
    "dataset.sample(n=5,random_state=1)"
   ]
  },
  {
   "cell_type": "markdown",
   "id": "1e02ec22",
   "metadata": {},
   "source": [
    "## Feature engineering\n",
    "\n",
    "### Adding survival probability feature\n",
    "\n",
    "This probability is calculated out of the <a href = #survivalProba>bivariate analysis</a>. "
   ]
  },
  {
   "cell_type": "code",
   "execution_count": 14,
   "id": "326b7ff5",
   "metadata": {},
   "outputs": [],
   "source": [
    "# Add probability column \n",
    "def survivalProbability(dataRow):\n",
    "    # Function variables\n",
    "    returnValue = 0\n",
    "    dataValue = 0\n",
    "    # Read passenger class and assign probability\n",
    "    # Class 1: 62.9%. Class 2: 47.3%. Class 3: 24.3%\n",
    "    if (dataRow.Pclass == 1):\n",
    "        returnValue = 0.629\n",
    "    elif (dataRow.Pclass == 2):\n",
    "        returnValue = 0.473\n",
    "    else:\n",
    "        returnValue = 0.243\n",
    "    # Read passenger sex and assign probability\n",
    "    # Female: 74.2%. Male: 18.9%\n",
    "    if (dataRow.Sex == 'male'):\n",
    "        returnValue *= 0.189\n",
    "    else:\n",
    "        returnValue *= 0.742\n",
    "    # Read passenger embarking port and assign probability\n",
    "    # Cherbourg (C): 55.3%. Queenstown (Q): 38.9%. Southampton (S): 33.7%\n",
    "    if (dataRow.Embarked == 'C'):\n",
    "        returnValue *= 0.553\n",
    "    elif (dataRow.Embarked == 'Q'):\n",
    "        returnValue *= 0.389\n",
    "    else:\n",
    "        returnValue *= 0.337\n",
    "    # Calculate combined probability\n",
    "    return returnValue"
   ]
  },
  {
   "cell_type": "code",
   "execution_count": 15,
   "id": "41205cc7",
   "metadata": {},
   "outputs": [
    {
     "data": {
      "text/html": [
       "<div>\n",
       "<style scoped>\n",
       "    .dataframe tbody tr th:only-of-type {\n",
       "        vertical-align: middle;\n",
       "    }\n",
       "\n",
       "    .dataframe tbody tr th {\n",
       "        vertical-align: top;\n",
       "    }\n",
       "\n",
       "    .dataframe thead th {\n",
       "        text-align: right;\n",
       "    }\n",
       "</style>\n",
       "<table border=\"1\" class=\"dataframe\">\n",
       "  <thead>\n",
       "    <tr style=\"text-align: right;\">\n",
       "      <th></th>\n",
       "      <th>Survived</th>\n",
       "      <th>Pclass</th>\n",
       "      <th>Name</th>\n",
       "      <th>Sex</th>\n",
       "      <th>Age</th>\n",
       "      <th>SibSp</th>\n",
       "      <th>Parch</th>\n",
       "      <th>Ticket</th>\n",
       "      <th>Fare</th>\n",
       "      <th>Cabin</th>\n",
       "      <th>Embarked</th>\n",
       "      <th>Age_bin</th>\n",
       "      <th>SurvProba</th>\n",
       "    </tr>\n",
       "    <tr>\n",
       "      <th>PassengerId</th>\n",
       "      <th></th>\n",
       "      <th></th>\n",
       "      <th></th>\n",
       "      <th></th>\n",
       "      <th></th>\n",
       "      <th></th>\n",
       "      <th></th>\n",
       "      <th></th>\n",
       "      <th></th>\n",
       "      <th></th>\n",
       "      <th></th>\n",
       "      <th></th>\n",
       "      <th></th>\n",
       "    </tr>\n",
       "  </thead>\n",
       "  <tbody>\n",
       "    <tr>\n",
       "      <th>1</th>\n",
       "      <td>0</td>\n",
       "      <td>3</td>\n",
       "      <td>Braund, Mr. Owen Harris</td>\n",
       "      <td>male</td>\n",
       "      <td>22.0</td>\n",
       "      <td>1</td>\n",
       "      <td>0</td>\n",
       "      <td>A/5 21171</td>\n",
       "      <td>7.2500</td>\n",
       "      <td>NaN</td>\n",
       "      <td>S</td>\n",
       "      <td>21-30</td>\n",
       "      <td>0.015477</td>\n",
       "    </tr>\n",
       "    <tr>\n",
       "      <th>2</th>\n",
       "      <td>1</td>\n",
       "      <td>1</td>\n",
       "      <td>Cumings, Mrs. John Bradley (Florence Briggs Th...</td>\n",
       "      <td>female</td>\n",
       "      <td>38.0</td>\n",
       "      <td>1</td>\n",
       "      <td>0</td>\n",
       "      <td>PC 17599</td>\n",
       "      <td>71.2833</td>\n",
       "      <td>C85</td>\n",
       "      <td>C</td>\n",
       "      <td>31-40</td>\n",
       "      <td>0.258095</td>\n",
       "    </tr>\n",
       "    <tr>\n",
       "      <th>3</th>\n",
       "      <td>1</td>\n",
       "      <td>3</td>\n",
       "      <td>Heikkinen, Miss. Laina</td>\n",
       "      <td>female</td>\n",
       "      <td>26.0</td>\n",
       "      <td>0</td>\n",
       "      <td>0</td>\n",
       "      <td>STON/O2. 3101282</td>\n",
       "      <td>7.9250</td>\n",
       "      <td>NaN</td>\n",
       "      <td>S</td>\n",
       "      <td>21-30</td>\n",
       "      <td>0.060763</td>\n",
       "    </tr>\n",
       "    <tr>\n",
       "      <th>4</th>\n",
       "      <td>1</td>\n",
       "      <td>1</td>\n",
       "      <td>Futrelle, Mrs. Jacques Heath (Lily May Peel)</td>\n",
       "      <td>female</td>\n",
       "      <td>35.0</td>\n",
       "      <td>1</td>\n",
       "      <td>0</td>\n",
       "      <td>113803</td>\n",
       "      <td>53.1000</td>\n",
       "      <td>C123</td>\n",
       "      <td>S</td>\n",
       "      <td>31-40</td>\n",
       "      <td>0.157284</td>\n",
       "    </tr>\n",
       "    <tr>\n",
       "      <th>5</th>\n",
       "      <td>0</td>\n",
       "      <td>3</td>\n",
       "      <td>Allen, Mr. William Henry</td>\n",
       "      <td>male</td>\n",
       "      <td>35.0</td>\n",
       "      <td>0</td>\n",
       "      <td>0</td>\n",
       "      <td>373450</td>\n",
       "      <td>8.0500</td>\n",
       "      <td>NaN</td>\n",
       "      <td>S</td>\n",
       "      <td>31-40</td>\n",
       "      <td>0.015477</td>\n",
       "    </tr>\n",
       "  </tbody>\n",
       "</table>\n",
       "</div>"
      ],
      "text/plain": [
       "             Survived  Pclass  \\\n",
       "PassengerId                     \n",
       "1                   0       3   \n",
       "2                   1       1   \n",
       "3                   1       3   \n",
       "4                   1       1   \n",
       "5                   0       3   \n",
       "\n",
       "                                                          Name     Sex   Age  \\\n",
       "PassengerId                                                                    \n",
       "1                                      Braund, Mr. Owen Harris    male  22.0   \n",
       "2            Cumings, Mrs. John Bradley (Florence Briggs Th...  female  38.0   \n",
       "3                                       Heikkinen, Miss. Laina  female  26.0   \n",
       "4                 Futrelle, Mrs. Jacques Heath (Lily May Peel)  female  35.0   \n",
       "5                                     Allen, Mr. William Henry    male  35.0   \n",
       "\n",
       "             SibSp  Parch            Ticket     Fare Cabin Embarked Age_bin  \\\n",
       "PassengerId                                                                   \n",
       "1                1      0         A/5 21171   7.2500   NaN        S   21-30   \n",
       "2                1      0          PC 17599  71.2833   C85        C   31-40   \n",
       "3                0      0  STON/O2. 3101282   7.9250   NaN        S   21-30   \n",
       "4                1      0            113803  53.1000  C123        S   31-40   \n",
       "5                0      0            373450   8.0500   NaN        S   31-40   \n",
       "\n",
       "             SurvProba  \n",
       "PassengerId             \n",
       "1             0.015477  \n",
       "2             0.258095  \n",
       "3             0.060763  \n",
       "4             0.157284  \n",
       "5             0.015477  "
      ]
     },
     "execution_count": 15,
     "metadata": {},
     "output_type": "execute_result"
    }
   ],
   "source": [
    "dataset['SurvProba'] = dataset.apply(survivalProbability,axis=1)\n",
    "\n",
    "dataset.head()"
   ]
  },
  {
   "cell_type": "code",
   "execution_count": null,
   "id": "d0c78b35",
   "metadata": {},
   "outputs": [],
   "source": [
    "plt.figure(figsize  = myFigSize_12_4)\n",
    "plt.title('Correlation Matrix')\n",
    "sns.heatmap(dataset[['Pclass','Age','SibSp','Parch','Fare','SurvProba','Survived']].corr(), \n",
    "            annot = True, \n",
    "            fmt = '.2f', \n",
    "            cmap=\"YlGnBu\")\n",
    "plt.show()"
   ]
  },
  {
   "cell_type": "markdown",
   "id": "0406106b",
   "metadata": {},
   "source": [
    "### Principal Component Analysis\n",
    "\n",
    "#### Scaling the dataset\n",
    "\n",
    "Importing required libraries. This  code can be deleted since is already covered in the first libraries import section."
   ]
  },
  {
   "cell_type": "code",
   "execution_count": null,
   "id": "3c241e19",
   "metadata": {},
   "outputs": [],
   "source": [
    "#Data scaler using Z-Score\n",
    "#from sklearn.preprocessing import StandardScaler\n",
    "\n",
    "#Silhouette score\n",
    "#from sklearn.metrics import silhouette_score\n",
    "\n",
    "# PCA and TSNE\n",
    "#from sklearn.decomposition import PCA\n",
    "#from sklearn.manifold import TSNE"
   ]
  },
  {
   "cell_type": "markdown",
   "id": "3d946fe1",
   "metadata": {},
   "source": [
    "#### Copy dataset and features dropping for PCA\n",
    "\n",
    "Creating new dataset with only the features of interest selected after the EDA."
   ]
  },
  {
   "cell_type": "code",
   "execution_count": null,
   "id": "2e15e485",
   "metadata": {},
   "outputs": [],
   "source": [
    "#Columns to scale\n",
    "columns_pca = ['Pclass','Sex','Age','SibSp','Fare','Embarked','SurvProba']\n",
    "\n",
    "# Make copy of dataset with features of interest\n",
    "dataset_numeric = dataset[columns_pca].copy(deep=True)"
   ]
  },
  {
   "cell_type": "markdown",
   "id": "0ed3054f",
   "metadata": {},
   "source": [
    "#### Encoding, scaling dataset"
   ]
  },
  {
   "cell_type": "code",
   "execution_count": null,
   "id": "f4fe2fa1",
   "metadata": {},
   "outputs": [],
   "source": [
    "# Encode categorical features\n",
    "# Create list of features to be encoded\n",
    "to_get_dummies_for = ['Sex', 'Embarked']\n",
    "\n",
    "# Creating dummy variables\n",
    "dataset_numeric = pd.get_dummies(data = dataset_numeric, \n",
    "                                 columns = to_get_dummies_for, \n",
    "                                 drop_first = True)      \n",
    "\n",
    "# Scaling numeric data.\n",
    "dataset_scaled = pd.DataFrame(scaler.fit_transform(dataset_numeric), \n",
    "                              columns=dataset_numeric.columns)\n",
    "\n",
    "dataset_scaled.sample(n=8,random_state=1)"
   ]
  },
  {
   "cell_type": "markdown",
   "id": "c84bceb5",
   "metadata": {},
   "source": [
    "#### Performing PCA"
   ]
  },
  {
   "cell_type": "code",
   "execution_count": null,
   "id": "3349ef0f",
   "metadata": {},
   "outputs": [],
   "source": [
    "#Defining the number of principal components to generate \n",
    "n = dataset_scaled.shape[1]\n",
    "\n",
    "#Finding principal components for the data\n",
    "pca = PCA(n_components = n, random_state=1)\n",
    "dataset_pca = pd.DataFrame(pca.fit_transform(dataset_scaled))\n",
    "\n",
    "#The percentage of variance explained by each principal component\n",
    "exp_var = pca.explained_variance_ratio_\n",
    "\n",
    "print('Explained Variance ratio:')\n",
    "exp_var"
   ]
  },
  {
   "cell_type": "code",
   "execution_count": null,
   "id": "01c73926",
   "metadata": {},
   "outputs": [],
   "source": [
    "# Visualizing the Explained Individual Components\n",
    "dim = len(exp_var) + 1\n",
    "\n",
    "# Plotting cumulative variances\n",
    "plt.figure(figsize = myFigSize_12_6)\n",
    "plt.plot(range(1,dim), pca.explained_variance_ratio_.cumsum(), marker = 'o', linestyle = '--')\n",
    "plt.title(\"Explained Variances by Components\",\n",
    "          fontdict=fontTitles\n",
    "         )\n",
    "plt.xlabel(\"Number of Components\",fontdict=fontAxes)\n",
    "#plt.legend(loc='best')\n",
    "plt.ylabel(\"Cumulative Explained Variance\",fontdict=fontAxes)"
   ]
  },
  {
   "cell_type": "markdown",
   "id": "11617b0e",
   "metadata": {},
   "source": [
    "#### Principal Components Weights per Feature"
   ]
  },
  {
   "cell_type": "code",
   "execution_count": null,
   "id": "778ecdd0",
   "metadata": {},
   "outputs": [],
   "source": [
    "pc_comps = ['PC1','PC2','PC3','PC4']\n",
    "data_pca = pd.DataFrame(np.round(pca.components_[:4,:],2),\n",
    "                        index=pc_comps,\n",
    "                        columns=dataset_numeric.columns)\n",
    "data_pca.T"
   ]
  },
  {
   "cell_type": "markdown",
   "id": "845fcb08",
   "metadata": {},
   "source": [
    "## Transforming imported training dataset for modelling\n",
    "\n",
    "Creating dataset to be used for the models training."
   ]
  },
  {
   "cell_type": "code",
   "execution_count": 16,
   "id": "f5130805",
   "metadata": {},
   "outputs": [
    {
     "name": "stdout",
     "output_type": "stream",
     "text": [
      "dataset:\n",
      " Index(['Survived', 'Pclass', 'Name', 'Sex', 'Age', 'SibSp', 'Parch', 'Ticket',\n",
      "       'Fare', 'Cabin', 'Embarked', 'Age_bin', 'SurvProba'],\n",
      "      dtype='object')\n"
     ]
    }
   ],
   "source": [
    "print('dataset:\\n', dataset.columns)"
   ]
  },
  {
   "cell_type": "markdown",
   "id": "fee05f3b",
   "metadata": {},
   "source": [
    "### Dropping features not relevant for modelling"
   ]
  },
  {
   "cell_type": "code",
   "execution_count": 17,
   "id": "4fdd4a58",
   "metadata": {},
   "outputs": [
    {
     "data": {
      "text/html": [
       "<div>\n",
       "<style scoped>\n",
       "    .dataframe tbody tr th:only-of-type {\n",
       "        vertical-align: middle;\n",
       "    }\n",
       "\n",
       "    .dataframe tbody tr th {\n",
       "        vertical-align: top;\n",
       "    }\n",
       "\n",
       "    .dataframe thead th {\n",
       "        text-align: right;\n",
       "    }\n",
       "</style>\n",
       "<table border=\"1\" class=\"dataframe\">\n",
       "  <thead>\n",
       "    <tr style=\"text-align: right;\">\n",
       "      <th></th>\n",
       "      <th>Survived</th>\n",
       "      <th>Pclass</th>\n",
       "      <th>Sex</th>\n",
       "      <th>Age</th>\n",
       "      <th>SibSp</th>\n",
       "      <th>Parch</th>\n",
       "      <th>Fare</th>\n",
       "      <th>Embarked</th>\n",
       "      <th>SurvProba</th>\n",
       "    </tr>\n",
       "    <tr>\n",
       "      <th>PassengerId</th>\n",
       "      <th></th>\n",
       "      <th></th>\n",
       "      <th></th>\n",
       "      <th></th>\n",
       "      <th></th>\n",
       "      <th></th>\n",
       "      <th></th>\n",
       "      <th></th>\n",
       "      <th></th>\n",
       "    </tr>\n",
       "  </thead>\n",
       "  <tbody>\n",
       "    <tr>\n",
       "      <th>863</th>\n",
       "      <td>1</td>\n",
       "      <td>1</td>\n",
       "      <td>female</td>\n",
       "      <td>48.0</td>\n",
       "      <td>0</td>\n",
       "      <td>0</td>\n",
       "      <td>25.9292</td>\n",
       "      <td>S</td>\n",
       "      <td>0.157284</td>\n",
       "    </tr>\n",
       "    <tr>\n",
       "      <th>224</th>\n",
       "      <td>0</td>\n",
       "      <td>3</td>\n",
       "      <td>male</td>\n",
       "      <td>28.0</td>\n",
       "      <td>0</td>\n",
       "      <td>0</td>\n",
       "      <td>7.8958</td>\n",
       "      <td>S</td>\n",
       "      <td>0.015477</td>\n",
       "    </tr>\n",
       "    <tr>\n",
       "      <th>85</th>\n",
       "      <td>1</td>\n",
       "      <td>2</td>\n",
       "      <td>female</td>\n",
       "      <td>17.0</td>\n",
       "      <td>0</td>\n",
       "      <td>0</td>\n",
       "      <td>10.5000</td>\n",
       "      <td>S</td>\n",
       "      <td>0.118276</td>\n",
       "    </tr>\n",
       "    <tr>\n",
       "      <th>681</th>\n",
       "      <td>0</td>\n",
       "      <td>3</td>\n",
       "      <td>female</td>\n",
       "      <td>28.0</td>\n",
       "      <td>0</td>\n",
       "      <td>0</td>\n",
       "      <td>8.1375</td>\n",
       "      <td>Q</td>\n",
       "      <td>0.070139</td>\n",
       "    </tr>\n",
       "    <tr>\n",
       "      <th>536</th>\n",
       "      <td>1</td>\n",
       "      <td>2</td>\n",
       "      <td>female</td>\n",
       "      <td>7.0</td>\n",
       "      <td>0</td>\n",
       "      <td>2</td>\n",
       "      <td>26.2500</td>\n",
       "      <td>S</td>\n",
       "      <td>0.118276</td>\n",
       "    </tr>\n",
       "  </tbody>\n",
       "</table>\n",
       "</div>"
      ],
      "text/plain": [
       "             Survived  Pclass     Sex   Age  SibSp  Parch     Fare Embarked  \\\n",
       "PassengerId                                                                   \n",
       "863                 1       1  female  48.0      0      0  25.9292        S   \n",
       "224                 0       3    male  28.0      0      0   7.8958        S   \n",
       "85                  1       2  female  17.0      0      0  10.5000        S   \n",
       "681                 0       3  female  28.0      0      0   8.1375        Q   \n",
       "536                 1       2  female   7.0      0      2  26.2500        S   \n",
       "\n",
       "             SurvProba  \n",
       "PassengerId             \n",
       "863           0.157284  \n",
       "224           0.015477  \n",
       "85            0.118276  \n",
       "681           0.070139  \n",
       "536           0.118276  "
      ]
     },
     "execution_count": 17,
     "metadata": {},
     "output_type": "execute_result"
    }
   ],
   "source": [
    "# Dropping features\n",
    "# Initial column grop was: ['Name','Cabin','Fare','Ticket','Age_bin']\n",
    "# On June 2,23 is the following:\n",
    "dataset_models = dataset.drop(['Name','Cabin','Ticket','Age_bin'],axis=1) #,inplace=True)\n",
    "\n",
    "dataset_models.sample(n=5,random_state=1)"
   ]
  },
  {
   "cell_type": "markdown",
   "id": "b3e77d6a",
   "metadata": {},
   "source": [
    "### Encoding and mapping columns"
   ]
  },
  {
   "cell_type": "code",
   "execution_count": 18,
   "id": "10cf6270",
   "metadata": {},
   "outputs": [
    {
     "data": {
      "text/html": [
       "<div>\n",
       "<style scoped>\n",
       "    .dataframe tbody tr th:only-of-type {\n",
       "        vertical-align: middle;\n",
       "    }\n",
       "\n",
       "    .dataframe tbody tr th {\n",
       "        vertical-align: top;\n",
       "    }\n",
       "\n",
       "    .dataframe thead th {\n",
       "        text-align: right;\n",
       "    }\n",
       "</style>\n",
       "<table border=\"1\" class=\"dataframe\">\n",
       "  <thead>\n",
       "    <tr style=\"text-align: right;\">\n",
       "      <th></th>\n",
       "      <th>Survived</th>\n",
       "      <th>Pclass</th>\n",
       "      <th>Sex</th>\n",
       "      <th>Age</th>\n",
       "      <th>SibSp</th>\n",
       "      <th>Parch</th>\n",
       "      <th>Fare</th>\n",
       "      <th>Embarked</th>\n",
       "      <th>SurvProba</th>\n",
       "    </tr>\n",
       "    <tr>\n",
       "      <th>PassengerId</th>\n",
       "      <th></th>\n",
       "      <th></th>\n",
       "      <th></th>\n",
       "      <th></th>\n",
       "      <th></th>\n",
       "      <th></th>\n",
       "      <th></th>\n",
       "      <th></th>\n",
       "      <th></th>\n",
       "    </tr>\n",
       "  </thead>\n",
       "  <tbody>\n",
       "    <tr>\n",
       "      <th>863</th>\n",
       "      <td>1</td>\n",
       "      <td>1</td>\n",
       "      <td>0</td>\n",
       "      <td>48.0</td>\n",
       "      <td>0</td>\n",
       "      <td>0</td>\n",
       "      <td>25.9292</td>\n",
       "      <td>S</td>\n",
       "      <td>0.157284</td>\n",
       "    </tr>\n",
       "    <tr>\n",
       "      <th>224</th>\n",
       "      <td>0</td>\n",
       "      <td>3</td>\n",
       "      <td>1</td>\n",
       "      <td>28.0</td>\n",
       "      <td>0</td>\n",
       "      <td>0</td>\n",
       "      <td>7.8958</td>\n",
       "      <td>S</td>\n",
       "      <td>0.015477</td>\n",
       "    </tr>\n",
       "    <tr>\n",
       "      <th>85</th>\n",
       "      <td>1</td>\n",
       "      <td>2</td>\n",
       "      <td>0</td>\n",
       "      <td>17.0</td>\n",
       "      <td>0</td>\n",
       "      <td>0</td>\n",
       "      <td>10.5000</td>\n",
       "      <td>S</td>\n",
       "      <td>0.118276</td>\n",
       "    </tr>\n",
       "    <tr>\n",
       "      <th>681</th>\n",
       "      <td>0</td>\n",
       "      <td>3</td>\n",
       "      <td>0</td>\n",
       "      <td>28.0</td>\n",
       "      <td>0</td>\n",
       "      <td>0</td>\n",
       "      <td>8.1375</td>\n",
       "      <td>Q</td>\n",
       "      <td>0.070139</td>\n",
       "    </tr>\n",
       "    <tr>\n",
       "      <th>536</th>\n",
       "      <td>1</td>\n",
       "      <td>2</td>\n",
       "      <td>0</td>\n",
       "      <td>7.0</td>\n",
       "      <td>0</td>\n",
       "      <td>2</td>\n",
       "      <td>26.2500</td>\n",
       "      <td>S</td>\n",
       "      <td>0.118276</td>\n",
       "    </tr>\n",
       "  </tbody>\n",
       "</table>\n",
       "</div>"
      ],
      "text/plain": [
       "             Survived  Pclass  Sex   Age  SibSp  Parch     Fare Embarked  \\\n",
       "PassengerId                                                                \n",
       "863                 1       1    0  48.0      0      0  25.9292        S   \n",
       "224                 0       3    1  28.0      0      0   7.8958        S   \n",
       "85                  1       2    0  17.0      0      0  10.5000        S   \n",
       "681                 0       3    0  28.0      0      0   8.1375        Q   \n",
       "536                 1       2    0   7.0      0      2  26.2500        S   \n",
       "\n",
       "             SurvProba  \n",
       "PassengerId             \n",
       "863           0.157284  \n",
       "224           0.015477  \n",
       "85            0.118276  \n",
       "681           0.070139  \n",
       "536           0.118276  "
      ]
     },
     "execution_count": 18,
     "metadata": {},
     "output_type": "execute_result"
    }
   ],
   "source": [
    "# Mapping sex feature\n",
    "dictSex = {'male': 1, 'female' : 0}\n",
    "\n",
    "dataset_models.Sex = dataset_models.Sex.map(dictSex)\n",
    "\n",
    "dataset_models.sample(n=5,random_state=1)"
   ]
  },
  {
   "cell_type": "code",
   "execution_count": 19,
   "id": "4ae88e9e",
   "metadata": {},
   "outputs": [
    {
     "data": {
      "text/html": [
       "<div>\n",
       "<style scoped>\n",
       "    .dataframe tbody tr th:only-of-type {\n",
       "        vertical-align: middle;\n",
       "    }\n",
       "\n",
       "    .dataframe tbody tr th {\n",
       "        vertical-align: top;\n",
       "    }\n",
       "\n",
       "    .dataframe thead th {\n",
       "        text-align: right;\n",
       "    }\n",
       "</style>\n",
       "<table border=\"1\" class=\"dataframe\">\n",
       "  <thead>\n",
       "    <tr style=\"text-align: right;\">\n",
       "      <th></th>\n",
       "      <th>Survived</th>\n",
       "      <th>Pclass</th>\n",
       "      <th>Sex</th>\n",
       "      <th>Age</th>\n",
       "      <th>SibSp</th>\n",
       "      <th>Parch</th>\n",
       "      <th>Fare</th>\n",
       "      <th>SurvProba</th>\n",
       "      <th>Embarked_Q</th>\n",
       "      <th>Embarked_S</th>\n",
       "    </tr>\n",
       "    <tr>\n",
       "      <th>PassengerId</th>\n",
       "      <th></th>\n",
       "      <th></th>\n",
       "      <th></th>\n",
       "      <th></th>\n",
       "      <th></th>\n",
       "      <th></th>\n",
       "      <th></th>\n",
       "      <th></th>\n",
       "      <th></th>\n",
       "      <th></th>\n",
       "    </tr>\n",
       "  </thead>\n",
       "  <tbody>\n",
       "    <tr>\n",
       "      <th>863</th>\n",
       "      <td>1</td>\n",
       "      <td>1</td>\n",
       "      <td>0</td>\n",
       "      <td>48.0</td>\n",
       "      <td>0</td>\n",
       "      <td>0</td>\n",
       "      <td>25.9292</td>\n",
       "      <td>0.157284</td>\n",
       "      <td>0</td>\n",
       "      <td>1</td>\n",
       "    </tr>\n",
       "    <tr>\n",
       "      <th>224</th>\n",
       "      <td>0</td>\n",
       "      <td>3</td>\n",
       "      <td>1</td>\n",
       "      <td>28.0</td>\n",
       "      <td>0</td>\n",
       "      <td>0</td>\n",
       "      <td>7.8958</td>\n",
       "      <td>0.015477</td>\n",
       "      <td>0</td>\n",
       "      <td>1</td>\n",
       "    </tr>\n",
       "    <tr>\n",
       "      <th>85</th>\n",
       "      <td>1</td>\n",
       "      <td>2</td>\n",
       "      <td>0</td>\n",
       "      <td>17.0</td>\n",
       "      <td>0</td>\n",
       "      <td>0</td>\n",
       "      <td>10.5000</td>\n",
       "      <td>0.118276</td>\n",
       "      <td>0</td>\n",
       "      <td>1</td>\n",
       "    </tr>\n",
       "    <tr>\n",
       "      <th>681</th>\n",
       "      <td>0</td>\n",
       "      <td>3</td>\n",
       "      <td>0</td>\n",
       "      <td>28.0</td>\n",
       "      <td>0</td>\n",
       "      <td>0</td>\n",
       "      <td>8.1375</td>\n",
       "      <td>0.070139</td>\n",
       "      <td>1</td>\n",
       "      <td>0</td>\n",
       "    </tr>\n",
       "    <tr>\n",
       "      <th>536</th>\n",
       "      <td>1</td>\n",
       "      <td>2</td>\n",
       "      <td>0</td>\n",
       "      <td>7.0</td>\n",
       "      <td>0</td>\n",
       "      <td>2</td>\n",
       "      <td>26.2500</td>\n",
       "      <td>0.118276</td>\n",
       "      <td>0</td>\n",
       "      <td>1</td>\n",
       "    </tr>\n",
       "  </tbody>\n",
       "</table>\n",
       "</div>"
      ],
      "text/plain": [
       "             Survived  Pclass  Sex   Age  SibSp  Parch     Fare  SurvProba  \\\n",
       "PassengerId                                                                  \n",
       "863                 1       1    0  48.0      0      0  25.9292   0.157284   \n",
       "224                 0       3    1  28.0      0      0   7.8958   0.015477   \n",
       "85                  1       2    0  17.0      0      0  10.5000   0.118276   \n",
       "681                 0       3    0  28.0      0      0   8.1375   0.070139   \n",
       "536                 1       2    0   7.0      0      2  26.2500   0.118276   \n",
       "\n",
       "             Embarked_Q  Embarked_S  \n",
       "PassengerId                          \n",
       "863                   0           1  \n",
       "224                   0           1  \n",
       "85                    0           1  \n",
       "681                   1           0  \n",
       "536                   0           1  "
      ]
     },
     "execution_count": 19,
     "metadata": {},
     "output_type": "execute_result"
    }
   ],
   "source": [
    "# Creating dummy variables\n",
    "dataset_models = pd.get_dummies(data = dataset_models, \n",
    "                                 columns = ['Embarked'], \n",
    "                                 drop_first = True)\n",
    "\n",
    "dataset_models.sample(n=5,random_state=1)"
   ]
  },
  {
   "cell_type": "markdown",
   "id": "ab1c1256",
   "metadata": {},
   "source": [
    "### Splitting features from target variable\n",
    "\n",
    "Current datasets columns list."
   ]
  },
  {
   "cell_type": "code",
   "execution_count": 20,
   "id": "9cc38024",
   "metadata": {},
   "outputs": [
    {
     "data": {
      "text/plain": [
       "PassengerId\n",
       "863    1\n",
       "224    0\n",
       "85     1\n",
       "681    0\n",
       "536    1\n",
       "Name: Survived, dtype: int64"
      ]
     },
     "execution_count": 20,
     "metadata": {},
     "output_type": "execute_result"
    }
   ],
   "source": [
    "# Target variable dataset\n",
    "y = dataset_models['Survived']\n",
    "\n",
    "y.sample(n=5,random_state=1)"
   ]
  },
  {
   "cell_type": "code",
   "execution_count": 21,
   "id": "a4a50905",
   "metadata": {},
   "outputs": [
    {
     "data": {
      "text/html": [
       "<div>\n",
       "<style scoped>\n",
       "    .dataframe tbody tr th:only-of-type {\n",
       "        vertical-align: middle;\n",
       "    }\n",
       "\n",
       "    .dataframe tbody tr th {\n",
       "        vertical-align: top;\n",
       "    }\n",
       "\n",
       "    .dataframe thead th {\n",
       "        text-align: right;\n",
       "    }\n",
       "</style>\n",
       "<table border=\"1\" class=\"dataframe\">\n",
       "  <thead>\n",
       "    <tr style=\"text-align: right;\">\n",
       "      <th></th>\n",
       "      <th>Pclass</th>\n",
       "      <th>Sex</th>\n",
       "      <th>Age</th>\n",
       "      <th>SibSp</th>\n",
       "      <th>Parch</th>\n",
       "      <th>Fare</th>\n",
       "      <th>SurvProba</th>\n",
       "      <th>Embarked_Q</th>\n",
       "      <th>Embarked_S</th>\n",
       "    </tr>\n",
       "    <tr>\n",
       "      <th>PassengerId</th>\n",
       "      <th></th>\n",
       "      <th></th>\n",
       "      <th></th>\n",
       "      <th></th>\n",
       "      <th></th>\n",
       "      <th></th>\n",
       "      <th></th>\n",
       "      <th></th>\n",
       "      <th></th>\n",
       "    </tr>\n",
       "  </thead>\n",
       "  <tbody>\n",
       "    <tr>\n",
       "      <th>863</th>\n",
       "      <td>1</td>\n",
       "      <td>0</td>\n",
       "      <td>48.0</td>\n",
       "      <td>0</td>\n",
       "      <td>0</td>\n",
       "      <td>25.9292</td>\n",
       "      <td>0.157284</td>\n",
       "      <td>0</td>\n",
       "      <td>1</td>\n",
       "    </tr>\n",
       "    <tr>\n",
       "      <th>224</th>\n",
       "      <td>3</td>\n",
       "      <td>1</td>\n",
       "      <td>28.0</td>\n",
       "      <td>0</td>\n",
       "      <td>0</td>\n",
       "      <td>7.8958</td>\n",
       "      <td>0.015477</td>\n",
       "      <td>0</td>\n",
       "      <td>1</td>\n",
       "    </tr>\n",
       "    <tr>\n",
       "      <th>85</th>\n",
       "      <td>2</td>\n",
       "      <td>0</td>\n",
       "      <td>17.0</td>\n",
       "      <td>0</td>\n",
       "      <td>0</td>\n",
       "      <td>10.5000</td>\n",
       "      <td>0.118276</td>\n",
       "      <td>0</td>\n",
       "      <td>1</td>\n",
       "    </tr>\n",
       "    <tr>\n",
       "      <th>681</th>\n",
       "      <td>3</td>\n",
       "      <td>0</td>\n",
       "      <td>28.0</td>\n",
       "      <td>0</td>\n",
       "      <td>0</td>\n",
       "      <td>8.1375</td>\n",
       "      <td>0.070139</td>\n",
       "      <td>1</td>\n",
       "      <td>0</td>\n",
       "    </tr>\n",
       "    <tr>\n",
       "      <th>536</th>\n",
       "      <td>2</td>\n",
       "      <td>0</td>\n",
       "      <td>7.0</td>\n",
       "      <td>0</td>\n",
       "      <td>2</td>\n",
       "      <td>26.2500</td>\n",
       "      <td>0.118276</td>\n",
       "      <td>0</td>\n",
       "      <td>1</td>\n",
       "    </tr>\n",
       "  </tbody>\n",
       "</table>\n",
       "</div>"
      ],
      "text/plain": [
       "             Pclass  Sex   Age  SibSp  Parch     Fare  SurvProba  Embarked_Q  \\\n",
       "PassengerId                                                                    \n",
       "863               1    0  48.0      0      0  25.9292   0.157284           0   \n",
       "224               3    1  28.0      0      0   7.8958   0.015477           0   \n",
       "85                2    0  17.0      0      0  10.5000   0.118276           0   \n",
       "681               3    0  28.0      0      0   8.1375   0.070139           1   \n",
       "536               2    0   7.0      0      2  26.2500   0.118276           0   \n",
       "\n",
       "             Embarked_S  \n",
       "PassengerId              \n",
       "863                   1  \n",
       "224                   1  \n",
       "85                    1  \n",
       "681                   0  \n",
       "536                   1  "
      ]
     },
     "execution_count": 21,
     "metadata": {},
     "output_type": "execute_result"
    }
   ],
   "source": [
    "# Features dataset\n",
    "X = dataset_models.drop('Survived',axis=1)\n",
    "\n",
    "X.sample(n=5,random_state=1)"
   ]
  },
  {
   "cell_type": "markdown",
   "id": "97fd73c8",
   "metadata": {},
   "source": [
    "### Checking datasets shapes"
   ]
  },
  {
   "cell_type": "code",
   "execution_count": 22,
   "id": "fda8b718",
   "metadata": {},
   "outputs": [
    {
     "name": "stdout",
     "output_type": "stream",
     "text": [
      "y:  (891,)\n",
      "X:  (891, 9)\n"
     ]
    }
   ],
   "source": [
    "print('y: ',y.shape)\n",
    "print('X: ',X.shape)"
   ]
  },
  {
   "cell_type": "markdown",
   "id": "8115ffbc",
   "metadata": {},
   "source": [
    "## Create scaled training and test datasets\n",
    "\n",
    "We will scale the data for **Logistic Regression** and **SVM**.  We will use the **Standard Scaler** method, which centers and scales the dataset using the Z-Score. It standardizes features by subtracting the mean and scaling it to have unit variance. The standard score of sample x is calculated as:\n",
    "\n",
    "> **z = (x - u) / s**\n",
    "\n",
    "where **u** is the mean of the training samples (zero) and **s** is the standard deviation of the training samples.\n",
    "\n",
    "Tree based models such as **Decision Trees** and **Random Forest** does not require feature scaling to be performed as they are not sensitive to the variance in the data.\n",
    "\n",
    "### Scaling features (X)"
   ]
  },
  {
   "cell_type": "code",
   "execution_count": 23,
   "id": "23fc4dad",
   "metadata": {},
   "outputs": [
    {
     "data": {
      "text/html": [
       "<div>\n",
       "<style scoped>\n",
       "    .dataframe tbody tr th:only-of-type {\n",
       "        vertical-align: middle;\n",
       "    }\n",
       "\n",
       "    .dataframe tbody tr th {\n",
       "        vertical-align: top;\n",
       "    }\n",
       "\n",
       "    .dataframe thead th {\n",
       "        text-align: right;\n",
       "    }\n",
       "</style>\n",
       "<table border=\"1\" class=\"dataframe\">\n",
       "  <thead>\n",
       "    <tr style=\"text-align: right;\">\n",
       "      <th></th>\n",
       "      <th>Pclass</th>\n",
       "      <th>Sex</th>\n",
       "      <th>Age</th>\n",
       "      <th>SibSp</th>\n",
       "      <th>Parch</th>\n",
       "      <th>Fare</th>\n",
       "      <th>SurvProba</th>\n",
       "      <th>Embarked_Q</th>\n",
       "      <th>Embarked_S</th>\n",
       "    </tr>\n",
       "    <tr>\n",
       "      <th>PassengerId</th>\n",
       "      <th></th>\n",
       "      <th></th>\n",
       "      <th></th>\n",
       "      <th></th>\n",
       "      <th></th>\n",
       "      <th></th>\n",
       "      <th></th>\n",
       "      <th></th>\n",
       "      <th></th>\n",
       "    </tr>\n",
       "  </thead>\n",
       "  <tbody>\n",
       "    <tr>\n",
       "      <th>863</th>\n",
       "      <td>-1.566107</td>\n",
       "      <td>-1.355574</td>\n",
       "      <td>1.432359</td>\n",
       "      <td>-0.474545</td>\n",
       "      <td>-0.473674</td>\n",
       "      <td>-0.126345</td>\n",
       "      <td>1.577904</td>\n",
       "      <td>-0.307562</td>\n",
       "      <td>0.615838</td>\n",
       "    </tr>\n",
       "    <tr>\n",
       "      <th>224</th>\n",
       "      <td>0.827377</td>\n",
       "      <td>0.737695</td>\n",
       "      <td>-0.104637</td>\n",
       "      <td>-0.474545</td>\n",
       "      <td>-0.473674</td>\n",
       "      <td>-0.489442</td>\n",
       "      <td>-0.735727</td>\n",
       "      <td>-0.307562</td>\n",
       "      <td>0.615838</td>\n",
       "    </tr>\n",
       "    <tr>\n",
       "      <th>85</th>\n",
       "      <td>-0.369365</td>\n",
       "      <td>-1.355574</td>\n",
       "      <td>-0.949986</td>\n",
       "      <td>-0.474545</td>\n",
       "      <td>-0.473674</td>\n",
       "      <td>-0.437007</td>\n",
       "      <td>0.941466</td>\n",
       "      <td>-0.307562</td>\n",
       "      <td>0.615838</td>\n",
       "    </tr>\n",
       "    <tr>\n",
       "      <th>681</th>\n",
       "      <td>0.827377</td>\n",
       "      <td>-1.355574</td>\n",
       "      <td>-0.104637</td>\n",
       "      <td>-0.474545</td>\n",
       "      <td>-0.473674</td>\n",
       "      <td>-0.484576</td>\n",
       "      <td>0.156099</td>\n",
       "      <td>3.251373</td>\n",
       "      <td>-1.623803</td>\n",
       "    </tr>\n",
       "    <tr>\n",
       "      <th>536</th>\n",
       "      <td>-0.369365</td>\n",
       "      <td>-1.355574</td>\n",
       "      <td>-1.718484</td>\n",
       "      <td>-0.474545</td>\n",
       "      <td>2.008933</td>\n",
       "      <td>-0.119886</td>\n",
       "      <td>0.941466</td>\n",
       "      <td>-0.307562</td>\n",
       "      <td>0.615838</td>\n",
       "    </tr>\n",
       "  </tbody>\n",
       "</table>\n",
       "</div>"
      ],
      "text/plain": [
       "               Pclass       Sex       Age     SibSp     Parch      Fare  \\\n",
       "PassengerId                                                               \n",
       "863         -1.566107 -1.355574  1.432359 -0.474545 -0.473674 -0.126345   \n",
       "224          0.827377  0.737695 -0.104637 -0.474545 -0.473674 -0.489442   \n",
       "85          -0.369365 -1.355574 -0.949986 -0.474545 -0.473674 -0.437007   \n",
       "681          0.827377 -1.355574 -0.104637 -0.474545 -0.473674 -0.484576   \n",
       "536         -0.369365 -1.355574 -1.718484 -0.474545  2.008933 -0.119886   \n",
       "\n",
       "             SurvProba  Embarked_Q  Embarked_S  \n",
       "PassengerId                                     \n",
       "863           1.577904   -0.307562    0.615838  \n",
       "224          -0.735727   -0.307562    0.615838  \n",
       "85            0.941466   -0.307562    0.615838  \n",
       "681           0.156099    3.251373   -1.623803  \n",
       "536           0.941466   -0.307562    0.615838  "
      ]
     },
     "execution_count": 23,
     "metadata": {},
     "output_type": "execute_result"
    }
   ],
   "source": [
    "# Fit_transform on train data\n",
    "\n",
    "# Scaling training dataset\n",
    "X_scaled = pd.DataFrame(scaler.fit_transform(X), \n",
    "                        index=X.index,                        \n",
    "                        columns=X.columns)\n",
    "\n",
    "X_scaled.sample(n=5,random_state=1)"
   ]
  },
  {
   "cell_type": "markdown",
   "id": "0d4b7b15",
   "metadata": {},
   "source": [
    "## Splitting training dataset into train and test subsets\n",
    "\n",
    "This classification problem exhibits a large imbalance in the distribution of the target classes, for instance there is more negative samples than positive samples, 1:2 proportion. In these cases it is recommended to use the **stratified sampling** technique to ensure that relative class frequencies are approximately preserved in each train and validation fold.\n",
    "\n",
    "### Imported training dataset"
   ]
  },
  {
   "cell_type": "code",
   "execution_count": 24,
   "id": "bc32b4a0",
   "metadata": {},
   "outputs": [],
   "source": [
    "# Splitting data in train and test sets\n",
    "X_train, X_test, y_train, y_test = train_test_split(X, y, \n",
    "                                                    test_size=0.20, \n",
    "                                                    random_state=1)"
   ]
  },
  {
   "cell_type": "markdown",
   "id": "a0ff898f",
   "metadata": {},
   "source": [
    "### Imported scaled training dataset"
   ]
  },
  {
   "cell_type": "code",
   "execution_count": 25,
   "id": "5d8a3ea8",
   "metadata": {},
   "outputs": [],
   "source": [
    "# Splitting data in train and test sets\n",
    "X_train_scaled, X_test_scaled, y_train_scaled, y_test_scaled = train_test_split(X_scaled, y, \n",
    "                                                                                test_size=0.20, \n",
    "                                                                                random_state=1)"
   ]
  },
  {
   "cell_type": "markdown",
   "id": "944071df",
   "metadata": {},
   "source": [
    "## Datasets sanity check\n",
    "\n",
    "#### Imported dataset"
   ]
  },
  {
   "cell_type": "code",
   "execution_count": 26,
   "id": "5cef6101",
   "metadata": {},
   "outputs": [
    {
     "name": "stdout",
     "output_type": "stream",
     "text": [
      "Shape of Training X set :  (712, 9)\n",
      "Shape of Training y set :  (712,)\n",
      "Shape of test X set :      (179, 9)\n",
      "Shape of test y set :      (179,) \n",
      "\n",
      "Percentage of classes in training set:\n",
      "0    0.622191\n",
      "1    0.377809\n",
      "Name: Survived, dtype: float64 \n",
      "\n",
      "Percentage of classes in test set:\n",
      "0    0.592179\n",
      "1    0.407821\n",
      "Name: Survived, dtype: float64\n"
     ]
    }
   ],
   "source": [
    "print(\"Shape of Training X set : \", X_train.shape)\n",
    "print(\"Shape of Training y set : \", y_train.shape)\n",
    "print(\"Shape of test X set :     \", X_test.shape)\n",
    "print(\"Shape of test y set :     \", y_test.shape,\"\\n\")\n",
    "print(\"Percentage of classes in training set:\")\n",
    "print(y_train.value_counts(normalize=True),\"\\n\")\n",
    "print(\"Percentage of classes in test set:\")\n",
    "print(y_test.value_counts(normalize=True))"
   ]
  },
  {
   "cell_type": "markdown",
   "id": "6b6026ac",
   "metadata": {},
   "source": [
    "#### Scaled dataset"
   ]
  },
  {
   "cell_type": "code",
   "execution_count": 27,
   "id": "b1cfa252",
   "metadata": {},
   "outputs": [
    {
     "name": "stdout",
     "output_type": "stream",
     "text": [
      "Shape of scaled Training X set :  (712, 9)\n",
      "Shape of scaled Training y set :  (712,)\n",
      "Shape of scaled test X set :      (179, 9)\n",
      "Shape of scaled test y set :      (179,) \n",
      "\n",
      "Percentage of classes in caled training set:\n",
      "0    0.622191\n",
      "1    0.377809\n",
      "Name: Survived, dtype: float64 \n",
      "\n",
      "Percentage of classes in scaled test set:\n",
      "0    0.592179\n",
      "1    0.407821\n",
      "Name: Survived, dtype: float64\n"
     ]
    }
   ],
   "source": [
    "print(\"Shape of scaled Training X set : \", X_train_scaled.shape)\n",
    "print(\"Shape of scaled Training y set : \", y_train_scaled.shape)\n",
    "print(\"Shape of scaled test X set :     \", X_test_scaled.shape)\n",
    "print(\"Shape of scaled test y set :     \", y_test_scaled.shape,\"\\n\")\n",
    "print(\"Percentage of classes in caled training set:\")\n",
    "print(y_train_scaled.value_counts(normalize=True),\"\\n\")\n",
    "print(\"Percentage of classes in scaled test set:\")\n",
    "print(y_test_scaled.value_counts(normalize=True))"
   ]
  },
  {
   "cell_type": "markdown",
   "id": "f12f6ad4",
   "metadata": {},
   "source": [
    "<a href = #top>Back to top</a>\n",
    "<a name=\"evaluacionModelo\"> </a>\n",
    "\n",
    "-----------------------------------------\n",
    "# **Model Evaluation Criterion**\n",
    "\n",
    "## Confussion Matrix\n",
    "\n",
    "|                    |                Predicted Negative (0)           |              Predicted Positive (1)              |\n",
    "|-------------------:|:-----------------------------------------------:|:------------------------------------------------:|\n",
    "| Actual Negative (0) | **TN**<br>(True Negative)                      | **FP** <br>(False Positive: Type I)<br>Precision |\n",
    "| Actual Positive (0) | **FN** <br>(False Negative: Type II)<br>Recall | **TP**<br>(True Positive)                        |\n",
    "\n",
    "Based on: `tn, fp, fn, tp = confusion_matrix()`\n",
    "[sklearn.metrics.confusion_matrix documentation](https://scikit-learn.org/stable/modules/generated/sklearn.metrics.confusion_matrix.html#examples-using-sklearn-metrics-confusion-matrix)\n",
    "\n",
    "## **Model can make wrong predictions as:**\n",
    "\n",
    "1. Predicting a passenger survived but in reality died (false-positives).\n",
    "2. Predicting a passenger died but in reality survived (false-negatives). \n",
    "\n",
    "## **Which case is more important?** \n",
    "\n",
    "Both the cases are important as:\n",
    "\n",
    "* If we predict that a passenger survived but in fact died is important for the challenge.\n",
    "* If we predict that a passenger died but in fact survived is also important for the challenge score. \n",
    "\n",
    "## **How to reduce the losses?**\n",
    "\n",
    "* The competition requires the `F1 Score` to be maximized, the greater the F1  score, the higher the chances of minimizing False Negatives and False Positives,  which means a better predictive model. \n",
    "\n",
    "## Model evaluation function"
   ]
  },
  {
   "cell_type": "code",
   "execution_count": 28,
   "id": "244b5476",
   "metadata": {},
   "outputs": [],
   "source": [
    "# Creating metric function \n",
    "def metrics_score(actual, predicted, display_CF):\n",
    "    print(classification_report(actual, predicted),'\\n')\n",
    "\n",
    "    if (display_CF == True):\n",
    "        #Creating confusion matrix\n",
    "        cm = confusion_matrix(actual, predicted)\n",
    "\n",
    "        # Setup heatmap plot for the CM\n",
    "        plt.figure(figsize=myFigSize_12_2)\n",
    "\n",
    "        sns.heatmap(cm, \n",
    "                    annot=True,  \n",
    "                    fmt='.2f', \n",
    "                    linewidth=.5,\n",
    "                    cmap='YlGnBu',\n",
    "                    xticklabels=['Died (0)', 'Survived (1)'], \n",
    "                    yticklabels=['Died (0)', 'Survived (1)'])\n",
    "        plt.title('Confusion Matrix',\n",
    "                  fontdict=fontTitles\n",
    "                 )\n",
    "        plt.ylabel('Actual',fontdict=fontAxes)\n",
    "        plt.xlabel('Predicted',fontdict=fontAxes)\n",
    "        plt.show()"
   ]
  },
  {
   "cell_type": "markdown",
   "id": "badebc58",
   "metadata": {},
   "source": [
    "<a href = #top>Back to top</a>\n",
    "<a name=\"construirModelos1\"> </a>\n",
    "\n",
    "-----------------------------------------\n",
    "# Building the models\n",
    "\n",
    "We will be building 4 different models:\n",
    "\n",
    "- [*Logistic Regression*](#logisticRegression)\n",
    "- [*Support Vector Machine (SVM)*](#SVM)\n",
    "- [*K Neighbors*](#KN)\n",
    "- [*Decision Tree*](#decisionTree)\n",
    "- [*Random Forest*](#randomForest)"
   ]
  },
  {
   "cell_type": "markdown",
   "id": "74e39f80",
   "metadata": {},
   "source": [
    "<a name=\"logisticRegression\"> </a>\n",
    "## Logistic Regression\n",
    "\n",
    "### Building the model\n",
    "\n",
    "Building and training the model with the scaled dataset. Logistic regression models are very sensitive to outliers and wont predict accurately if data is not scaled first."
   ]
  },
  {
   "cell_type": "code",
   "execution_count": 29,
   "id": "6bda5768",
   "metadata": {},
   "outputs": [
    {
     "data": {
      "text/html": [
       "<style>#sk-container-id-1 {color: black;background-color: white;}#sk-container-id-1 pre{padding: 0;}#sk-container-id-1 div.sk-toggleable {background-color: white;}#sk-container-id-1 label.sk-toggleable__label {cursor: pointer;display: block;width: 100%;margin-bottom: 0;padding: 0.3em;box-sizing: border-box;text-align: center;}#sk-container-id-1 label.sk-toggleable__label-arrow:before {content: \"▸\";float: left;margin-right: 0.25em;color: #696969;}#sk-container-id-1 label.sk-toggleable__label-arrow:hover:before {color: black;}#sk-container-id-1 div.sk-estimator:hover label.sk-toggleable__label-arrow:before {color: black;}#sk-container-id-1 div.sk-toggleable__content {max-height: 0;max-width: 0;overflow: hidden;text-align: left;background-color: #f0f8ff;}#sk-container-id-1 div.sk-toggleable__content pre {margin: 0.2em;color: black;border-radius: 0.25em;background-color: #f0f8ff;}#sk-container-id-1 input.sk-toggleable__control:checked~div.sk-toggleable__content {max-height: 200px;max-width: 100%;overflow: auto;}#sk-container-id-1 input.sk-toggleable__control:checked~label.sk-toggleable__label-arrow:before {content: \"▾\";}#sk-container-id-1 div.sk-estimator input.sk-toggleable__control:checked~label.sk-toggleable__label {background-color: #d4ebff;}#sk-container-id-1 div.sk-label input.sk-toggleable__control:checked~label.sk-toggleable__label {background-color: #d4ebff;}#sk-container-id-1 input.sk-hidden--visually {border: 0;clip: rect(1px 1px 1px 1px);clip: rect(1px, 1px, 1px, 1px);height: 1px;margin: -1px;overflow: hidden;padding: 0;position: absolute;width: 1px;}#sk-container-id-1 div.sk-estimator {font-family: monospace;background-color: #f0f8ff;border: 1px dotted black;border-radius: 0.25em;box-sizing: border-box;margin-bottom: 0.5em;}#sk-container-id-1 div.sk-estimator:hover {background-color: #d4ebff;}#sk-container-id-1 div.sk-parallel-item::after {content: \"\";width: 100%;border-bottom: 1px solid gray;flex-grow: 1;}#sk-container-id-1 div.sk-label:hover label.sk-toggleable__label {background-color: #d4ebff;}#sk-container-id-1 div.sk-serial::before {content: \"\";position: absolute;border-left: 1px solid gray;box-sizing: border-box;top: 0;bottom: 0;left: 50%;z-index: 0;}#sk-container-id-1 div.sk-serial {display: flex;flex-direction: column;align-items: center;background-color: white;padding-right: 0.2em;padding-left: 0.2em;position: relative;}#sk-container-id-1 div.sk-item {position: relative;z-index: 1;}#sk-container-id-1 div.sk-parallel {display: flex;align-items: stretch;justify-content: center;background-color: white;position: relative;}#sk-container-id-1 div.sk-item::before, #sk-container-id-1 div.sk-parallel-item::before {content: \"\";position: absolute;border-left: 1px solid gray;box-sizing: border-box;top: 0;bottom: 0;left: 50%;z-index: -1;}#sk-container-id-1 div.sk-parallel-item {display: flex;flex-direction: column;z-index: 1;position: relative;background-color: white;}#sk-container-id-1 div.sk-parallel-item:first-child::after {align-self: flex-end;width: 50%;}#sk-container-id-1 div.sk-parallel-item:last-child::after {align-self: flex-start;width: 50%;}#sk-container-id-1 div.sk-parallel-item:only-child::after {width: 0;}#sk-container-id-1 div.sk-dashed-wrapped {border: 1px dashed gray;margin: 0 0.4em 0.5em 0.4em;box-sizing: border-box;padding-bottom: 0.4em;background-color: white;}#sk-container-id-1 div.sk-label label {font-family: monospace;font-weight: bold;display: inline-block;line-height: 1.2em;}#sk-container-id-1 div.sk-label-container {text-align: center;}#sk-container-id-1 div.sk-container {/* jupyter's `normalize.less` sets `[hidden] { display: none; }` but bootstrap.min.css set `[hidden] { display: none !important; }` so we also need the `!important` here to be able to override the default hidden behavior on the sphinx rendered scikit-learn.org. See: https://github.com/scikit-learn/scikit-learn/issues/21755 */display: inline-block !important;position: relative;}#sk-container-id-1 div.sk-text-repr-fallback {display: none;}</style><div id=\"sk-container-id-1\" class=\"sk-top-container\"><div class=\"sk-text-repr-fallback\"><pre>LogisticRegression()</pre><b>In a Jupyter environment, please rerun this cell to show the HTML representation or trust the notebook. <br />On GitHub, the HTML representation is unable to render, please try loading this page with nbviewer.org.</b></div><div class=\"sk-container\" hidden><div class=\"sk-item\"><div class=\"sk-estimator sk-toggleable\"><input class=\"sk-toggleable__control sk-hidden--visually\" id=\"sk-estimator-id-1\" type=\"checkbox\" checked><label for=\"sk-estimator-id-1\" class=\"sk-toggleable__label sk-toggleable__label-arrow\">LogisticRegression</label><div class=\"sk-toggleable__content\"><pre>LogisticRegression()</pre></div></div></div></div></div>"
      ],
      "text/plain": [
       "LogisticRegression()"
      ]
     },
     "execution_count": 29,
     "metadata": {},
     "output_type": "execute_result"
    }
   ],
   "source": [
    "# Fitting logistic regression model\n",
    "model_LG = LogisticRegression()\n",
    "model_LG.fit(X_train_scaled, y_train_scaled)"
   ]
  },
  {
   "cell_type": "markdown",
   "id": "876eb605",
   "metadata": {},
   "source": [
    "### Model performance evaluation on the scaled training data"
   ]
  },
  {
   "cell_type": "code",
   "execution_count": 30,
   "id": "03161dcf",
   "metadata": {},
   "outputs": [
    {
     "name": "stdout",
     "output_type": "stream",
     "text": [
      "              precision    recall  f1-score   support\n",
      "\n",
      "           0       0.82      0.92      0.87       443\n",
      "           1       0.83      0.67      0.74       269\n",
      "\n",
      "    accuracy                           0.82       712\n",
      "   macro avg       0.83      0.79      0.80       712\n",
      "weighted avg       0.82      0.82      0.82       712\n",
      " \n",
      "\n"
     ]
    },
    {
     "data": {
      "image/png": "[encoded data removed]",
      "text/plain": [
       "<Figure size 1200x200 with 2 Axes>"
      ]
     },
     "metadata": {},
     "output_type": "display_data"
    }
   ],
   "source": [
    "#Checking the model's performance using the evaluation function\n",
    "y_train_scaled_predictions_LG = model_LG.predict(X_train_scaled)\n",
    "\n",
    "#Calling the function and passing the datasets\n",
    "metrics_score(y_train_scaled, y_train_scaled_predictions_LG, True)"
   ]
  },
  {
   "cell_type": "markdown",
   "id": "ccb89400",
   "metadata": {},
   "source": [
    "### Model performance evaluation on the scaled test data"
   ]
  },
  {
   "cell_type": "code",
   "execution_count": 31,
   "id": "73a5ab4d",
   "metadata": {},
   "outputs": [
    {
     "name": "stdout",
     "output_type": "stream",
     "text": [
      "              precision    recall  f1-score   support\n",
      "\n",
      "           0       0.77      0.90      0.83       106\n",
      "           1       0.80      0.60      0.69        73\n",
      "\n",
      "    accuracy                           0.78       179\n",
      "   macro avg       0.78      0.75      0.76       179\n",
      "weighted avg       0.78      0.78      0.77       179\n",
      " \n",
      "\n"
     ]
    }
   ],
   "source": [
    "#Checking the model's performance using the evaluation function\n",
    "y_test_scaled_predictions_LG = model_LG.predict(X_test_scaled)\n",
    "\n",
    "#Calling the function and passing the datasets\n",
    "metrics_score(y_test_scaled, y_test_scaled_predictions_LG, False)"
   ]
  },
  {
   "cell_type": "markdown",
   "id": "1e81bef3",
   "metadata": {},
   "source": [
    "### Model coefficients and odds per feature\n",
    "\n",
    "The coefficients allow to find which variables are leading to survival and which can help to reduce the survivals."
   ]
  },
  {
   "cell_type": "code",
   "execution_count": null,
   "id": "b02d2da1",
   "metadata": {},
   "outputs": [],
   "source": [
    "# Printing the coefficients of logistic regression\n",
    "cols = X_train_scaled.columns\n",
    "\n",
    "coefficients_LG = model_LG.coef_\n",
    "\n",
    "pd.DataFrame(coefficients_LG,\n",
    "             columns = cols).T.sort_values(by = 0,ascending = False)"
   ]
  },
  {
   "cell_type": "markdown",
   "id": "3a4bd7f3",
   "metadata": {},
   "source": [
    "The coefficients of the **logistic regression** model give us the **log of odds**, which is hard to interpret in the real world. We can convert the **log of odds into real odds** by taking its exponential."
   ]
  },
  {
   "cell_type": "code",
   "execution_count": null,
   "id": "00c98423",
   "metadata": {},
   "outputs": [],
   "source": [
    "# Finding the odds\n",
    "odds_LG = np.exp(model_LG.coef_[0]) \n",
    "\n",
    "# Adding the odds to a dataframe and sorting the values\n",
    "pd.DataFrame(odds_LG, \n",
    "             X_train_scaled.columns, \n",
    "             columns = ['Odds']).sort_values(by ='Odds', ascending = False) "
   ]
  },
  {
   "cell_type": "markdown",
   "id": "491571cc",
   "metadata": {},
   "source": [
    "### Finding the optimal threshold for the model using the Precision-Recall Curve\n",
    "\n",
    "Precision-Recall curves summarize the trade-off between the true positive rate and the positive predictive value for a predictive model using different probability thresholds.\n",
    "\n",
    "Let's use the Precision-Recall curve and see if we can find a **better threshold.**"
   ]
  },
  {
   "cell_type": "code",
   "execution_count": 32,
   "id": "8d54e25b",
   "metadata": {},
   "outputs": [
    {
     "data": {
      "image/png": "[encoded data removed]",
      "text/plain": [
       "<Figure size 1200x600 with 1 Axes>"
      ]
     },
     "metadata": {},
     "output_type": "display_data"
    }
   ],
   "source": [
    "# Predict_proba gives the probability of each observation belonging to each class\n",
    "y_scaled_scores_LG = model_LG.predict_proba(X_train_scaled)\n",
    "\n",
    "precisions_LG, recalls_LG, thresholds_LG = precision_recall_curve(y_train_scaled, \n",
    "                                                                  y_scaled_scores_LG[:,1])\n",
    "\n",
    "# Plot values of precisions, recalls, and thresholds\n",
    "plt.figure(figsize=myFigSize_12_6)\n",
    "plt.plot(thresholds_LG, precisions_LG[:-1], 'b--', label='Precision')\n",
    "plt.plot(thresholds_LG, recalls_LG[:-1], 'g--', label = 'Recall')\n",
    "plt.title('Precision-Recall Curves',\n",
    "          fontdict=fontTitles\n",
    "         )\n",
    "plt.xlabel('Threshold',fontdict=fontAxes)\n",
    "plt.legend(loc='best')\n",
    "plt.ylim([0,1])\n",
    "plt.show()"
   ]
  },
  {
   "cell_type": "code",
   "execution_count": 67,
   "id": "07c9cf62",
   "metadata": {},
   "outputs": [
    {
     "name": "stdout",
     "output_type": "stream",
     "text": [
      "Optimal Threshold:  0.4\n"
     ]
    }
   ],
   "source": [
    "# Calculating the exact threshold where precision and recall are equal.\n",
    "optimal_threshold_LG = 0.0\n",
    "\n",
    "for i in np.arange(len(thresholds_LG)):\n",
    "    if precisions_LG[i]==recalls_LG[i]:\n",
    "        optimal_threshold_LG = np.round(thresholds_LG[i],2)\n",
    "        print('Optimal Threshold: ',optimal_threshold_LG)"
   ]
  },
  {
   "cell_type": "markdown",
   "id": "a6f797d7",
   "metadata": {},
   "source": [
    "### Model performance evaluation with optimal threshold on the training data"
   ]
  },
  {
   "cell_type": "code",
   "execution_count": 34,
   "id": "ea6ef445",
   "metadata": {},
   "outputs": [
    {
     "name": "stdout",
     "output_type": "stream",
     "text": [
      "              precision    recall  f1-score   support\n",
      "\n",
      "           0       0.84      0.84      0.84       443\n",
      "           1       0.74      0.74      0.74       269\n",
      "\n",
      "    accuracy                           0.80       712\n",
      "   macro avg       0.79      0.79      0.79       712\n",
      "weighted avg       0.80      0.80      0.80       712\n",
      " \n",
      "\n"
     ]
    }
   ],
   "source": [
    "# Creating performance indicators and confusion matrix on train data\n",
    "y_train_scaled_predictions_LG_opt = model_LG.predict_proba(X_train_scaled)\n",
    "metrics_score(y_train_scaled, y_train_scaled_predictions_LG_opt[:,1] > optimal_threshold,False)"
   ]
  },
  {
   "cell_type": "markdown",
   "id": "921fbc72",
   "metadata": {},
   "source": [
    "### Model performance evaluation with optimal threshold on the test data"
   ]
  },
  {
   "cell_type": "code",
   "execution_count": 35,
   "id": "51c7b11e",
   "metadata": {
    "scrolled": true
   },
   "outputs": [
    {
     "name": "stdout",
     "output_type": "stream",
     "text": [
      "              precision    recall  f1-score   support\n",
      "\n",
      "           0       0.83      0.85      0.84       106\n",
      "           1       0.77      0.74      0.76        73\n",
      "\n",
      "    accuracy                           0.80       179\n",
      "   macro avg       0.80      0.79      0.80       179\n",
      "weighted avg       0.80      0.80      0.80       179\n",
      " \n",
      "\n"
     ]
    }
   ],
   "source": [
    "# Creating performance indicators and confusion matrix on test data \n",
    "y_test_scaled_predictions_LG_opt = model_LG.predict_proba(X_test_scaled)\n",
    "metrics_score(y_test_scaled, y_test_scaled_predictions_LG_opt[:,1] > optimal_threshold,False)"
   ]
  },
  {
   "cell_type": "markdown",
   "id": "7d9b5fbf",
   "metadata": {},
   "source": [
    "### Model Performance Findings or Observations\n",
    "\n",
    "- **Observation 1:** TBD\n",
    "- **Observation 2:** TBD\n",
    "- **Observation 3:** TBD"
   ]
  },
  {
   "cell_type": "markdown",
   "id": "ffe5d7b2",
   "metadata": {},
   "source": [
    "<a href = #construirModelos1>Back to **building models**</a>\n",
    "\n",
    "----\n",
    "\n",
    "<a name=\"SVM\"> </a>\n",
    "## Support Vector Machines (SVM)\n",
    "\n",
    "### Kernel functions\n",
    "\n",
    "1.   [*Linear Kernel*](#linearKernel)\n",
    "2.   [*RBF Kernel*](#rbfKernel)\n",
    "\n",
    "### Linear Kernel SVM\n",
    "\n",
    "#### Training SVM model"
   ]
  },
  {
   "cell_type": "code",
   "execution_count": 36,
   "id": "ab935ea0",
   "metadata": {},
   "outputs": [
    {
     "data": {
      "text/html": [
       "<style>#sk-container-id-2 {color: black;background-color: white;}#sk-container-id-2 pre{padding: 0;}#sk-container-id-2 div.sk-toggleable {background-color: white;}#sk-container-id-2 label.sk-toggleable__label {cursor: pointer;display: block;width: 100%;margin-bottom: 0;padding: 0.3em;box-sizing: border-box;text-align: center;}#sk-container-id-2 label.sk-toggleable__label-arrow:before {content: \"▸\";float: left;margin-right: 0.25em;color: #696969;}#sk-container-id-2 label.sk-toggleable__label-arrow:hover:before {color: black;}#sk-container-id-2 div.sk-estimator:hover label.sk-toggleable__label-arrow:before {color: black;}#sk-container-id-2 div.sk-toggleable__content {max-height: 0;max-width: 0;overflow: hidden;text-align: left;background-color: #f0f8ff;}#sk-container-id-2 div.sk-toggleable__content pre {margin: 0.2em;color: black;border-radius: 0.25em;background-color: #f0f8ff;}#sk-container-id-2 input.sk-toggleable__control:checked~div.sk-toggleable__content {max-height: 200px;max-width: 100%;overflow: auto;}#sk-container-id-2 input.sk-toggleable__control:checked~label.sk-toggleable__label-arrow:before {content: \"▾\";}#sk-container-id-2 div.sk-estimator input.sk-toggleable__control:checked~label.sk-toggleable__label {background-color: #d4ebff;}#sk-container-id-2 div.sk-label input.sk-toggleable__control:checked~label.sk-toggleable__label {background-color: #d4ebff;}#sk-container-id-2 input.sk-hidden--visually {border: 0;clip: rect(1px 1px 1px 1px);clip: rect(1px, 1px, 1px, 1px);height: 1px;margin: -1px;overflow: hidden;padding: 0;position: absolute;width: 1px;}#sk-container-id-2 div.sk-estimator {font-family: monospace;background-color: #f0f8ff;border: 1px dotted black;border-radius: 0.25em;box-sizing: border-box;margin-bottom: 0.5em;}#sk-container-id-2 div.sk-estimator:hover {background-color: #d4ebff;}#sk-container-id-2 div.sk-parallel-item::after {content: \"\";width: 100%;border-bottom: 1px solid gray;flex-grow: 1;}#sk-container-id-2 div.sk-label:hover label.sk-toggleable__label {background-color: #d4ebff;}#sk-container-id-2 div.sk-serial::before {content: \"\";position: absolute;border-left: 1px solid gray;box-sizing: border-box;top: 0;bottom: 0;left: 50%;z-index: 0;}#sk-container-id-2 div.sk-serial {display: flex;flex-direction: column;align-items: center;background-color: white;padding-right: 0.2em;padding-left: 0.2em;position: relative;}#sk-container-id-2 div.sk-item {position: relative;z-index: 1;}#sk-container-id-2 div.sk-parallel {display: flex;align-items: stretch;justify-content: center;background-color: white;position: relative;}#sk-container-id-2 div.sk-item::before, #sk-container-id-2 div.sk-parallel-item::before {content: \"\";position: absolute;border-left: 1px solid gray;box-sizing: border-box;top: 0;bottom: 0;left: 50%;z-index: -1;}#sk-container-id-2 div.sk-parallel-item {display: flex;flex-direction: column;z-index: 1;position: relative;background-color: white;}#sk-container-id-2 div.sk-parallel-item:first-child::after {align-self: flex-end;width: 50%;}#sk-container-id-2 div.sk-parallel-item:last-child::after {align-self: flex-start;width: 50%;}#sk-container-id-2 div.sk-parallel-item:only-child::after {width: 0;}#sk-container-id-2 div.sk-dashed-wrapped {border: 1px dashed gray;margin: 0 0.4em 0.5em 0.4em;box-sizing: border-box;padding-bottom: 0.4em;background-color: white;}#sk-container-id-2 div.sk-label label {font-family: monospace;font-weight: bold;display: inline-block;line-height: 1.2em;}#sk-container-id-2 div.sk-label-container {text-align: center;}#sk-container-id-2 div.sk-container {/* jupyter's `normalize.less` sets `[hidden] { display: none; }` but bootstrap.min.css set `[hidden] { display: none !important; }` so we also need the `!important` here to be able to override the default hidden behavior on the sphinx rendered scikit-learn.org. See: https://github.com/scikit-learn/scikit-learn/issues/21755 */display: inline-block !important;position: relative;}#sk-container-id-2 div.sk-text-repr-fallback {display: none;}</style><div id=\"sk-container-id-2\" class=\"sk-top-container\"><div class=\"sk-text-repr-fallback\"><pre>SVC(kernel=&#x27;linear&#x27;, probability=True)</pre><b>In a Jupyter environment, please rerun this cell to show the HTML representation or trust the notebook. <br />On GitHub, the HTML representation is unable to render, please try loading this page with nbviewer.org.</b></div><div class=\"sk-container\" hidden><div class=\"sk-item\"><div class=\"sk-estimator sk-toggleable\"><input class=\"sk-toggleable__control sk-hidden--visually\" id=\"sk-estimator-id-2\" type=\"checkbox\" checked><label for=\"sk-estimator-id-2\" class=\"sk-toggleable__label sk-toggleable__label-arrow\">SVC</label><div class=\"sk-toggleable__content\"><pre>SVC(kernel=&#x27;linear&#x27;, probability=True)</pre></div></div></div></div></div>"
      ],
      "text/plain": [
       "SVC(kernel='linear', probability=True)"
      ]
     },
     "execution_count": 36,
     "metadata": {},
     "output_type": "execute_result"
    }
   ],
   "source": [
    "# Fitting the model with the scaled training data.\n",
    "# Linear kernel or linear decision boundary model used\n",
    "model_SVM_lk = SVC(kernel='linear', probability=True)\n",
    "model_SVM_lk.fit(X = X_train_scaled, y = y_train_scaled)"
   ]
  },
  {
   "cell_type": "markdown",
   "id": "d222823e",
   "metadata": {},
   "source": [
    "### Model Performance Evaluation on the training data"
   ]
  },
  {
   "cell_type": "code",
   "execution_count": 37,
   "id": "94e36d5a",
   "metadata": {},
   "outputs": [
    {
     "name": "stdout",
     "output_type": "stream",
     "text": [
      "              precision    recall  f1-score   support\n",
      "\n",
      "           0       0.80      0.95      0.87       443\n",
      "           1       0.88      0.62      0.73       269\n",
      "\n",
      "    accuracy                           0.83       712\n",
      "   macro avg       0.84      0.79      0.80       712\n",
      "weighted avg       0.83      0.83      0.82       712\n",
      " \n",
      "\n"
     ]
    }
   ],
   "source": [
    "#Checking the model's performance using the evaluation function\n",
    "y_train_scaled_predictions_SVM_lk = model_SVM_lk.predict(X_train_scaled)\n",
    "\n",
    "#Calling the function and passing the datasets\n",
    "metrics_score(y_train_scaled, y_train_scaled_predictions_SVM_lk, False)"
   ]
  },
  {
   "cell_type": "markdown",
   "id": "f3c9f21b",
   "metadata": {},
   "source": [
    "### Model Performance Evaluation on the Test Data"
   ]
  },
  {
   "cell_type": "code",
   "execution_count": 38,
   "id": "d2635852",
   "metadata": {},
   "outputs": [
    {
     "name": "stdout",
     "output_type": "stream",
     "text": [
      "              precision    recall  f1-score   support\n",
      "\n",
      "           0       0.74      0.92      0.82       106\n",
      "           1       0.83      0.53      0.65        73\n",
      "\n",
      "    accuracy                           0.77       179\n",
      "   macro avg       0.79      0.73      0.74       179\n",
      "weighted avg       0.78      0.77      0.75       179\n",
      " \n",
      "\n"
     ]
    }
   ],
   "source": [
    "#Checking the model's performance using the evaluation function\n",
    "y_test_scaled_predictions_SVM_lk = model_SVM_lk.predict(X_test_scaled)\n",
    "\n",
    "#Calling the function and passing the datasets\n",
    "metrics_score(y_test_scaled, y_test_scaled_predictions_SVM_lk, False)"
   ]
  },
  {
   "cell_type": "markdown",
   "id": "78970711",
   "metadata": {},
   "source": [
    "<a name=\"rbfKernel\"> </a>\n",
    "\n",
    "### RBF Kernel SVM\n",
    "\n",
    "#### Training SVM model"
   ]
  },
  {
   "cell_type": "code",
   "execution_count": 39,
   "id": "86091588",
   "metadata": {},
   "outputs": [
    {
     "data": {
      "text/html": [
       "<style>#sk-container-id-3 {color: black;background-color: white;}#sk-container-id-3 pre{padding: 0;}#sk-container-id-3 div.sk-toggleable {background-color: white;}#sk-container-id-3 label.sk-toggleable__label {cursor: pointer;display: block;width: 100%;margin-bottom: 0;padding: 0.3em;box-sizing: border-box;text-align: center;}#sk-container-id-3 label.sk-toggleable__label-arrow:before {content: \"▸\";float: left;margin-right: 0.25em;color: #696969;}#sk-container-id-3 label.sk-toggleable__label-arrow:hover:before {color: black;}#sk-container-id-3 div.sk-estimator:hover label.sk-toggleable__label-arrow:before {color: black;}#sk-container-id-3 div.sk-toggleable__content {max-height: 0;max-width: 0;overflow: hidden;text-align: left;background-color: #f0f8ff;}#sk-container-id-3 div.sk-toggleable__content pre {margin: 0.2em;color: black;border-radius: 0.25em;background-color: #f0f8ff;}#sk-container-id-3 input.sk-toggleable__control:checked~div.sk-toggleable__content {max-height: 200px;max-width: 100%;overflow: auto;}#sk-container-id-3 input.sk-toggleable__control:checked~label.sk-toggleable__label-arrow:before {content: \"▾\";}#sk-container-id-3 div.sk-estimator input.sk-toggleable__control:checked~label.sk-toggleable__label {background-color: #d4ebff;}#sk-container-id-3 div.sk-label input.sk-toggleable__control:checked~label.sk-toggleable__label {background-color: #d4ebff;}#sk-container-id-3 input.sk-hidden--visually {border: 0;clip: rect(1px 1px 1px 1px);clip: rect(1px, 1px, 1px, 1px);height: 1px;margin: -1px;overflow: hidden;padding: 0;position: absolute;width: 1px;}#sk-container-id-3 div.sk-estimator {font-family: monospace;background-color: #f0f8ff;border: 1px dotted black;border-radius: 0.25em;box-sizing: border-box;margin-bottom: 0.5em;}#sk-container-id-3 div.sk-estimator:hover {background-color: #d4ebff;}#sk-container-id-3 div.sk-parallel-item::after {content: \"\";width: 100%;border-bottom: 1px solid gray;flex-grow: 1;}#sk-container-id-3 div.sk-label:hover label.sk-toggleable__label {background-color: #d4ebff;}#sk-container-id-3 div.sk-serial::before {content: \"\";position: absolute;border-left: 1px solid gray;box-sizing: border-box;top: 0;bottom: 0;left: 50%;z-index: 0;}#sk-container-id-3 div.sk-serial {display: flex;flex-direction: column;align-items: center;background-color: white;padding-right: 0.2em;padding-left: 0.2em;position: relative;}#sk-container-id-3 div.sk-item {position: relative;z-index: 1;}#sk-container-id-3 div.sk-parallel {display: flex;align-items: stretch;justify-content: center;background-color: white;position: relative;}#sk-container-id-3 div.sk-item::before, #sk-container-id-3 div.sk-parallel-item::before {content: \"\";position: absolute;border-left: 1px solid gray;box-sizing: border-box;top: 0;bottom: 0;left: 50%;z-index: -1;}#sk-container-id-3 div.sk-parallel-item {display: flex;flex-direction: column;z-index: 1;position: relative;background-color: white;}#sk-container-id-3 div.sk-parallel-item:first-child::after {align-self: flex-end;width: 50%;}#sk-container-id-3 div.sk-parallel-item:last-child::after {align-self: flex-start;width: 50%;}#sk-container-id-3 div.sk-parallel-item:only-child::after {width: 0;}#sk-container-id-3 div.sk-dashed-wrapped {border: 1px dashed gray;margin: 0 0.4em 0.5em 0.4em;box-sizing: border-box;padding-bottom: 0.4em;background-color: white;}#sk-container-id-3 div.sk-label label {font-family: monospace;font-weight: bold;display: inline-block;line-height: 1.2em;}#sk-container-id-3 div.sk-label-container {text-align: center;}#sk-container-id-3 div.sk-container {/* jupyter's `normalize.less` sets `[hidden] { display: none; }` but bootstrap.min.css set `[hidden] { display: none !important; }` so we also need the `!important` here to be able to override the default hidden behavior on the sphinx rendered scikit-learn.org. See: https://github.com/scikit-learn/scikit-learn/issues/21755 */display: inline-block !important;position: relative;}#sk-container-id-3 div.sk-text-repr-fallback {display: none;}</style><div id=\"sk-container-id-3\" class=\"sk-top-container\"><div class=\"sk-text-repr-fallback\"><pre>SVC(probability=True)</pre><b>In a Jupyter environment, please rerun this cell to show the HTML representation or trust the notebook. <br />On GitHub, the HTML representation is unable to render, please try loading this page with nbviewer.org.</b></div><div class=\"sk-container\" hidden><div class=\"sk-item\"><div class=\"sk-estimator sk-toggleable\"><input class=\"sk-toggleable__control sk-hidden--visually\" id=\"sk-estimator-id-3\" type=\"checkbox\" checked><label for=\"sk-estimator-id-3\" class=\"sk-toggleable__label sk-toggleable__label-arrow\">SVC</label><div class=\"sk-toggleable__content\"><pre>SVC(probability=True)</pre></div></div></div></div></div>"
      ],
      "text/plain": [
       "SVC(probability=True)"
      ]
     },
     "execution_count": 39,
     "metadata": {},
     "output_type": "execute_result"
    }
   ],
   "source": [
    "# Fitting the model with the scaled training data.\n",
    "# Radial Basis Function (RBF) boundary model\n",
    "model_SVM_rbf = SVC(kernel='rbf', probability=True)\n",
    "model_SVM_rbf.fit(X = X_train_scaled, y = y_train_scaled)"
   ]
  },
  {
   "cell_type": "markdown",
   "id": "18d44dab",
   "metadata": {},
   "source": [
    "### Model Performance Evaluation on the training data"
   ]
  },
  {
   "cell_type": "code",
   "execution_count": 40,
   "id": "c725d786",
   "metadata": {},
   "outputs": [
    {
     "name": "stdout",
     "output_type": "stream",
     "text": [
      "              precision    recall  f1-score   support\n",
      "\n",
      "           0       0.84      0.96      0.89       443\n",
      "           1       0.91      0.69      0.78       269\n",
      "\n",
      "    accuracy                           0.86       712\n",
      "   macro avg       0.87      0.82      0.84       712\n",
      "weighted avg       0.86      0.86      0.85       712\n",
      " \n",
      "\n"
     ]
    }
   ],
   "source": [
    "#Checking the model's performance using the evaluation function\n",
    "y_train_scaled_predictions_SVM_rbf = model_SVM_rbf.predict(X_train_scaled)\n",
    "\n",
    "#Calling the function and passing the datasets\n",
    "metrics_score(y_train_scaled, y_train_scaled_predictions_SVM_rbf, False)"
   ]
  },
  {
   "cell_type": "markdown",
   "id": "a9bfaa84",
   "metadata": {},
   "source": [
    "### Model Performance Evaluation on the Test Data"
   ]
  },
  {
   "cell_type": "code",
   "execution_count": 41,
   "id": "b5e9b42d",
   "metadata": {},
   "outputs": [
    {
     "name": "stdout",
     "output_type": "stream",
     "text": [
      "              precision    recall  f1-score   support\n",
      "\n",
      "           0       0.75      0.94      0.84       106\n",
      "           1       0.87      0.55      0.67        73\n",
      "\n",
      "    accuracy                           0.78       179\n",
      "   macro avg       0.81      0.75      0.75       179\n",
      "weighted avg       0.80      0.78      0.77       179\n",
      " \n",
      "\n"
     ]
    }
   ],
   "source": [
    "#Checking the model's performance using the evaluation function\n",
    "y_test_scaled_predictions_SVM_rbf = model_SVM_rbf.predict(X_test_scaled)\n",
    "\n",
    "#Calling the function and passing the datasets\n",
    "metrics_score(y_test_scaled, y_test_scaled_predictions_SVM_rbf, False)"
   ]
  },
  {
   "cell_type": "markdown",
   "id": "44065b56",
   "metadata": {},
   "source": [
    "### Finding the optimal threshold for the model using the Precision-Recall Curve\n",
    "\n",
    "Precision-Recall curves summarize the trade-off between the true positive rate and the positive predictive value for a predictive model using different probability thresholds."
   ]
  },
  {
   "cell_type": "code",
   "execution_count": 42,
   "id": "e474bae1",
   "metadata": {},
   "outputs": [
    {
     "data": {
      "image/png": "[encoded data removed]",
      "text/plain": [
       "<Figure size 1200x600 with 1 Axes>"
      ]
     },
     "metadata": {},
     "output_type": "display_data"
    }
   ],
   "source": [
    "# Predict on train data\n",
    "y_scaled_scores_SVM_rbf = model_SVM_rbf.predict_proba(X_train_scaled)\n",
    "\n",
    "precisions_SVM_rbf, recalls_SVM_rbf, thresholds_SVM_rbf = precision_recall_curve(y_train_scaled, \n",
    "                                                                     y_scaled_scores_SVM_rbf[:,1])\n",
    "\n",
    "# Plot values of precision-recall curve for linear model\n",
    "plt.figure(figsize=myFigSize_12_6)\n",
    "plt.plot(thresholds_SVM_rbf, precisions_SVM_rbf[:-1], 'b--', label='Precision')\n",
    "plt.plot(thresholds_SVM_rbf, recalls_SVM_rbf[:-1], 'g--', label = 'Recall')\n",
    "plt.title('Precision-Recall Curves',fontdict=fontTitles)\n",
    "plt.xlabel('Threshold',fontdict=fontAxes)\n",
    "plt.legend(loc='best')\n",
    "plt.ylim([0,1])\n",
    "plt.show()"
   ]
  },
  {
   "cell_type": "code",
   "execution_count": 66,
   "id": "19f07ce9",
   "metadata": {},
   "outputs": [
    {
     "name": "stdout",
     "output_type": "stream",
     "text": [
      "Optimal Threshold:  0.18\n"
     ]
    }
   ],
   "source": [
    "# Calculating the exact threshold where precision and recall are equal.\n",
    "optimal_threshold_SVM_rbf = 0.0\n",
    "\n",
    "for i in np.arange(len(thresholds_SVM_rbf)):\n",
    "    if precisions_SVM_rbf[i]==recalls_SVM_rbf[i]:\n",
    "        optimal_threshold_SVM_rbf = np.round(thresholds_SVM_rbf[i],2)\n",
    "        print('Optimal Threshold: ',optimal_threshold_SVM_rbf)"
   ]
  },
  {
   "cell_type": "markdown",
   "id": "fdc6fe03",
   "metadata": {},
   "source": [
    "#### Model performance evaluation with optimal threshold on the training data"
   ]
  },
  {
   "cell_type": "code",
   "execution_count": 44,
   "id": "cbe28fd6",
   "metadata": {},
   "outputs": [
    {
     "name": "stdout",
     "output_type": "stream",
     "text": [
      "              precision    recall  f1-score   support\n",
      "\n",
      "           0       0.87      0.87      0.87       443\n",
      "           1       0.78      0.78      0.78       269\n",
      "\n",
      "    accuracy                           0.83       712\n",
      "   macro avg       0.82      0.82      0.82       712\n",
      "weighted avg       0.83      0.83      0.83       712\n",
      " \n",
      "\n"
     ]
    }
   ],
   "source": [
    "# Creating performance indicators and confusion matrix on train data\n",
    "y_train_scaled_predictions_SVM_rbf_opt = model_SVM_rbf.predict_proba(X_train_scaled)\n",
    "metrics_score(y_train_scaled, \n",
    "              y_train_scaled_predictions_SVM_rbf_opt[:,1] > optimal_threshold_SVM_rbf,False)"
   ]
  },
  {
   "cell_type": "markdown",
   "id": "7894947e",
   "metadata": {},
   "source": [
    "#### Model performance evaluation with optimal threshold on the test data"
   ]
  },
  {
   "cell_type": "code",
   "execution_count": 45,
   "id": "7a2de1ad",
   "metadata": {},
   "outputs": [
    {
     "name": "stdout",
     "output_type": "stream",
     "text": [
      "              precision    recall  f1-score   support\n",
      "\n",
      "           0       0.87      0.87      0.87       443\n",
      "           1       0.78      0.78      0.78       269\n",
      "\n",
      "    accuracy                           0.83       712\n",
      "   macro avg       0.82      0.82      0.82       712\n",
      "weighted avg       0.83      0.83      0.83       712\n",
      " \n",
      "\n"
     ]
    }
   ],
   "source": [
    "# Creating performance indicators and confusion matrix on train data\n",
    "y_test_scaled_predictions_SVM_rbf_opt = model_SVM_rbf.predict_proba(X_train_scaled)\n",
    "metrics_score(y_train_scaled, \n",
    "              y_train_scaled_predictions_SVM_rbf_opt[:,1] > optimal_threshold_SVM_rbf,False)"
   ]
  },
  {
   "cell_type": "markdown",
   "id": "0ee2076b",
   "metadata": {},
   "source": [
    "<a href = #construirModelos1>Back to **building models**</a>\n",
    "\n",
    "----\n",
    "\n",
    "<a name=\"KN\"> </a>\n",
    "\n",
    "## K-Neighbors\n",
    "\n",
    "### Build model"
   ]
  },
  {
   "cell_type": "code",
   "execution_count": 46,
   "id": "51730510",
   "metadata": {},
   "outputs": [
    {
     "data": {
      "text/html": [
       "<style>#sk-container-id-4 {color: black;background-color: white;}#sk-container-id-4 pre{padding: 0;}#sk-container-id-4 div.sk-toggleable {background-color: white;}#sk-container-id-4 label.sk-toggleable__label {cursor: pointer;display: block;width: 100%;margin-bottom: 0;padding: 0.3em;box-sizing: border-box;text-align: center;}#sk-container-id-4 label.sk-toggleable__label-arrow:before {content: \"▸\";float: left;margin-right: 0.25em;color: #696969;}#sk-container-id-4 label.sk-toggleable__label-arrow:hover:before {color: black;}#sk-container-id-4 div.sk-estimator:hover label.sk-toggleable__label-arrow:before {color: black;}#sk-container-id-4 div.sk-toggleable__content {max-height: 0;max-width: 0;overflow: hidden;text-align: left;background-color: #f0f8ff;}#sk-container-id-4 div.sk-toggleable__content pre {margin: 0.2em;color: black;border-radius: 0.25em;background-color: #f0f8ff;}#sk-container-id-4 input.sk-toggleable__control:checked~div.sk-toggleable__content {max-height: 200px;max-width: 100%;overflow: auto;}#sk-container-id-4 input.sk-toggleable__control:checked~label.sk-toggleable__label-arrow:before {content: \"▾\";}#sk-container-id-4 div.sk-estimator input.sk-toggleable__control:checked~label.sk-toggleable__label {background-color: #d4ebff;}#sk-container-id-4 div.sk-label input.sk-toggleable__control:checked~label.sk-toggleable__label {background-color: #d4ebff;}#sk-container-id-4 input.sk-hidden--visually {border: 0;clip: rect(1px 1px 1px 1px);clip: rect(1px, 1px, 1px, 1px);height: 1px;margin: -1px;overflow: hidden;padding: 0;position: absolute;width: 1px;}#sk-container-id-4 div.sk-estimator {font-family: monospace;background-color: #f0f8ff;border: 1px dotted black;border-radius: 0.25em;box-sizing: border-box;margin-bottom: 0.5em;}#sk-container-id-4 div.sk-estimator:hover {background-color: #d4ebff;}#sk-container-id-4 div.sk-parallel-item::after {content: \"\";width: 100%;border-bottom: 1px solid gray;flex-grow: 1;}#sk-container-id-4 div.sk-label:hover label.sk-toggleable__label {background-color: #d4ebff;}#sk-container-id-4 div.sk-serial::before {content: \"\";position: absolute;border-left: 1px solid gray;box-sizing: border-box;top: 0;bottom: 0;left: 50%;z-index: 0;}#sk-container-id-4 div.sk-serial {display: flex;flex-direction: column;align-items: center;background-color: white;padding-right: 0.2em;padding-left: 0.2em;position: relative;}#sk-container-id-4 div.sk-item {position: relative;z-index: 1;}#sk-container-id-4 div.sk-parallel {display: flex;align-items: stretch;justify-content: center;background-color: white;position: relative;}#sk-container-id-4 div.sk-item::before, #sk-container-id-4 div.sk-parallel-item::before {content: \"\";position: absolute;border-left: 1px solid gray;box-sizing: border-box;top: 0;bottom: 0;left: 50%;z-index: -1;}#sk-container-id-4 div.sk-parallel-item {display: flex;flex-direction: column;z-index: 1;position: relative;background-color: white;}#sk-container-id-4 div.sk-parallel-item:first-child::after {align-self: flex-end;width: 50%;}#sk-container-id-4 div.sk-parallel-item:last-child::after {align-self: flex-start;width: 50%;}#sk-container-id-4 div.sk-parallel-item:only-child::after {width: 0;}#sk-container-id-4 div.sk-dashed-wrapped {border: 1px dashed gray;margin: 0 0.4em 0.5em 0.4em;box-sizing: border-box;padding-bottom: 0.4em;background-color: white;}#sk-container-id-4 div.sk-label label {font-family: monospace;font-weight: bold;display: inline-block;line-height: 1.2em;}#sk-container-id-4 div.sk-label-container {text-align: center;}#sk-container-id-4 div.sk-container {/* jupyter's `normalize.less` sets `[hidden] { display: none; }` but bootstrap.min.css set `[hidden] { display: none !important; }` so we also need the `!important` here to be able to override the default hidden behavior on the sphinx rendered scikit-learn.org. See: https://github.com/scikit-learn/scikit-learn/issues/21755 */display: inline-block !important;position: relative;}#sk-container-id-4 div.sk-text-repr-fallback {display: none;}</style><div id=\"sk-container-id-4\" class=\"sk-top-container\"><div class=\"sk-text-repr-fallback\"><pre>KNeighborsClassifier(n_neighbors=3)</pre><b>In a Jupyter environment, please rerun this cell to show the HTML representation or trust the notebook. <br />On GitHub, the HTML representation is unable to render, please try loading this page with nbviewer.org.</b></div><div class=\"sk-container\" hidden><div class=\"sk-item\"><div class=\"sk-estimator sk-toggleable\"><input class=\"sk-toggleable__control sk-hidden--visually\" id=\"sk-estimator-id-4\" type=\"checkbox\" checked><label for=\"sk-estimator-id-4\" class=\"sk-toggleable__label sk-toggleable__label-arrow\">KNeighborsClassifier</label><div class=\"sk-toggleable__content\"><pre>KNeighborsClassifier(n_neighbors=3)</pre></div></div></div></div></div>"
      ],
      "text/plain": [
       "KNeighborsClassifier(n_neighbors=3)"
      ]
     },
     "execution_count": 46,
     "metadata": {},
     "output_type": "execute_result"
    }
   ],
   "source": [
    "# Quantity of neighbors determined in PCA section\n",
    "model_KN = KNeighborsClassifier(n_neighbors=3)\n",
    "\n",
    "# Training model\n",
    "model_KN.fit(X_train_scaled,y_train_scaled)"
   ]
  },
  {
   "cell_type": "markdown",
   "id": "b3ea3235",
   "metadata": {},
   "source": [
    "### Model performance evaluation on the scaled training data"
   ]
  },
  {
   "cell_type": "code",
   "execution_count": 47,
   "id": "0112c237",
   "metadata": {},
   "outputs": [
    {
     "name": "stdout",
     "output_type": "stream",
     "text": [
      "              precision    recall  f1-score   support\n",
      "\n",
      "           0       0.88      0.93      0.91       443\n",
      "           1       0.88      0.79      0.83       269\n",
      "\n",
      "    accuracy                           0.88       712\n",
      "   macro avg       0.88      0.86      0.87       712\n",
      "weighted avg       0.88      0.88      0.88       712\n",
      " \n",
      "\n"
     ]
    },
    {
     "data": {
      "image/png": "[encoded data removed]",
      "text/plain": [
       "<Figure size 1200x200 with 2 Axes>"
      ]
     },
     "metadata": {},
     "output_type": "display_data"
    }
   ],
   "source": [
    "#Checking the model's performance using the evaluation function\n",
    "y_train_scaled_predictions_KN = model_KN.predict(X_train_scaled)\n",
    "\n",
    "#Calling the function and passing the datasets\n",
    "metrics_score(y_train_scaled, y_train_scaled_predictions_KN, True)"
   ]
  },
  {
   "cell_type": "markdown",
   "id": "95e128e7",
   "metadata": {},
   "source": [
    "### Model performance evaluation on the scaled test data"
   ]
  },
  {
   "cell_type": "code",
   "execution_count": 48,
   "id": "594f1b6a",
   "metadata": {},
   "outputs": [
    {
     "name": "stdout",
     "output_type": "stream",
     "text": [
      "              precision    recall  f1-score   support\n",
      "\n",
      "           0       0.78      0.89      0.83       106\n",
      "           1       0.79      0.63      0.70        73\n",
      "\n",
      "    accuracy                           0.78       179\n",
      "   macro avg       0.78      0.76      0.77       179\n",
      "weighted avg       0.78      0.78      0.78       179\n",
      " \n",
      "\n"
     ]
    }
   ],
   "source": [
    "#Checking the model's performance using the evaluation function\n",
    "y_test_scaled_predictions_KN = model_KN.predict(X_test_scaled)\n",
    "\n",
    "#Calling the function and passing the datasets\n",
    "metrics_score(y_test_scaled, y_test_scaled_predictions_KN, False)"
   ]
  },
  {
   "cell_type": "markdown",
   "id": "bf020a2d",
   "metadata": {},
   "source": [
    "<a href = #construirModelos1>Back to **building models**</a>\n",
    "\n",
    "----\n",
    "\n",
    "<a name=\"decisionTree\"> </a>\n",
    "\n",
    "## Decision Tree\n",
    "\n",
    "### Build model"
   ]
  },
  {
   "cell_type": "code",
   "execution_count": 49,
   "id": "4ee9cf74",
   "metadata": {},
   "outputs": [
    {
     "data": {
      "text/html": [
       "<style>#sk-container-id-5 {color: black;background-color: white;}#sk-container-id-5 pre{padding: 0;}#sk-container-id-5 div.sk-toggleable {background-color: white;}#sk-container-id-5 label.sk-toggleable__label {cursor: pointer;display: block;width: 100%;margin-bottom: 0;padding: 0.3em;box-sizing: border-box;text-align: center;}#sk-container-id-5 label.sk-toggleable__label-arrow:before {content: \"▸\";float: left;margin-right: 0.25em;color: #696969;}#sk-container-id-5 label.sk-toggleable__label-arrow:hover:before {color: black;}#sk-container-id-5 div.sk-estimator:hover label.sk-toggleable__label-arrow:before {color: black;}#sk-container-id-5 div.sk-toggleable__content {max-height: 0;max-width: 0;overflow: hidden;text-align: left;background-color: #f0f8ff;}#sk-container-id-5 div.sk-toggleable__content pre {margin: 0.2em;color: black;border-radius: 0.25em;background-color: #f0f8ff;}#sk-container-id-5 input.sk-toggleable__control:checked~div.sk-toggleable__content {max-height: 200px;max-width: 100%;overflow: auto;}#sk-container-id-5 input.sk-toggleable__control:checked~label.sk-toggleable__label-arrow:before {content: \"▾\";}#sk-container-id-5 div.sk-estimator input.sk-toggleable__control:checked~label.sk-toggleable__label {background-color: #d4ebff;}#sk-container-id-5 div.sk-label input.sk-toggleable__control:checked~label.sk-toggleable__label {background-color: #d4ebff;}#sk-container-id-5 input.sk-hidden--visually {border: 0;clip: rect(1px 1px 1px 1px);clip: rect(1px, 1px, 1px, 1px);height: 1px;margin: -1px;overflow: hidden;padding: 0;position: absolute;width: 1px;}#sk-container-id-5 div.sk-estimator {font-family: monospace;background-color: #f0f8ff;border: 1px dotted black;border-radius: 0.25em;box-sizing: border-box;margin-bottom: 0.5em;}#sk-container-id-5 div.sk-estimator:hover {background-color: #d4ebff;}#sk-container-id-5 div.sk-parallel-item::after {content: \"\";width: 100%;border-bottom: 1px solid gray;flex-grow: 1;}#sk-container-id-5 div.sk-label:hover label.sk-toggleable__label {background-color: #d4ebff;}#sk-container-id-5 div.sk-serial::before {content: \"\";position: absolute;border-left: 1px solid gray;box-sizing: border-box;top: 0;bottom: 0;left: 50%;z-index: 0;}#sk-container-id-5 div.sk-serial {display: flex;flex-direction: column;align-items: center;background-color: white;padding-right: 0.2em;padding-left: 0.2em;position: relative;}#sk-container-id-5 div.sk-item {position: relative;z-index: 1;}#sk-container-id-5 div.sk-parallel {display: flex;align-items: stretch;justify-content: center;background-color: white;position: relative;}#sk-container-id-5 div.sk-item::before, #sk-container-id-5 div.sk-parallel-item::before {content: \"\";position: absolute;border-left: 1px solid gray;box-sizing: border-box;top: 0;bottom: 0;left: 50%;z-index: -1;}#sk-container-id-5 div.sk-parallel-item {display: flex;flex-direction: column;z-index: 1;position: relative;background-color: white;}#sk-container-id-5 div.sk-parallel-item:first-child::after {align-self: flex-end;width: 50%;}#sk-container-id-5 div.sk-parallel-item:last-child::after {align-self: flex-start;width: 50%;}#sk-container-id-5 div.sk-parallel-item:only-child::after {width: 0;}#sk-container-id-5 div.sk-dashed-wrapped {border: 1px dashed gray;margin: 0 0.4em 0.5em 0.4em;box-sizing: border-box;padding-bottom: 0.4em;background-color: white;}#sk-container-id-5 div.sk-label label {font-family: monospace;font-weight: bold;display: inline-block;line-height: 1.2em;}#sk-container-id-5 div.sk-label-container {text-align: center;}#sk-container-id-5 div.sk-container {/* jupyter's `normalize.less` sets `[hidden] { display: none; }` but bootstrap.min.css set `[hidden] { display: none !important; }` so we also need the `!important` here to be able to override the default hidden behavior on the sphinx rendered scikit-learn.org. See: https://github.com/scikit-learn/scikit-learn/issues/21755 */display: inline-block !important;position: relative;}#sk-container-id-5 div.sk-text-repr-fallback {display: none;}</style><div id=\"sk-container-id-5\" class=\"sk-top-container\"><div class=\"sk-text-repr-fallback\"><pre>DecisionTreeClassifier(random_state=1)</pre><b>In a Jupyter environment, please rerun this cell to show the HTML representation or trust the notebook. <br />On GitHub, the HTML representation is unable to render, please try loading this page with nbviewer.org.</b></div><div class=\"sk-container\" hidden><div class=\"sk-item\"><div class=\"sk-estimator sk-toggleable\"><input class=\"sk-toggleable__control sk-hidden--visually\" id=\"sk-estimator-id-5\" type=\"checkbox\" checked><label for=\"sk-estimator-id-5\" class=\"sk-toggleable__label sk-toggleable__label-arrow\">DecisionTreeClassifier</label><div class=\"sk-toggleable__content\"><pre>DecisionTreeClassifier(random_state=1)</pre></div></div></div></div></div>"
      ],
      "text/plain": [
       "DecisionTreeClassifier(random_state=1)"
      ]
     },
     "execution_count": 49,
     "metadata": {},
     "output_type": "execute_result"
    }
   ],
   "source": [
    "# Building decision tree model\n",
    "model_DT = DecisionTreeClassifier(random_state = 1)\n",
    "\n",
    "# Fitting decision tree model\n",
    "model_DT.fit(X_train, y_train)"
   ]
  },
  {
   "cell_type": "markdown",
   "id": "5f0ea422",
   "metadata": {},
   "source": [
    "### Model Performance Evaluation on the Train Data"
   ]
  },
  {
   "cell_type": "code",
   "execution_count": 50,
   "id": "6c4c840c",
   "metadata": {},
   "outputs": [
    {
     "name": "stdout",
     "output_type": "stream",
     "text": [
      "              precision    recall  f1-score   support\n",
      "\n",
      "           0       0.98      1.00      0.99       443\n",
      "           1       1.00      0.97      0.98       269\n",
      "\n",
      "    accuracy                           0.99       712\n",
      "   macro avg       0.99      0.98      0.99       712\n",
      "weighted avg       0.99      0.99      0.99       712\n",
      " \n",
      "\n"
     ]
    }
   ],
   "source": [
    "#Checking the model's performance using the evaluation function\n",
    "y_train_predictions_DT = model_DT.predict(X_train)\n",
    "\n",
    "#Calling the function and passing the datasets\n",
    "metrics_score(y_train, y_train_predictions_DT, False)"
   ]
  },
  {
   "cell_type": "markdown",
   "id": "5d2f3214",
   "metadata": {},
   "source": [
    "### Model Performance Evaluation on the Test Data"
   ]
  },
  {
   "cell_type": "code",
   "execution_count": 51,
   "id": "f2fbad9f",
   "metadata": {},
   "outputs": [
    {
     "name": "stdout",
     "output_type": "stream",
     "text": [
      "              precision    recall  f1-score   support\n",
      "\n",
      "           0       0.77      0.87      0.82       106\n",
      "           1       0.77      0.63      0.69        73\n",
      "\n",
      "    accuracy                           0.77       179\n",
      "   macro avg       0.77      0.75      0.75       179\n",
      "weighted avg       0.77      0.77      0.77       179\n",
      " \n",
      "\n"
     ]
    }
   ],
   "source": [
    "#Checking the model's performance using the evaluation function\n",
    "y_test_predictions_DT = model_DT.predict(X_test)\n",
    "\n",
    "#Calling the function and passing the datasets\n",
    "metrics_score(y_test, y_test_predictions_DT, False)"
   ]
  },
  {
   "cell_type": "markdown",
   "id": "6bcbd1cd",
   "metadata": {},
   "source": [
    "### Visualize the decision tree"
   ]
  },
  {
   "cell_type": "markdown",
   "id": "4ff5f5fc",
   "metadata": {},
   "source": [
    "### Important features based on the tuned decision tree"
   ]
  },
  {
   "cell_type": "code",
   "execution_count": 52,
   "id": "871ecaf5",
   "metadata": {},
   "outputs": [
    {
     "data": {
      "image/png": "[encoded data removed]",
      "text/plain": [
       "<Figure size 1200x600 with 1 Axes>"
      ]
     },
     "metadata": {},
     "output_type": "display_data"
    }
   ],
   "source": [
    "feature_names = X_train.columns\n",
    "importances = model_DT.feature_importances_\n",
    "indices = np.argsort(importances)\n",
    "\n",
    "plt.figure(figsize=myFigSize_12_6)\n",
    "plt.title(\"DT Feature Importances\",fontdict=fontTitles)\n",
    "plt.barh(range(len(indices)), importances[indices]) #, color=\"darkblue\", align=\"center\")\n",
    "plt.yticks(range(len(indices)), [feature_names[i] for i in indices])\n",
    "plt.xlabel(\"Relative Importance\",fontdict=fontAxes)\n",
    "plt.show()"
   ]
  },
  {
   "cell_type": "markdown",
   "id": "bbae5868",
   "metadata": {},
   "source": [
    "### Hyperparameter tuning using GridSearch CV\n",
    "\n",
    "**Note:** Please use the following hyperparameters provided for tuning the Decision Tree. In general, you can experiment with various hyperparameters to tune the decision tree, but for this project, we recommend sticking to the parameters provided."
   ]
  },
  {
   "cell_type": "code",
   "execution_count": 53,
   "id": "d8e619f3",
   "metadata": {},
   "outputs": [
    {
     "data": {
      "text/html": [
       "<style>#sk-container-id-6 {color: black;background-color: white;}#sk-container-id-6 pre{padding: 0;}#sk-container-id-6 div.sk-toggleable {background-color: white;}#sk-container-id-6 label.sk-toggleable__label {cursor: pointer;display: block;width: 100%;margin-bottom: 0;padding: 0.3em;box-sizing: border-box;text-align: center;}#sk-container-id-6 label.sk-toggleable__label-arrow:before {content: \"▸\";float: left;margin-right: 0.25em;color: #696969;}#sk-container-id-6 label.sk-toggleable__label-arrow:hover:before {color: black;}#sk-container-id-6 div.sk-estimator:hover label.sk-toggleable__label-arrow:before {color: black;}#sk-container-id-6 div.sk-toggleable__content {max-height: 0;max-width: 0;overflow: hidden;text-align: left;background-color: #f0f8ff;}#sk-container-id-6 div.sk-toggleable__content pre {margin: 0.2em;color: black;border-radius: 0.25em;background-color: #f0f8ff;}#sk-container-id-6 input.sk-toggleable__control:checked~div.sk-toggleable__content {max-height: 200px;max-width: 100%;overflow: auto;}#sk-container-id-6 input.sk-toggleable__control:checked~label.sk-toggleable__label-arrow:before {content: \"▾\";}#sk-container-id-6 div.sk-estimator input.sk-toggleable__control:checked~label.sk-toggleable__label {background-color: #d4ebff;}#sk-container-id-6 div.sk-label input.sk-toggleable__control:checked~label.sk-toggleable__label {background-color: #d4ebff;}#sk-container-id-6 input.sk-hidden--visually {border: 0;clip: rect(1px 1px 1px 1px);clip: rect(1px, 1px, 1px, 1px);height: 1px;margin: -1px;overflow: hidden;padding: 0;position: absolute;width: 1px;}#sk-container-id-6 div.sk-estimator {font-family: monospace;background-color: #f0f8ff;border: 1px dotted black;border-radius: 0.25em;box-sizing: border-box;margin-bottom: 0.5em;}#sk-container-id-6 div.sk-estimator:hover {background-color: #d4ebff;}#sk-container-id-6 div.sk-parallel-item::after {content: \"\";width: 100%;border-bottom: 1px solid gray;flex-grow: 1;}#sk-container-id-6 div.sk-label:hover label.sk-toggleable__label {background-color: #d4ebff;}#sk-container-id-6 div.sk-serial::before {content: \"\";position: absolute;border-left: 1px solid gray;box-sizing: border-box;top: 0;bottom: 0;left: 50%;z-index: 0;}#sk-container-id-6 div.sk-serial {display: flex;flex-direction: column;align-items: center;background-color: white;padding-right: 0.2em;padding-left: 0.2em;position: relative;}#sk-container-id-6 div.sk-item {position: relative;z-index: 1;}#sk-container-id-6 div.sk-parallel {display: flex;align-items: stretch;justify-content: center;background-color: white;position: relative;}#sk-container-id-6 div.sk-item::before, #sk-container-id-6 div.sk-parallel-item::before {content: \"\";position: absolute;border-left: 1px solid gray;box-sizing: border-box;top: 0;bottom: 0;left: 50%;z-index: -1;}#sk-container-id-6 div.sk-parallel-item {display: flex;flex-direction: column;z-index: 1;position: relative;background-color: white;}#sk-container-id-6 div.sk-parallel-item:first-child::after {align-self: flex-end;width: 50%;}#sk-container-id-6 div.sk-parallel-item:last-child::after {align-self: flex-start;width: 50%;}#sk-container-id-6 div.sk-parallel-item:only-child::after {width: 0;}#sk-container-id-6 div.sk-dashed-wrapped {border: 1px dashed gray;margin: 0 0.4em 0.5em 0.4em;box-sizing: border-box;padding-bottom: 0.4em;background-color: white;}#sk-container-id-6 div.sk-label label {font-family: monospace;font-weight: bold;display: inline-block;line-height: 1.2em;}#sk-container-id-6 div.sk-label-container {text-align: center;}#sk-container-id-6 div.sk-container {/* jupyter's `normalize.less` sets `[hidden] { display: none; }` but bootstrap.min.css set `[hidden] { display: none !important; }` so we also need the `!important` here to be able to override the default hidden behavior on the sphinx rendered scikit-learn.org. See: https://github.com/scikit-learn/scikit-learn/issues/21755 */display: inline-block !important;position: relative;}#sk-container-id-6 div.sk-text-repr-fallback {display: none;}</style><div id=\"sk-container-id-6\" class=\"sk-top-container\"><div class=\"sk-text-repr-fallback\"><pre>DecisionTreeClassifier(max_depth=4, max_leaf_nodes=50, min_samples_split=10,\n",
       "                       random_state=1)</pre><b>In a Jupyter environment, please rerun this cell to show the HTML representation or trust the notebook. <br />On GitHub, the HTML representation is unable to render, please try loading this page with nbviewer.org.</b></div><div class=\"sk-container\" hidden><div class=\"sk-item\"><div class=\"sk-estimator sk-toggleable\"><input class=\"sk-toggleable__control sk-hidden--visually\" id=\"sk-estimator-id-6\" type=\"checkbox\" checked><label for=\"sk-estimator-id-6\" class=\"sk-toggleable__label sk-toggleable__label-arrow\">DecisionTreeClassifier</label><div class=\"sk-toggleable__content\"><pre>DecisionTreeClassifier(max_depth=4, max_leaf_nodes=50, min_samples_split=10,\n",
       "                       random_state=1)</pre></div></div></div></div></div>"
      ],
      "text/plain": [
       "DecisionTreeClassifier(max_depth=4, max_leaf_nodes=50, min_samples_split=10,\n",
       "                       random_state=1)"
      ]
     },
     "execution_count": 53,
     "metadata": {},
     "output_type": "execute_result"
    }
   ],
   "source": [
    "# Choose the type of classifier.\n",
    "model_DT_estimator = DecisionTreeClassifier(random_state=1)\n",
    "\n",
    "# Grid of parameters to choose from\n",
    "parameters = {\"max_depth\": np.arange(2, 7, 2),\n",
    "              \"max_leaf_nodes\": [50, 75, 150, 250],\n",
    "              \"min_samples_split\": [10, 30, 50, 70]\n",
    "             }\n",
    "\n",
    "# Run the grid search\n",
    "grid_obj = GridSearchCV(model_DT_estimator, parameters)\n",
    "grid_obj = grid_obj.fit(X_train, y_train)\n",
    "\n",
    "# Set the clf to the best combination of parameters\n",
    "model_DT_estimator = grid_obj.best_estimator_\n",
    "\n",
    "# Fit the best algorithm to the data.\n",
    "model_DT_estimator.fit(X_train, y_train)"
   ]
  },
  {
   "cell_type": "markdown",
   "id": "a33075c4",
   "metadata": {},
   "source": [
    "### Model Performance Evaluation on the training data"
   ]
  },
  {
   "cell_type": "code",
   "execution_count": 54,
   "id": "2ca64c6c",
   "metadata": {},
   "outputs": [
    {
     "name": "stdout",
     "output_type": "stream",
     "text": [
      "              precision    recall  f1-score   support\n",
      "\n",
      "           0       0.83      0.96      0.89       443\n",
      "           1       0.92      0.67      0.77       269\n",
      "\n",
      "    accuracy                           0.85       712\n",
      "   macro avg       0.87      0.81      0.83       712\n",
      "weighted avg       0.86      0.85      0.84       712\n",
      " \n",
      "\n"
     ]
    }
   ],
   "source": [
    "#Checking the model's performance using the evaluation function\n",
    "y_train_predictions_DT_Tuned = model_DT_estimator.predict(X_train)\n",
    "\n",
    "#Calling the function and passing the datasets\n",
    "metrics_score(y_train, y_train_predictions_DT_Tuned, False)"
   ]
  },
  {
   "cell_type": "markdown",
   "id": "61f84e18",
   "metadata": {},
   "source": [
    "### Model Performance Evaluation on the test data"
   ]
  },
  {
   "cell_type": "code",
   "execution_count": 55,
   "id": "d3570c5c",
   "metadata": {},
   "outputs": [
    {
     "name": "stdout",
     "output_type": "stream",
     "text": [
      "              precision    recall  f1-score   support\n",
      "\n",
      "           0       0.75      0.94      0.84       106\n",
      "           1       0.87      0.55      0.67        73\n",
      "\n",
      "    accuracy                           0.78       179\n",
      "   macro avg       0.81      0.75      0.75       179\n",
      "weighted avg       0.80      0.78      0.77       179\n",
      " \n",
      "\n"
     ]
    }
   ],
   "source": [
    "#Checking the model's performance using the evaluation function\n",
    "y_test_predictions_DT_Tuned = model_DT_estimator.predict(X_test)\n",
    "\n",
    "#Calling the function and passing the datasets\n",
    "metrics_score(y_test, y_test_predictions_DT_Tuned, False)"
   ]
  },
  {
   "cell_type": "markdown",
   "id": "cf67c7a0",
   "metadata": {},
   "source": [
    "<a href = #construirModelos1>Back to **building models**</a>\n",
    "\n",
    "----\n",
    "\n",
    "<a name=\"randomForest\"> </a>\n",
    "\n",
    "## Random Forest\n",
    "\n",
    "### Build model\n",
    "\n",
    "Building model on *unscaled* dataset since *random forest* model don't require scaled datasets."
   ]
  },
  {
   "cell_type": "code",
   "execution_count": 56,
   "id": "0ac69cb9",
   "metadata": {},
   "outputs": [
    {
     "data": {
      "text/html": [
       "<style>#sk-container-id-7 {color: black;background-color: white;}#sk-container-id-7 pre{padding: 0;}#sk-container-id-7 div.sk-toggleable {background-color: white;}#sk-container-id-7 label.sk-toggleable__label {cursor: pointer;display: block;width: 100%;margin-bottom: 0;padding: 0.3em;box-sizing: border-box;text-align: center;}#sk-container-id-7 label.sk-toggleable__label-arrow:before {content: \"▸\";float: left;margin-right: 0.25em;color: #696969;}#sk-container-id-7 label.sk-toggleable__label-arrow:hover:before {color: black;}#sk-container-id-7 div.sk-estimator:hover label.sk-toggleable__label-arrow:before {color: black;}#sk-container-id-7 div.sk-toggleable__content {max-height: 0;max-width: 0;overflow: hidden;text-align: left;background-color: #f0f8ff;}#sk-container-id-7 div.sk-toggleable__content pre {margin: 0.2em;color: black;border-radius: 0.25em;background-color: #f0f8ff;}#sk-container-id-7 input.sk-toggleable__control:checked~div.sk-toggleable__content {max-height: 200px;max-width: 100%;overflow: auto;}#sk-container-id-7 input.sk-toggleable__control:checked~label.sk-toggleable__label-arrow:before {content: \"▾\";}#sk-container-id-7 div.sk-estimator input.sk-toggleable__control:checked~label.sk-toggleable__label {background-color: #d4ebff;}#sk-container-id-7 div.sk-label input.sk-toggleable__control:checked~label.sk-toggleable__label {background-color: #d4ebff;}#sk-container-id-7 input.sk-hidden--visually {border: 0;clip: rect(1px 1px 1px 1px);clip: rect(1px, 1px, 1px, 1px);height: 1px;margin: -1px;overflow: hidden;padding: 0;position: absolute;width: 1px;}#sk-container-id-7 div.sk-estimator {font-family: monospace;background-color: #f0f8ff;border: 1px dotted black;border-radius: 0.25em;box-sizing: border-box;margin-bottom: 0.5em;}#sk-container-id-7 div.sk-estimator:hover {background-color: #d4ebff;}#sk-container-id-7 div.sk-parallel-item::after {content: \"\";width: 100%;border-bottom: 1px solid gray;flex-grow: 1;}#sk-container-id-7 div.sk-label:hover label.sk-toggleable__label {background-color: #d4ebff;}#sk-container-id-7 div.sk-serial::before {content: \"\";position: absolute;border-left: 1px solid gray;box-sizing: border-box;top: 0;bottom: 0;left: 50%;z-index: 0;}#sk-container-id-7 div.sk-serial {display: flex;flex-direction: column;align-items: center;background-color: white;padding-right: 0.2em;padding-left: 0.2em;position: relative;}#sk-container-id-7 div.sk-item {position: relative;z-index: 1;}#sk-container-id-7 div.sk-parallel {display: flex;align-items: stretch;justify-content: center;background-color: white;position: relative;}#sk-container-id-7 div.sk-item::before, #sk-container-id-7 div.sk-parallel-item::before {content: \"\";position: absolute;border-left: 1px solid gray;box-sizing: border-box;top: 0;bottom: 0;left: 50%;z-index: -1;}#sk-container-id-7 div.sk-parallel-item {display: flex;flex-direction: column;z-index: 1;position: relative;background-color: white;}#sk-container-id-7 div.sk-parallel-item:first-child::after {align-self: flex-end;width: 50%;}#sk-container-id-7 div.sk-parallel-item:last-child::after {align-self: flex-start;width: 50%;}#sk-container-id-7 div.sk-parallel-item:only-child::after {width: 0;}#sk-container-id-7 div.sk-dashed-wrapped {border: 1px dashed gray;margin: 0 0.4em 0.5em 0.4em;box-sizing: border-box;padding-bottom: 0.4em;background-color: white;}#sk-container-id-7 div.sk-label label {font-family: monospace;font-weight: bold;display: inline-block;line-height: 1.2em;}#sk-container-id-7 div.sk-label-container {text-align: center;}#sk-container-id-7 div.sk-container {/* jupyter's `normalize.less` sets `[hidden] { display: none; }` but bootstrap.min.css set `[hidden] { display: none !important; }` so we also need the `!important` here to be able to override the default hidden behavior on the sphinx rendered scikit-learn.org. See: https://github.com/scikit-learn/scikit-learn/issues/21755 */display: inline-block !important;position: relative;}#sk-container-id-7 div.sk-text-repr-fallback {display: none;}</style><div id=\"sk-container-id-7\" class=\"sk-top-container\"><div class=\"sk-text-repr-fallback\"><pre>RandomForestClassifier(random_state=1)</pre><b>In a Jupyter environment, please rerun this cell to show the HTML representation or trust the notebook. <br />On GitHub, the HTML representation is unable to render, please try loading this page with nbviewer.org.</b></div><div class=\"sk-container\" hidden><div class=\"sk-item\"><div class=\"sk-estimator sk-toggleable\"><input class=\"sk-toggleable__control sk-hidden--visually\" id=\"sk-estimator-id-7\" type=\"checkbox\" checked><label for=\"sk-estimator-id-7\" class=\"sk-toggleable__label sk-toggleable__label-arrow\">RandomForestClassifier</label><div class=\"sk-toggleable__content\"><pre>RandomForestClassifier(random_state=1)</pre></div></div></div></div></div>"
      ],
      "text/plain": [
       "RandomForestClassifier(random_state=1)"
      ]
     },
     "execution_count": 56,
     "metadata": {},
     "output_type": "execute_result"
    }
   ],
   "source": [
    "# Building random forest model\n",
    "model_RF = RandomForestClassifier(n_estimators=100, random_state=1)\n",
    "\n",
    "# Fitting the model to the training data\n",
    "model_RF.fit(X_train, y_train)"
   ]
  },
  {
   "cell_type": "markdown",
   "id": "96a6f718",
   "metadata": {},
   "source": [
    "### Model Performance Evaluation on the training data"
   ]
  },
  {
   "cell_type": "code",
   "execution_count": 57,
   "id": "887c8d94",
   "metadata": {},
   "outputs": [
    {
     "name": "stdout",
     "output_type": "stream",
     "text": [
      "              precision    recall  f1-score   support\n",
      "\n",
      "           0       0.99      0.99      0.99       443\n",
      "           1       0.98      0.99      0.98       269\n",
      "\n",
      "    accuracy                           0.99       712\n",
      "   macro avg       0.99      0.99      0.99       712\n",
      "weighted avg       0.99      0.99      0.99       712\n",
      " \n",
      "\n"
     ]
    }
   ],
   "source": [
    "#Checking the model's performance using the evaluation function\n",
    "y_train_predictions_RF = model_RF.predict(X_train)\n",
    "\n",
    "#Calling the function and passing the datasets\n",
    "metrics_score(y_train, y_train_predictions_RF, False)"
   ]
  },
  {
   "cell_type": "markdown",
   "id": "4c2ca6e6",
   "metadata": {},
   "source": [
    "### Model Performance Evaluation on the test data"
   ]
  },
  {
   "cell_type": "code",
   "execution_count": 58,
   "id": "d17957d8",
   "metadata": {},
   "outputs": [
    {
     "name": "stdout",
     "output_type": "stream",
     "text": [
      "              precision    recall  f1-score   support\n",
      "\n",
      "           0       0.78      0.89      0.83       106\n",
      "           1       0.80      0.64      0.71        73\n",
      "\n",
      "    accuracy                           0.79       179\n",
      "   macro avg       0.79      0.77      0.77       179\n",
      "weighted avg       0.79      0.79      0.78       179\n",
      " \n",
      "\n"
     ]
    }
   ],
   "source": [
    "#Checking the model's performance using the evaluation function\n",
    "y_test_predictions_RF = model_RF.predict(X_test)\n",
    "\n",
    "#Calling the function and passing the datasets\n",
    "metrics_score(y_test, y_test_predictions_RF, False)"
   ]
  },
  {
   "cell_type": "markdown",
   "id": "e2f7bc50",
   "metadata": {},
   "source": [
    "### Important Features based on the random forest"
   ]
  },
  {
   "cell_type": "code",
   "execution_count": 60,
   "id": "8362b674",
   "metadata": {},
   "outputs": [
    {
     "data": {
      "image/png": "[encoded data removed]",
      "text/plain": [
       "<Figure size 1200x600 with 1 Axes>"
      ]
     },
     "metadata": {},
     "output_type": "display_data"
    }
   ],
   "source": [
    "feature_names = X_train.columns\n",
    "importances = model_RF.feature_importances_\n",
    "indices = np.argsort(importances)\n",
    "\n",
    "plt.figure(figsize=myFigSize_12_6)\n",
    "plt.title(\"RF Feature Importances\",fontdict=fontTitles)\n",
    "plt.barh(range(len(indices)), importances[indices]) #, color=\"darkblue\", align=\"center\")\n",
    "plt.yticks(range(len(indices)), [feature_names[i] for i in indices])\n",
    "plt.xlabel(\"Relative Importance\",fontdict=fontAxes)\n",
    "plt.show()"
   ]
  },
  {
   "cell_type": "markdown",
   "id": "5c41c116",
   "metadata": {},
   "source": [
    "## Comparison Table of Models Performance on Test Data "
   ]
  },
  {
   "cell_type": "code",
   "execution_count": 68,
   "id": "d9f0a373",
   "metadata": {
    "scrolled": false
   },
   "outputs": [
    {
     "name": "stdout",
     "output_type": "stream",
     "text": [
      "Logistic Regression:\n",
      "              precision    recall  f1-score   support\n",
      "\n",
      "           0       0.77      0.90      0.83       106\n",
      "           1       0.80      0.60      0.69        73\n",
      "\n",
      "    accuracy                           0.78       179\n",
      "   macro avg       0.78      0.75      0.76       179\n",
      "weighted avg       0.78      0.78      0.77       179\n",
      " \n",
      "\n",
      "- - - - - - - - - - - - - - - - - - - - - - - - - - - \n",
      "Logistic Regression with Optimal Threshold:\n",
      "              precision    recall  f1-score   support\n",
      "\n",
      "           0       0.83      0.85      0.84       106\n",
      "           1       0.77      0.74      0.76        73\n",
      "\n",
      "    accuracy                           0.80       179\n",
      "   macro avg       0.80      0.79      0.80       179\n",
      "weighted avg       0.80      0.80      0.80       179\n",
      " \n",
      "\n",
      "- - - - - - - - - - - - - - - - - - - - - - - - - - - \n",
      "Support Vector Machine - Linear Kernel:\n",
      "              precision    recall  f1-score   support\n",
      "\n",
      "           0       0.74      0.92      0.82       106\n",
      "           1       0.83      0.53      0.65        73\n",
      "\n",
      "    accuracy                           0.77       179\n",
      "   macro avg       0.79      0.73      0.74       179\n",
      "weighted avg       0.78      0.77      0.75       179\n",
      " \n",
      "\n",
      "- - - - - - - - - - - - - - - - - - - - - - - - - - - \n",
      "Support Vector Machine - RBF Kernel:\n",
      "              precision    recall  f1-score   support\n",
      "\n",
      "           0       0.75      0.94      0.84       106\n",
      "           1       0.87      0.55      0.67        73\n",
      "\n",
      "    accuracy                           0.78       179\n",
      "   macro avg       0.81      0.75      0.75       179\n",
      "weighted avg       0.80      0.78      0.77       179\n",
      " \n",
      "\n",
      "- - - - - - - - - - - - - - - - - - - - - - - - - - - \n",
      "Support Vector Machine with Optimal Threshold- RBF Kernel:\n",
      "              precision    recall  f1-score   support\n",
      "\n",
      "           0       0.87      0.87      0.87       443\n",
      "           1       0.78      0.78      0.78       269\n",
      "\n",
      "    accuracy                           0.83       712\n",
      "   macro avg       0.82      0.82      0.82       712\n",
      "weighted avg       0.83      0.83      0.83       712\n",
      " \n",
      "\n",
      "- - - - - - - - - - - - - - - - - - - - - - - - - - - \n",
      "K-Neighbors:\n",
      "              precision    recall  f1-score   support\n",
      "\n",
      "           0       0.78      0.89      0.83       106\n",
      "           1       0.79      0.63      0.70        73\n",
      "\n",
      "    accuracy                           0.78       179\n",
      "   macro avg       0.78      0.76      0.77       179\n",
      "weighted avg       0.78      0.78      0.78       179\n",
      " \n",
      "\n",
      "- - - - - - - - - - - - - - - - - - - - - - - - - - - \n",
      "Decision Tree:\n",
      "              precision    recall  f1-score   support\n",
      "\n",
      "           0       0.77      0.87      0.82       106\n",
      "           1       0.77      0.63      0.69        73\n",
      "\n",
      "    accuracy                           0.77       179\n",
      "   macro avg       0.77      0.75      0.75       179\n",
      "weighted avg       0.77      0.77      0.77       179\n",
      " \n",
      "\n",
      "- - - - - - - - - - - - - - - - - - - - - - - - - - - \n",
      "Decision Tree (tuned):\n",
      "              precision    recall  f1-score   support\n",
      "\n",
      "           0       0.75      0.94      0.84       106\n",
      "           1       0.87      0.55      0.67        73\n",
      "\n",
      "    accuracy                           0.78       179\n",
      "   macro avg       0.81      0.75      0.75       179\n",
      "weighted avg       0.80      0.78      0.77       179\n",
      " \n",
      "\n",
      "- - - - - - - - - - - - - - - - - - - - - - - - - - - \n",
      "Random Forest:\n",
      "              precision    recall  f1-score   support\n",
      "\n",
      "           0       0.78      0.89      0.83       106\n",
      "           1       0.80      0.64      0.71        73\n",
      "\n",
      "    accuracy                           0.79       179\n",
      "   macro avg       0.79      0.77      0.77       179\n",
      "weighted avg       0.79      0.79      0.78       179\n",
      " \n",
      "\n"
     ]
    }
   ],
   "source": [
    "# Separation line symbol\n",
    "sep_symbol = '- '\n",
    "reps = 27\n",
    "\n",
    "# Calling function for printing model metrics and scores\n",
    "print('Logistic Regression:')\n",
    "metrics_score(y_test_scaled, y_test_scaled_predictions_LG,False)   \n",
    "print(sep_symbol * reps)\n",
    "\n",
    "print('Logistic Regression with Optimal Threshold:')\n",
    "metrics_score(y_test_scaled, \n",
    "              y_test_scaled_predictions_LG_opt[:,1] > optimal_threshold_LG,False)\n",
    "print(sep_symbol * reps)\n",
    "\n",
    "print('Support Vector Machine - Linear Kernel:')\n",
    "metrics_score(y_test_scaled, y_test_scaled_predictions_SVM_lk, False)\n",
    "print(sep_symbol * reps)\n",
    "\n",
    "print('Support Vector Machine - RBF Kernel:')\n",
    "metrics_score(y_test_scaled, y_test_scaled_predictions_SVM_rbf, False)\n",
    "print(sep_symbol * reps)\n",
    "\n",
    "print('Support Vector Machine with Optimal Threshold- RBF Kernel:')\n",
    "metrics_score(y_train_scaled, \n",
    "              y_train_scaled_predictions_SVM_rbf_opt[:,1] > optimal_threshold_SVM_rbf,False)\n",
    "print(sep_symbol * reps)\n",
    "\n",
    "print('K-Neighbors:')\n",
    "metrics_score(y_test_scaled, y_test_scaled_predictions_KN, False)\n",
    "print(sep_symbol * reps)\n",
    "\n",
    "print('Decision Tree:')\n",
    "metrics_score(y_test, y_test_predictions_DT, False)\n",
    "print(sep_symbol * reps)\n",
    "\n",
    "print('Decision Tree (tuned):')\n",
    "metrics_score(y_test, y_test_predictions_DT_Tuned, False)\n",
    "print(sep_symbol * reps)\n",
    "\n",
    "print('Random Forest:')\n",
    "metrics_score(y_test, y_test_predictions_RF, False)\n",
    "\n"
   ]
  },
  {
   "cell_type": "markdown",
   "id": "672ca37a",
   "metadata": {},
   "source": [
    "<a href = #construirModelos1>Back to **building models**</a>\n",
    "\n",
    "<a href = #top>Back to top</a>\n",
    "\n",
    "----\n",
    "\n",
    "<a name=\"enviarPrediccion\"> </a> \n",
    "\n",
    "# Creating the predictions for submission"
   ]
  },
  {
   "cell_type": "markdown",
   "id": "33f92c0f",
   "metadata": {},
   "source": [
    "## Loading the dataset"
   ]
  },
  {
   "cell_type": "code",
   "execution_count": null,
   "id": "b227ab7e",
   "metadata": {},
   "outputs": [],
   "source": [
    "# Import csv file\n",
    "dataset_sbmt = pd.read_csv('test.csv', index_col=0)"
   ]
  },
  {
   "cell_type": "markdown",
   "id": "e9242ec7",
   "metadata": {},
   "source": [
    "### Validate data load"
   ]
  },
  {
   "cell_type": "code",
   "execution_count": null,
   "id": "e0a2e690",
   "metadata": {},
   "outputs": [],
   "source": [
    "dataset_sbmt.sample(n=5,random_state=1)"
   ]
  },
  {
   "cell_type": "markdown",
   "id": "cda0ebc5",
   "metadata": {},
   "source": [
    "## Reshaping the dataset to modelling inputs"
   ]
  },
  {
   "cell_type": "code",
   "execution_count": null,
   "id": "3f72918c",
   "metadata": {},
   "outputs": [],
   "source": [
    "dataset_sbmt = addAgeBins(dataset_sbmt)\n",
    "\n",
    "dataset_sbmt.sample(n=5,random_state=1)"
   ]
  },
  {
   "cell_type": "markdown",
   "id": "98ac0c93",
   "metadata": {},
   "source": [
    "## Filling Missing Values"
   ]
  },
  {
   "cell_type": "code",
   "execution_count": null,
   "id": "94b2d2e8",
   "metadata": {},
   "outputs": [],
   "source": [
    "dataset_sbmt = fillingMissingValues(dataset_sbmt)\n",
    "\n",
    "dataset_sbmt.sample(n=5,random_state=1)"
   ]
  },
  {
   "cell_type": "markdown",
   "id": "ae0be72c",
   "metadata": {},
   "source": [
    "## Adding engineered feature"
   ]
  },
  {
   "cell_type": "code",
   "execution_count": null,
   "id": "acd272fa",
   "metadata": {},
   "outputs": [],
   "source": [
    "dataset_sbmt['SurvProba'] = dataset_sbmt.apply(survivalProbability,axis=1)\n",
    "\n",
    "dataset_sbmt.sample(n=5,random_state=1)"
   ]
  },
  {
   "cell_type": "markdown",
   "id": "7021c755",
   "metadata": {},
   "source": [
    "## Transforming imported training dataset for modelling\n",
    "\n",
    "Creating dataset to be used for the models training."
   ]
  },
  {
   "cell_type": "markdown",
   "id": "18f39482",
   "metadata": {},
   "source": [
    "### Dropping features not relevant for modelling"
   ]
  },
  {
   "cell_type": "code",
   "execution_count": null,
   "id": "4e545976",
   "metadata": {},
   "outputs": [],
   "source": [
    "# Dropping features\n",
    "dataset_models_sbmt = dataset_sbmt.drop(['Name','Cabin','Fare','Ticket','Age_bin'],axis=1) #,inplace=True)\n",
    "\n",
    "dataset_models_sbmt.sample(n=5,random_state=1)"
   ]
  },
  {
   "cell_type": "markdown",
   "id": "1e81561b",
   "metadata": {},
   "source": [
    "### Encoding and mapping categorical columns "
   ]
  },
  {
   "cell_type": "code",
   "execution_count": null,
   "id": "6869abcf",
   "metadata": {},
   "outputs": [],
   "source": [
    "# Mapping sex feature\n",
    "dictSex = {'male': 1, 'female' : 0}\n",
    "\n",
    "dataset_models_sbmt.Sex = dataset_models_sbmt.Sex.map(dictSex)\n",
    "\n",
    "dataset_models_sbmt.sample(n=5,random_state=1)"
   ]
  },
  {
   "cell_type": "code",
   "execution_count": null,
   "id": "cac80f08",
   "metadata": {},
   "outputs": [],
   "source": [
    "# Creating dummy variables\n",
    "dataset_models_sbmt = pd.get_dummies(data = dataset_models_sbmt, \n",
    "                                 columns = ['Embarked'], \n",
    "                                 drop_first = True)\n",
    "\n",
    "dataset_models_sbmt.sample(n=5,random_state=1)"
   ]
  },
  {
   "cell_type": "markdown",
   "id": "4695f08f",
   "metadata": {},
   "source": [
    "### Splitting features from target variable\n",
    "\n",
    "Current datasets columns list."
   ]
  },
  {
   "cell_type": "code",
   "execution_count": null,
   "id": "56795c69",
   "metadata": {
    "scrolled": true
   },
   "outputs": [],
   "source": [
    "# Features dataset\n",
    "X_sbmt = dataset_models_sbmt.copy(deep=True)\n",
    "\n",
    "X_sbmt.sample(n=5,random_state=1)"
   ]
  },
  {
   "cell_type": "markdown",
   "id": "beaad1e7",
   "metadata": {},
   "source": [
    "### Checking dataset shape"
   ]
  },
  {
   "cell_type": "code",
   "execution_count": null,
   "id": "03f89ef8",
   "metadata": {},
   "outputs": [],
   "source": [
    "print('X: ',X_sbmt.shape)"
   ]
  },
  {
   "cell_type": "markdown",
   "id": "fda38121",
   "metadata": {},
   "source": [
    "## Create scaled training and test datasets\n",
    "\n",
    "We will scale the data for predicting with the **Logistic Regression** and **SVM**.  \n",
    "\n",
    "### Scaling features (X)"
   ]
  },
  {
   "cell_type": "code",
   "execution_count": null,
   "id": "b88e4bee",
   "metadata": {},
   "outputs": [],
   "source": [
    "# Scaling training dataset\n",
    "X_sbmt_scaled = pd.DataFrame(scaler.fit_transform(X_sbmt), \n",
    "                             index=X_sbmt.index,\n",
    "                             columns=X_sbmt.columns)\n",
    "\n",
    "X_sbmt_scaled.sample(n=5,random_state=1)"
   ]
  },
  {
   "cell_type": "markdown",
   "id": "82ee4c88",
   "metadata": {},
   "source": [
    "## Visually validate training datasets with submitting dataset\n",
    "\n",
    "### Datasets (not scaled)\n",
    "\n",
    "#### Training modelling"
   ]
  },
  {
   "cell_type": "code",
   "execution_count": null,
   "id": "f24bba5c",
   "metadata": {},
   "outputs": [],
   "source": [
    "X.sample(n=5,random_state=1)"
   ]
  },
  {
   "cell_type": "markdown",
   "id": "83f01f9d",
   "metadata": {},
   "source": [
    "#### Prediction submitting"
   ]
  },
  {
   "cell_type": "code",
   "execution_count": null,
   "id": "c1138566",
   "metadata": {},
   "outputs": [],
   "source": [
    "X_sbmt.sample(n=5,random_state=1)"
   ]
  },
  {
   "cell_type": "markdown",
   "id": "d74582d1",
   "metadata": {},
   "source": [
    "### Datasets (scaled)\n",
    "\n",
    "#### Training modelling"
   ]
  },
  {
   "cell_type": "code",
   "execution_count": null,
   "id": "9d05f3f2",
   "metadata": {},
   "outputs": [],
   "source": [
    "X_scaled.sample(n=5,random_state=1)"
   ]
  },
  {
   "cell_type": "markdown",
   "id": "6a7e92ed",
   "metadata": {},
   "source": [
    "#### Prediction submitting"
   ]
  },
  {
   "cell_type": "code",
   "execution_count": null,
   "id": "cf834548",
   "metadata": {},
   "outputs": [],
   "source": [
    "X_sbmt_scaled.sample(n=5,random_state=1)"
   ]
  },
  {
   "cell_type": "markdown",
   "id": "7c2461a6",
   "metadata": {},
   "source": [
    "## Create predictions using submitting dataset\n",
    "\n",
    "### Logistic Regression Model"
   ]
  },
  {
   "cell_type": "code",
   "execution_count": null,
   "id": "59d5e63d",
   "metadata": {},
   "outputs": [],
   "source": [
    "y_sbmt_LG = model_LG.predict(X_sbmt_scaled)\n",
    "\n",
    "# Composing the predictions dataset\n",
    "dataset_prediction_LG = pd.DataFrame({\"PassengerId\":dataset_sbmt.index,\n",
    "                                       \"Survived\":y_sbmt_LG})\n",
    "\n",
    "dataset_prediction_LG"
   ]
  },
  {
   "cell_type": "markdown",
   "id": "1366aab4",
   "metadata": {},
   "source": [
    "### Random Forest Model"
   ]
  },
  {
   "cell_type": "code",
   "execution_count": null,
   "id": "fc7d02c5",
   "metadata": {},
   "outputs": [],
   "source": [
    "y_sbmt_RF = model_RF.predict(X_sbmt)\n",
    "\n",
    "# Composing the predictions dataset\n",
    "dataset_prediction_RF = pd.DataFrame({\"PassengerId\":dataset_sbmt.index,\n",
    "                                       \"Survived\":y_sbmt_RF})\n",
    "\n",
    "dataset_prediction_RF"
   ]
  },
  {
   "cell_type": "markdown",
   "id": "c29bc616",
   "metadata": {},
   "source": [
    "## Export predictions to '.csv' file\n",
    "\n",
    "### Logistic Regression Model"
   ]
  },
  {
   "cell_type": "code",
   "execution_count": null,
   "id": "eb977d7c",
   "metadata": {},
   "outputs": [],
   "source": [
    "dataset_prediction_LG.to_csv('y_predictions_LG.csv',index=False)"
   ]
  },
  {
   "cell_type": "markdown",
   "id": "17f94639",
   "metadata": {},
   "source": [
    "### Random Forest Model"
   ]
  },
  {
   "cell_type": "code",
   "execution_count": null,
   "id": "c093d2bb",
   "metadata": {},
   "outputs": [],
   "source": [
    "dataset_prediction_RF.to_csv('y_predictions_RF.csv',index=False)"
   ]
  },
  {
   "cell_type": "markdown",
   "id": "10ec395a",
   "metadata": {},
   "source": [
    "<a href = #top>Back to top</a>\n",
    "\n",
    "----\n",
    "\n",
    "<a name=\"exportarModelos\"> </a>\n",
    "\n",
    "# Export Datasets for ANN Modelling\n",
    "\n",
    "## Training Datasets"
   ]
  },
  {
   "cell_type": "code",
   "execution_count": null,
   "id": "4b28cbd8",
   "metadata": {},
   "outputs": [],
   "source": [
    "# X & y dataset split: X_train, X_test, y_train, y_test\n",
    "# X_scaled & y_scaled dataset split: X_train_scaled, X_test_scaled, y_train_scaled, y_test_scaled\n",
    "\n",
    "X_train.to_csv(\"X_train.csv\")\n",
    "\n",
    "X_train_scaled.to_csv(\"X_train_scaled.csv\")\n",
    "\n",
    "y_train.to_csv(\"y_train.csv\")\n",
    "\n",
    "print('Datasets shapes:\\n', '-' * 80)\n",
    "print('X Train:          ', X_train.shape)\n",
    "print('X Train (scaled): ', X_train_scaled.shape)\n",
    "print('Y Train:          ', y_train.shape)"
   ]
  },
  {
   "cell_type": "markdown",
   "id": "a284e0ec",
   "metadata": {},
   "source": [
    "## Test Datasets"
   ]
  },
  {
   "cell_type": "code",
   "execution_count": null,
   "id": "bef8f8c1",
   "metadata": {},
   "outputs": [],
   "source": [
    "X_test.to_csv(\"X_test.csv\")\n",
    "\n",
    "X_test_scaled.to_csv(\"X_test_scaled.csv\")\n",
    "\n",
    "y_test.to_csv(\"y_test.csv\")\n",
    "\n",
    "print('Datasets shapes:\\n', '-' * 80)\n",
    "print('X Test:          ', X_test.shape)\n",
    "print('X Test (scaled): ', X_test_scaled.shape)\n",
    "print('Y Test:          ', y_test.shape)"
   ]
  },
  {
   "cell_type": "markdown",
   "id": "d1410d78",
   "metadata": {},
   "source": [
    "## Submission Dataset\n",
    "\n",
    "If the final submission dataset features are different from the originally uploaded submission dataset for prediction, then this dataset also needs to be exported for the ANN model."
   ]
  },
  {
   "cell_type": "code",
   "execution_count": null,
   "id": "7b91d776",
   "metadata": {},
   "outputs": [],
   "source": [
    "X_sbmt.to_csv(\"X_sbmt.csv\")\n",
    "\n",
    "X_sbmt_scaled.to_csv(\"X_sbmt_scaled.csv\")\n",
    "\n",
    "print('Datasets shapes:\\n', '-' * 80)\n",
    "print('X Submission:          ', X_sbmt.shape)\n",
    "print('X Submission (scaled): ', X_sbmt_scaled.shape)"
   ]
  },
  {
   "cell_type": "markdown",
   "id": "70b628b1",
   "metadata": {},
   "source": [
    "<a href = #top>Back to top</a>\n",
    "\n",
    "----\n",
    "\n",
    "<a name=\"implementarModelos\"> </a>\n",
    "\n",
    "# Model Deployment\n",
    "\n",
    "## Import additional libraries"
   ]
  },
  {
   "cell_type": "code",
   "execution_count": null,
   "id": "783da3e4",
   "metadata": {},
   "outputs": [],
   "source": []
  },
  {
   "cell_type": "markdown",
   "id": "9f85cd30",
   "metadata": {},
   "source": [
    "## Create the model pipeline\n",
    "\n",
    "### Identify transformations"
   ]
  },
  {
   "cell_type": "code",
   "execution_count": null,
   "id": "501729ab",
   "metadata": {},
   "outputs": [],
   "source": []
  },
  {
   "cell_type": "markdown",
   "id": "031da545",
   "metadata": {},
   "source": [
    "### Define column transformations"
   ]
  },
  {
   "cell_type": "code",
   "execution_count": null,
   "id": "c1b12f6f",
   "metadata": {},
   "outputs": [],
   "source": [
    "myColumnTransformer = make_column_transformer((StandardScaler(),numeric),\n",
    "                                              #('PassThrough',passthrough),\n",
    "                                              remainder='passthrough'\n",
    "                                             )\n",
    "\n",
    "myColumnTransformer"
   ]
  },
  {
   "cell_type": "markdown",
   "id": "5d4c962b",
   "metadata": {},
   "source": [
    "### Assembling the model pipeline"
   ]
  },
  {
   "cell_type": "code",
   "execution_count": null,
   "id": "6f4b0c8b",
   "metadata": {},
   "outputs": [],
   "source": [
    "myModelPipeline = make_pipeline(myColumnTransformer, \n",
    "                                #Use best performance model\n",
    "                                tree.DecisionTreeRegressor()\n",
    "                               )\n",
    "\n",
    "myModelPipeline"
   ]
  },
  {
   "cell_type": "markdown",
   "id": "0c9c6dfe",
   "metadata": {},
   "source": [
    "### Training the model pipeline"
   ]
  },
  {
   "cell_type": "code",
   "execution_count": null,
   "id": "1811dd3d",
   "metadata": {},
   "outputs": [],
   "source": [
    "myModelPipeline.fit(X_train,y_train)"
   ]
  },
  {
   "cell_type": "markdown",
   "id": "d46f1e8f",
   "metadata": {},
   "source": [
    "### Validate model's predictions"
   ]
  },
  {
   "cell_type": "code",
   "execution_count": null,
   "id": "b70563b0",
   "metadata": {},
   "outputs": [],
   "source": [
    "myModelPipeline.predict(X_train)"
   ]
  },
  {
   "cell_type": "markdown",
   "id": "299b40ed",
   "metadata": {},
   "source": [
    "## Model Serialization"
   ]
  },
  {
   "cell_type": "code",
   "execution_count": null,
   "id": "276ba197",
   "metadata": {},
   "outputs": [],
   "source": [
    "# Defining path to save the model\n",
    "model_path = 'models/dt_model-v1.joblib'\n",
    "\n",
    "# Create models folder. Exception will be thrown if folder already exists\n",
    "try:\n",
    "    os.mkdir('models')\n",
    "except OSError as exception\n",
    "    print(exception)\n",
    "\n",
    "# Saving the model to the path as a binary file\n",
    "joblib.dump(myModelPipeline, model_path, )\n",
    "\n",
    "print('Model Size (MB):', (os.path.getsize(model_path)/1000000))"
   ]
  },
  {
   "cell_type": "markdown",
   "id": "ffdbf024",
   "metadata": {},
   "source": [
    "### Validating the saved model"
   ]
  },
  {
   "cell_type": "code",
   "execution_count": null,
   "id": "7dd7c178",
   "metadata": {},
   "outputs": [],
   "source": [
    "wait_predictor = joblib.load(model_path)\n",
    "\n",
    "wait_predictor"
   ]
  },
  {
   "cell_type": "markdown",
   "id": "0969ee12",
   "metadata": {},
   "source": [
    "## Interface Deployment Test\n",
    "\n",
    "### Server response function"
   ]
  },
  {
   "cell_type": "code",
   "execution_count": null,
   "id": "4ebc2d70",
   "metadata": {},
   "outputs": [],
   "source": [
    "def get_wait_prediction('features of UI to feed into the model'):\n",
    "    # Convert UI features to values\n",
    "    # Convert Dropdown string to value\n",
    "    if (Alternative == 'No'):\n",
    "        Alt = 0\n",
    "    else:\n",
    "        Alt = 1\n",
    "    (...)\n",
    "    # Access values of the individual features from the inputs passed in \n",
    "    # by the user. Map these features to a dictionary with key-value pairs \n",
    "    # of the columns expected by the model.\n",
    "    sample = {'Feature Value 1' : Alt,\n",
    "              'HasBar' : Bar, \n",
    "              'IsFriSat' : Fri,\n",
    "              'IsHungry' : Hun, \n",
    "              'CrowdPatron' : Pat,\n",
    "              'PriceRng' : Price, \n",
    "              'IsRain' : Rain,\n",
    "              'HasReservation' : Res,\n",
    "              'RestType' : Type,\n",
    "              'WaitEstimate' : Est}\n",
    "\n",
    "    # Create a data frame with one row containing the values of the features\n",
    "    # assembled from the dictionary created above. The shape of this data frame\n",
    "    # is 1 x 10\n",
    "    data_point = pd.DataFrame([sample])\n",
    "\n",
    "    # pass the data frame to the model (price_predictor) and convert the \n",
    "    # output (a numpy array) to a Python list. Remember that Gradio does not\n",
    "    # understand a numpy type. Hence this conversion.\n",
    "\n",
    "    prediction = wait_predictor.predict(data_point).tolist()\n",
    "    # return a response with the prediction from the model. \n",
    "    #return prediction[0]    \n",
    "    if (prediction[0] == 1):\n",
    "        return 'Yes'\n",
    "    else:\n",
    "        return 'No'"
   ]
  },
  {
   "cell_type": "markdown",
   "id": "55727c37",
   "metadata": {},
   "source": [
    "### Configure Gradio Interface and Launch to Test"
   ]
  },
  {
   "cell_type": "code",
   "execution_count": null,
   "id": "3cb9006b",
   "metadata": {},
   "outputs": [],
   "source": [
    "wait_demo = gr.Interface(fn=get_wait_prediction, \n",
    "             inputs= #'text',\n",
    "             [\n",
    "                 #gr.inputs.Textbox(type='number',default=1,label='Hay alternativa (No = 0, Sí = 1)'),\n",
    "                 gr.inputs.Dropdown(['No','Yes'],\n",
    "                                    default='No',\n",
    "                                    label='Is there an alternative option?'),\n",
    "                 gr.inputs.Dropdown(['No','Yes'],\n",
    "                                    default='No',\n",
    "                                    label='Has a bar area to wait?'),\n",
    "                 gr.inputs.Dropdown(['No','Yes'],\n",
    "                                    default='No',\n",
    "                                    label='Is it Friday or Saturday?'),\n",
    "                 gr.inputs.Dropdown(['No','Yes'],\n",
    "                                    default='No',\n",
    "                                    label='Is the customer hungry?'),\n",
    "                 gr.inputs.Dropdown(['No','Some','Full'],\n",
    "                                    default='No',\n",
    "                                    label='Is the restaurant crowded?'),\n",
    "                 gr.inputs.Dropdown(['Low','Medium','High'],\n",
    "                                    default='Low',\n",
    "                                    label='Price rate:'),\n",
    "                 gr.inputs.Dropdown(['No','Yes'],\n",
    "                                    default='No',\n",
    "                                    label='Is it raining?'),\n",
    "                 gr.inputs.Dropdown(['No','Yes'],\n",
    "                                    default='No',\n",
    "                                    label='Has the customer a reservation?'),\n",
    "                 gr.inputs.Dropdown(['French','Thai','Italian','Burger'],\n",
    "                                    default='French',\n",
    "                                    label='Restaurant Type?'),\n",
    "                 gr.inputs.Dropdown(['0 to 10','11 to 30','31 to 60','More than 60'],\n",
    "                                    default='0 to 10',\n",
    "                                    label='Wait estimate in minutes:')\n",
    "             ],                          \n",
    "             outputs=gr.outputs.Textbox(label='Will the customer wait?'), \n",
    "             #gr.outputs.Textbox, #'text', #output,\n",
    "             description='This model predicts if a customer at a restaurant will wait to be seated depending on the following conditions list.\\n\\nPlease fill each condition selecting from the provided options to estimate if the customer will wait or not.\\n\\nDeveloped & deployed: franz.ulrich@gmail.com',\n",
    "             title='Restaurant\\'s Customer Wait Prediction Model', \n",
    "             theme='darkhuggingface')\n",
    "\n",
    "wait_demo.launch()"
   ]
  },
  {
   "cell_type": "markdown",
   "id": "f3c78c02",
   "metadata": {},
   "source": [
    "<a href = #top>Back to top</a>"
   ]
  }
 ],
 "metadata": {
  "kernelspec": {
   "display_name": "Python 3 (ipykernel)",
   "language": "python",
   "name": "python3"
  },
  "language_info": {
   "codemirror_mode": {
    "name": "ipython",
    "version": 3
   },
   "file_extension": ".py",
   "mimetype": "text/x-python",
   "name": "python",
   "nbconvert_exporter": "python",
   "pygments_lexer": "ipython3",
   "version": "3.11.1"
  }
 },
 "nbformat": 4,
 "nbformat_minor": 5
}
